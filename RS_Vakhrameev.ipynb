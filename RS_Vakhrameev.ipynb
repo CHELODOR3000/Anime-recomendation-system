{
  "nbformat": 4,
  "nbformat_minor": 0,
  "metadata": {
    "colab": {
      "name": "RS_Vakhrameev.ipynb",
      "provenance": [],
      "collapsed_sections": [
        "XoH48wR8Miih"
      ]
    },
    "kernelspec": {
      "name": "python3",
      "display_name": "Python 3"
    },
    "language_info": {
      "name": "python"
    },
    "widgets": {
      "application/vnd.jupyter.widget-state+json": {
        "dce375fc5b69406d88fee22acccb7a95": {
          "model_module": "@jupyter-widgets/controls",
          "model_name": "HBoxModel",
          "model_module_version": "1.5.0",
          "state": {
            "_dom_classes": [],
            "_model_module": "@jupyter-widgets/controls",
            "_model_module_version": "1.5.0",
            "_model_name": "HBoxModel",
            "_view_count": null,
            "_view_module": "@jupyter-widgets/controls",
            "_view_module_version": "1.5.0",
            "_view_name": "HBoxView",
            "box_style": "",
            "children": [
              "IPY_MODEL_57127d1e0d5e41038c325d780af1749a",
              "IPY_MODEL_a316265bb97c401f807e7f20329930ab",
              "IPY_MODEL_0e9643614a5b45209d8e6a90f1aea0aa"
            ],
            "layout": "IPY_MODEL_8df49f52558449eca21ba6bbc757f500"
          }
        },
        "57127d1e0d5e41038c325d780af1749a": {
          "model_module": "@jupyter-widgets/controls",
          "model_name": "HTMLModel",
          "model_module_version": "1.5.0",
          "state": {
            "_dom_classes": [],
            "_model_module": "@jupyter-widgets/controls",
            "_model_module_version": "1.5.0",
            "_model_name": "HTMLModel",
            "_view_count": null,
            "_view_module": "@jupyter-widgets/controls",
            "_view_module_version": "1.5.0",
            "_view_name": "HTMLView",
            "description": "",
            "description_tooltip": null,
            "layout": "IPY_MODEL_88fc043b0cf947bebbd8f128126c6a18",
            "placeholder": "​",
            "style": "IPY_MODEL_3b92b6e089a4435da9be8485a2eb8d3a",
            "value": "100%"
          }
        },
        "a316265bb97c401f807e7f20329930ab": {
          "model_module": "@jupyter-widgets/controls",
          "model_name": "FloatProgressModel",
          "model_module_version": "1.5.0",
          "state": {
            "_dom_classes": [],
            "_model_module": "@jupyter-widgets/controls",
            "_model_module_version": "1.5.0",
            "_model_name": "FloatProgressModel",
            "_view_count": null,
            "_view_module": "@jupyter-widgets/controls",
            "_view_module_version": "1.5.0",
            "_view_name": "ProgressView",
            "bar_style": "success",
            "description": "",
            "description_tooltip": null,
            "layout": "IPY_MODEL_d228c2a0ad364f14a62a3bb58c88df43",
            "max": 15,
            "min": 0,
            "orientation": "horizontal",
            "style": "IPY_MODEL_5c698892179c4744a73e78dd9a080c35",
            "value": 15
          }
        },
        "0e9643614a5b45209d8e6a90f1aea0aa": {
          "model_module": "@jupyter-widgets/controls",
          "model_name": "HTMLModel",
          "model_module_version": "1.5.0",
          "state": {
            "_dom_classes": [],
            "_model_module": "@jupyter-widgets/controls",
            "_model_module_version": "1.5.0",
            "_model_name": "HTMLModel",
            "_view_count": null,
            "_view_module": "@jupyter-widgets/controls",
            "_view_module_version": "1.5.0",
            "_view_name": "HTMLView",
            "description": "",
            "description_tooltip": null,
            "layout": "IPY_MODEL_dc1f6833143a4cf7b04d19bcbdb8c1c2",
            "placeholder": "​",
            "style": "IPY_MODEL_2bbdb79d927e4e2f81633e08731efad6",
            "value": " 15/15 [00:01&lt;00:00,  9.77it/s]"
          }
        },
        "8df49f52558449eca21ba6bbc757f500": {
          "model_module": "@jupyter-widgets/base",
          "model_name": "LayoutModel",
          "model_module_version": "1.2.0",
          "state": {
            "_model_module": "@jupyter-widgets/base",
            "_model_module_version": "1.2.0",
            "_model_name": "LayoutModel",
            "_view_count": null,
            "_view_module": "@jupyter-widgets/base",
            "_view_module_version": "1.2.0",
            "_view_name": "LayoutView",
            "align_content": null,
            "align_items": null,
            "align_self": null,
            "border": null,
            "bottom": null,
            "display": null,
            "flex": null,
            "flex_flow": null,
            "grid_area": null,
            "grid_auto_columns": null,
            "grid_auto_flow": null,
            "grid_auto_rows": null,
            "grid_column": null,
            "grid_gap": null,
            "grid_row": null,
            "grid_template_areas": null,
            "grid_template_columns": null,
            "grid_template_rows": null,
            "height": null,
            "justify_content": null,
            "justify_items": null,
            "left": null,
            "margin": null,
            "max_height": null,
            "max_width": null,
            "min_height": null,
            "min_width": null,
            "object_fit": null,
            "object_position": null,
            "order": null,
            "overflow": null,
            "overflow_x": null,
            "overflow_y": null,
            "padding": null,
            "right": null,
            "top": null,
            "visibility": null,
            "width": null
          }
        },
        "88fc043b0cf947bebbd8f128126c6a18": {
          "model_module": "@jupyter-widgets/base",
          "model_name": "LayoutModel",
          "model_module_version": "1.2.0",
          "state": {
            "_model_module": "@jupyter-widgets/base",
            "_model_module_version": "1.2.0",
            "_model_name": "LayoutModel",
            "_view_count": null,
            "_view_module": "@jupyter-widgets/base",
            "_view_module_version": "1.2.0",
            "_view_name": "LayoutView",
            "align_content": null,
            "align_items": null,
            "align_self": null,
            "border": null,
            "bottom": null,
            "display": null,
            "flex": null,
            "flex_flow": null,
            "grid_area": null,
            "grid_auto_columns": null,
            "grid_auto_flow": null,
            "grid_auto_rows": null,
            "grid_column": null,
            "grid_gap": null,
            "grid_row": null,
            "grid_template_areas": null,
            "grid_template_columns": null,
            "grid_template_rows": null,
            "height": null,
            "justify_content": null,
            "justify_items": null,
            "left": null,
            "margin": null,
            "max_height": null,
            "max_width": null,
            "min_height": null,
            "min_width": null,
            "object_fit": null,
            "object_position": null,
            "order": null,
            "overflow": null,
            "overflow_x": null,
            "overflow_y": null,
            "padding": null,
            "right": null,
            "top": null,
            "visibility": null,
            "width": null
          }
        },
        "3b92b6e089a4435da9be8485a2eb8d3a": {
          "model_module": "@jupyter-widgets/controls",
          "model_name": "DescriptionStyleModel",
          "model_module_version": "1.5.0",
          "state": {
            "_model_module": "@jupyter-widgets/controls",
            "_model_module_version": "1.5.0",
            "_model_name": "DescriptionStyleModel",
            "_view_count": null,
            "_view_module": "@jupyter-widgets/base",
            "_view_module_version": "1.2.0",
            "_view_name": "StyleView",
            "description_width": ""
          }
        },
        "d228c2a0ad364f14a62a3bb58c88df43": {
          "model_module": "@jupyter-widgets/base",
          "model_name": "LayoutModel",
          "model_module_version": "1.2.0",
          "state": {
            "_model_module": "@jupyter-widgets/base",
            "_model_module_version": "1.2.0",
            "_model_name": "LayoutModel",
            "_view_count": null,
            "_view_module": "@jupyter-widgets/base",
            "_view_module_version": "1.2.0",
            "_view_name": "LayoutView",
            "align_content": null,
            "align_items": null,
            "align_self": null,
            "border": null,
            "bottom": null,
            "display": null,
            "flex": null,
            "flex_flow": null,
            "grid_area": null,
            "grid_auto_columns": null,
            "grid_auto_flow": null,
            "grid_auto_rows": null,
            "grid_column": null,
            "grid_gap": null,
            "grid_row": null,
            "grid_template_areas": null,
            "grid_template_columns": null,
            "grid_template_rows": null,
            "height": null,
            "justify_content": null,
            "justify_items": null,
            "left": null,
            "margin": null,
            "max_height": null,
            "max_width": null,
            "min_height": null,
            "min_width": null,
            "object_fit": null,
            "object_position": null,
            "order": null,
            "overflow": null,
            "overflow_x": null,
            "overflow_y": null,
            "padding": null,
            "right": null,
            "top": null,
            "visibility": null,
            "width": null
          }
        },
        "5c698892179c4744a73e78dd9a080c35": {
          "model_module": "@jupyter-widgets/controls",
          "model_name": "ProgressStyleModel",
          "model_module_version": "1.5.0",
          "state": {
            "_model_module": "@jupyter-widgets/controls",
            "_model_module_version": "1.5.0",
            "_model_name": "ProgressStyleModel",
            "_view_count": null,
            "_view_module": "@jupyter-widgets/base",
            "_view_module_version": "1.2.0",
            "_view_name": "StyleView",
            "bar_color": null,
            "description_width": ""
          }
        },
        "dc1f6833143a4cf7b04d19bcbdb8c1c2": {
          "model_module": "@jupyter-widgets/base",
          "model_name": "LayoutModel",
          "model_module_version": "1.2.0",
          "state": {
            "_model_module": "@jupyter-widgets/base",
            "_model_module_version": "1.2.0",
            "_model_name": "LayoutModel",
            "_view_count": null,
            "_view_module": "@jupyter-widgets/base",
            "_view_module_version": "1.2.0",
            "_view_name": "LayoutView",
            "align_content": null,
            "align_items": null,
            "align_self": null,
            "border": null,
            "bottom": null,
            "display": null,
            "flex": null,
            "flex_flow": null,
            "grid_area": null,
            "grid_auto_columns": null,
            "grid_auto_flow": null,
            "grid_auto_rows": null,
            "grid_column": null,
            "grid_gap": null,
            "grid_row": null,
            "grid_template_areas": null,
            "grid_template_columns": null,
            "grid_template_rows": null,
            "height": null,
            "justify_content": null,
            "justify_items": null,
            "left": null,
            "margin": null,
            "max_height": null,
            "max_width": null,
            "min_height": null,
            "min_width": null,
            "object_fit": null,
            "object_position": null,
            "order": null,
            "overflow": null,
            "overflow_x": null,
            "overflow_y": null,
            "padding": null,
            "right": null,
            "top": null,
            "visibility": null,
            "width": null
          }
        },
        "2bbdb79d927e4e2f81633e08731efad6": {
          "model_module": "@jupyter-widgets/controls",
          "model_name": "DescriptionStyleModel",
          "model_module_version": "1.5.0",
          "state": {
            "_model_module": "@jupyter-widgets/controls",
            "_model_module_version": "1.5.0",
            "_model_name": "DescriptionStyleModel",
            "_view_count": null,
            "_view_module": "@jupyter-widgets/base",
            "_view_module_version": "1.2.0",
            "_view_name": "StyleView",
            "description_width": ""
          }
        }
      }
    }
  },
  "cells": [
    {
      "cell_type": "code",
      "source": [
        "from google.colab import drive\n",
        "drive.mount('/content/drive', force_remount=True)"
      ],
      "metadata": {
        "colab": {
          "base_uri": "https://localhost:8080/"
        },
        "id": "4k7cBHkecInU",
        "outputId": "28f5904c-2845-4352-d9a5-6cdf00961da9"
      },
      "execution_count": null,
      "outputs": [
        {
          "output_type": "stream",
          "name": "stdout",
          "text": [
            "Mounted at /content/drive\n"
          ]
        }
      ]
    },
    {
      "cell_type": "code",
      "execution_count": null,
      "metadata": {
        "id": "E6s170-7cFDb"
      },
      "outputs": [],
      "source": [
        "import zipfile\n",
        "import pandas as pd\n",
        "import numpy as np\n",
        "import matplotlib.pyplot as plt\n",
        "import seaborn as sns"
      ]
    },
    {
      "cell_type": "code",
      "source": [
        "zip_file = '/content/drive/MyDrive/Майнор ИАД/2022Лаб4ИАД/RS_anime.zip'"
      ],
      "metadata": {
        "id": "LPWUX4LncIlF"
      },
      "execution_count": null,
      "outputs": []
    },
    {
      "cell_type": "code",
      "source": [
        "z = zipfile.ZipFile(zip_file, 'r')\n",
        "z.extractall()"
      ],
      "metadata": {
        "id": "DSUx-TOncIi1"
      },
      "execution_count": null,
      "outputs": []
    },
    {
      "cell_type": "code",
      "source": [
        "anime_df = pd.read_csv('/content/anime.csv')\n",
        "anime_df.head()"
      ],
      "metadata": {
        "colab": {
          "base_uri": "https://localhost:8080/",
          "height": 206
        },
        "id": "kf4f7CZ2iIyK",
        "outputId": "cc7fdf94-1905-4f64-e157-d2de0fa12ba6"
      },
      "execution_count": null,
      "outputs": [
        {
          "output_type": "execute_result",
          "data": {
            "text/plain": [
              "   anime_id                              name  \\\n",
              "0     32281                    Kimi no Na wa.   \n",
              "1      5114  Fullmetal Alchemist: Brotherhood   \n",
              "2     28977                          Gintama°   \n",
              "3      9253                       Steins;Gate   \n",
              "4      9969                     Gintama&#039;   \n",
              "\n",
              "                                               genre   type episodes  rating  \\\n",
              "0               Drama, Romance, School, Supernatural  Movie        1    9.37   \n",
              "1  Action, Adventure, Drama, Fantasy, Magic, Mili...     TV       64    9.26   \n",
              "2  Action, Comedy, Historical, Parody, Samurai, S...     TV       51    9.25   \n",
              "3                                   Sci-Fi, Thriller     TV       24    9.17   \n",
              "4  Action, Comedy, Historical, Parody, Samurai, S...     TV       51    9.16   \n",
              "\n",
              "   members  \n",
              "0   200630  \n",
              "1   793665  \n",
              "2   114262  \n",
              "3   673572  \n",
              "4   151266  "
            ],
            "text/html": [
              "\n",
              "  <div id=\"df-bddb39e9-c198-4f68-9591-42a2ee7120a6\">\n",
              "    <div class=\"colab-df-container\">\n",
              "      <div>\n",
              "<style scoped>\n",
              "    .dataframe tbody tr th:only-of-type {\n",
              "        vertical-align: middle;\n",
              "    }\n",
              "\n",
              "    .dataframe tbody tr th {\n",
              "        vertical-align: top;\n",
              "    }\n",
              "\n",
              "    .dataframe thead th {\n",
              "        text-align: right;\n",
              "    }\n",
              "</style>\n",
              "<table border=\"1\" class=\"dataframe\">\n",
              "  <thead>\n",
              "    <tr style=\"text-align: right;\">\n",
              "      <th></th>\n",
              "      <th>anime_id</th>\n",
              "      <th>name</th>\n",
              "      <th>genre</th>\n",
              "      <th>type</th>\n",
              "      <th>episodes</th>\n",
              "      <th>rating</th>\n",
              "      <th>members</th>\n",
              "    </tr>\n",
              "  </thead>\n",
              "  <tbody>\n",
              "    <tr>\n",
              "      <th>0</th>\n",
              "      <td>32281</td>\n",
              "      <td>Kimi no Na wa.</td>\n",
              "      <td>Drama, Romance, School, Supernatural</td>\n",
              "      <td>Movie</td>\n",
              "      <td>1</td>\n",
              "      <td>9.37</td>\n",
              "      <td>200630</td>\n",
              "    </tr>\n",
              "    <tr>\n",
              "      <th>1</th>\n",
              "      <td>5114</td>\n",
              "      <td>Fullmetal Alchemist: Brotherhood</td>\n",
              "      <td>Action, Adventure, Drama, Fantasy, Magic, Mili...</td>\n",
              "      <td>TV</td>\n",
              "      <td>64</td>\n",
              "      <td>9.26</td>\n",
              "      <td>793665</td>\n",
              "    </tr>\n",
              "    <tr>\n",
              "      <th>2</th>\n",
              "      <td>28977</td>\n",
              "      <td>Gintama°</td>\n",
              "      <td>Action, Comedy, Historical, Parody, Samurai, S...</td>\n",
              "      <td>TV</td>\n",
              "      <td>51</td>\n",
              "      <td>9.25</td>\n",
              "      <td>114262</td>\n",
              "    </tr>\n",
              "    <tr>\n",
              "      <th>3</th>\n",
              "      <td>9253</td>\n",
              "      <td>Steins;Gate</td>\n",
              "      <td>Sci-Fi, Thriller</td>\n",
              "      <td>TV</td>\n",
              "      <td>24</td>\n",
              "      <td>9.17</td>\n",
              "      <td>673572</td>\n",
              "    </tr>\n",
              "    <tr>\n",
              "      <th>4</th>\n",
              "      <td>9969</td>\n",
              "      <td>Gintama&amp;#039;</td>\n",
              "      <td>Action, Comedy, Historical, Parody, Samurai, S...</td>\n",
              "      <td>TV</td>\n",
              "      <td>51</td>\n",
              "      <td>9.16</td>\n",
              "      <td>151266</td>\n",
              "    </tr>\n",
              "  </tbody>\n",
              "</table>\n",
              "</div>\n",
              "      <button class=\"colab-df-convert\" onclick=\"convertToInteractive('df-bddb39e9-c198-4f68-9591-42a2ee7120a6')\"\n",
              "              title=\"Convert this dataframe to an interactive table.\"\n",
              "              style=\"display:none;\">\n",
              "        \n",
              "  <svg xmlns=\"http://www.w3.org/2000/svg\" height=\"24px\"viewBox=\"0 0 24 24\"\n",
              "       width=\"24px\">\n",
              "    <path d=\"M0 0h24v24H0V0z\" fill=\"none\"/>\n",
              "    <path d=\"M18.56 5.44l.94 2.06.94-2.06 2.06-.94-2.06-.94-.94-2.06-.94 2.06-2.06.94zm-11 1L8.5 8.5l.94-2.06 2.06-.94-2.06-.94L8.5 2.5l-.94 2.06-2.06.94zm10 10l.94 2.06.94-2.06 2.06-.94-2.06-.94-.94-2.06-.94 2.06-2.06.94z\"/><path d=\"M17.41 7.96l-1.37-1.37c-.4-.4-.92-.59-1.43-.59-.52 0-1.04.2-1.43.59L10.3 9.45l-7.72 7.72c-.78.78-.78 2.05 0 2.83L4 21.41c.39.39.9.59 1.41.59.51 0 1.02-.2 1.41-.59l7.78-7.78 2.81-2.81c.8-.78.8-2.07 0-2.86zM5.41 20L4 18.59l7.72-7.72 1.47 1.35L5.41 20z\"/>\n",
              "  </svg>\n",
              "      </button>\n",
              "      \n",
              "  <style>\n",
              "    .colab-df-container {\n",
              "      display:flex;\n",
              "      flex-wrap:wrap;\n",
              "      gap: 12px;\n",
              "    }\n",
              "\n",
              "    .colab-df-convert {\n",
              "      background-color: #E8F0FE;\n",
              "      border: none;\n",
              "      border-radius: 50%;\n",
              "      cursor: pointer;\n",
              "      display: none;\n",
              "      fill: #1967D2;\n",
              "      height: 32px;\n",
              "      padding: 0 0 0 0;\n",
              "      width: 32px;\n",
              "    }\n",
              "\n",
              "    .colab-df-convert:hover {\n",
              "      background-color: #E2EBFA;\n",
              "      box-shadow: 0px 1px 2px rgba(60, 64, 67, 0.3), 0px 1px 3px 1px rgba(60, 64, 67, 0.15);\n",
              "      fill: #174EA6;\n",
              "    }\n",
              "\n",
              "    [theme=dark] .colab-df-convert {\n",
              "      background-color: #3B4455;\n",
              "      fill: #D2E3FC;\n",
              "    }\n",
              "\n",
              "    [theme=dark] .colab-df-convert:hover {\n",
              "      background-color: #434B5C;\n",
              "      box-shadow: 0px 1px 3px 1px rgba(0, 0, 0, 0.15);\n",
              "      filter: drop-shadow(0px 1px 2px rgba(0, 0, 0, 0.3));\n",
              "      fill: #FFFFFF;\n",
              "    }\n",
              "  </style>\n",
              "\n",
              "      <script>\n",
              "        const buttonEl =\n",
              "          document.querySelector('#df-bddb39e9-c198-4f68-9591-42a2ee7120a6 button.colab-df-convert');\n",
              "        buttonEl.style.display =\n",
              "          google.colab.kernel.accessAllowed ? 'block' : 'none';\n",
              "\n",
              "        async function convertToInteractive(key) {\n",
              "          const element = document.querySelector('#df-bddb39e9-c198-4f68-9591-42a2ee7120a6');\n",
              "          const dataTable =\n",
              "            await google.colab.kernel.invokeFunction('convertToInteractive',\n",
              "                                                     [key], {});\n",
              "          if (!dataTable) return;\n",
              "\n",
              "          const docLinkHtml = 'Like what you see? Visit the ' +\n",
              "            '<a target=\"_blank\" href=https://colab.research.google.com/notebooks/data_table.ipynb>data table notebook</a>'\n",
              "            + ' to learn more about interactive tables.';\n",
              "          element.innerHTML = '';\n",
              "          dataTable['output_type'] = 'display_data';\n",
              "          await google.colab.output.renderOutput(dataTable, element);\n",
              "          const docLink = document.createElement('div');\n",
              "          docLink.innerHTML = docLinkHtml;\n",
              "          element.appendChild(docLink);\n",
              "        }\n",
              "      </script>\n",
              "    </div>\n",
              "  </div>\n",
              "  "
            ]
          },
          "metadata": {},
          "execution_count": 5
        }
      ]
    },
    {
      "cell_type": "code",
      "source": [
        "rating_df = pd.read_csv('/content/rating.csv')\n",
        "rating_df.head()"
      ],
      "metadata": {
        "colab": {
          "base_uri": "https://localhost:8080/",
          "height": 206
        },
        "id": "TiJ9JiYFihmD",
        "outputId": "d7fb8b2b-33cc-4ba8-d385-eaed7d72841a"
      },
      "execution_count": null,
      "outputs": [
        {
          "output_type": "execute_result",
          "data": {
            "text/plain": [
              "   user_id  anime_id  rating\n",
              "0        1        20      -1\n",
              "1        1        24      -1\n",
              "2        1        79      -1\n",
              "3        1       226      -1\n",
              "4        1       241      -1"
            ],
            "text/html": [
              "\n",
              "  <div id=\"df-f59da7d2-67a5-480c-b21a-f18d18c9891d\">\n",
              "    <div class=\"colab-df-container\">\n",
              "      <div>\n",
              "<style scoped>\n",
              "    .dataframe tbody tr th:only-of-type {\n",
              "        vertical-align: middle;\n",
              "    }\n",
              "\n",
              "    .dataframe tbody tr th {\n",
              "        vertical-align: top;\n",
              "    }\n",
              "\n",
              "    .dataframe thead th {\n",
              "        text-align: right;\n",
              "    }\n",
              "</style>\n",
              "<table border=\"1\" class=\"dataframe\">\n",
              "  <thead>\n",
              "    <tr style=\"text-align: right;\">\n",
              "      <th></th>\n",
              "      <th>user_id</th>\n",
              "      <th>anime_id</th>\n",
              "      <th>rating</th>\n",
              "    </tr>\n",
              "  </thead>\n",
              "  <tbody>\n",
              "    <tr>\n",
              "      <th>0</th>\n",
              "      <td>1</td>\n",
              "      <td>20</td>\n",
              "      <td>-1</td>\n",
              "    </tr>\n",
              "    <tr>\n",
              "      <th>1</th>\n",
              "      <td>1</td>\n",
              "      <td>24</td>\n",
              "      <td>-1</td>\n",
              "    </tr>\n",
              "    <tr>\n",
              "      <th>2</th>\n",
              "      <td>1</td>\n",
              "      <td>79</td>\n",
              "      <td>-1</td>\n",
              "    </tr>\n",
              "    <tr>\n",
              "      <th>3</th>\n",
              "      <td>1</td>\n",
              "      <td>226</td>\n",
              "      <td>-1</td>\n",
              "    </tr>\n",
              "    <tr>\n",
              "      <th>4</th>\n",
              "      <td>1</td>\n",
              "      <td>241</td>\n",
              "      <td>-1</td>\n",
              "    </tr>\n",
              "  </tbody>\n",
              "</table>\n",
              "</div>\n",
              "      <button class=\"colab-df-convert\" onclick=\"convertToInteractive('df-f59da7d2-67a5-480c-b21a-f18d18c9891d')\"\n",
              "              title=\"Convert this dataframe to an interactive table.\"\n",
              "              style=\"display:none;\">\n",
              "        \n",
              "  <svg xmlns=\"http://www.w3.org/2000/svg\" height=\"24px\"viewBox=\"0 0 24 24\"\n",
              "       width=\"24px\">\n",
              "    <path d=\"M0 0h24v24H0V0z\" fill=\"none\"/>\n",
              "    <path d=\"M18.56 5.44l.94 2.06.94-2.06 2.06-.94-2.06-.94-.94-2.06-.94 2.06-2.06.94zm-11 1L8.5 8.5l.94-2.06 2.06-.94-2.06-.94L8.5 2.5l-.94 2.06-2.06.94zm10 10l.94 2.06.94-2.06 2.06-.94-2.06-.94-.94-2.06-.94 2.06-2.06.94z\"/><path d=\"M17.41 7.96l-1.37-1.37c-.4-.4-.92-.59-1.43-.59-.52 0-1.04.2-1.43.59L10.3 9.45l-7.72 7.72c-.78.78-.78 2.05 0 2.83L4 21.41c.39.39.9.59 1.41.59.51 0 1.02-.2 1.41-.59l7.78-7.78 2.81-2.81c.8-.78.8-2.07 0-2.86zM5.41 20L4 18.59l7.72-7.72 1.47 1.35L5.41 20z\"/>\n",
              "  </svg>\n",
              "      </button>\n",
              "      \n",
              "  <style>\n",
              "    .colab-df-container {\n",
              "      display:flex;\n",
              "      flex-wrap:wrap;\n",
              "      gap: 12px;\n",
              "    }\n",
              "\n",
              "    .colab-df-convert {\n",
              "      background-color: #E8F0FE;\n",
              "      border: none;\n",
              "      border-radius: 50%;\n",
              "      cursor: pointer;\n",
              "      display: none;\n",
              "      fill: #1967D2;\n",
              "      height: 32px;\n",
              "      padding: 0 0 0 0;\n",
              "      width: 32px;\n",
              "    }\n",
              "\n",
              "    .colab-df-convert:hover {\n",
              "      background-color: #E2EBFA;\n",
              "      box-shadow: 0px 1px 2px rgba(60, 64, 67, 0.3), 0px 1px 3px 1px rgba(60, 64, 67, 0.15);\n",
              "      fill: #174EA6;\n",
              "    }\n",
              "\n",
              "    [theme=dark] .colab-df-convert {\n",
              "      background-color: #3B4455;\n",
              "      fill: #D2E3FC;\n",
              "    }\n",
              "\n",
              "    [theme=dark] .colab-df-convert:hover {\n",
              "      background-color: #434B5C;\n",
              "      box-shadow: 0px 1px 3px 1px rgba(0, 0, 0, 0.15);\n",
              "      filter: drop-shadow(0px 1px 2px rgba(0, 0, 0, 0.3));\n",
              "      fill: #FFFFFF;\n",
              "    }\n",
              "  </style>\n",
              "\n",
              "      <script>\n",
              "        const buttonEl =\n",
              "          document.querySelector('#df-f59da7d2-67a5-480c-b21a-f18d18c9891d button.colab-df-convert');\n",
              "        buttonEl.style.display =\n",
              "          google.colab.kernel.accessAllowed ? 'block' : 'none';\n",
              "\n",
              "        async function convertToInteractive(key) {\n",
              "          const element = document.querySelector('#df-f59da7d2-67a5-480c-b21a-f18d18c9891d');\n",
              "          const dataTable =\n",
              "            await google.colab.kernel.invokeFunction('convertToInteractive',\n",
              "                                                     [key], {});\n",
              "          if (!dataTable) return;\n",
              "\n",
              "          const docLinkHtml = 'Like what you see? Visit the ' +\n",
              "            '<a target=\"_blank\" href=https://colab.research.google.com/notebooks/data_table.ipynb>data table notebook</a>'\n",
              "            + ' to learn more about interactive tables.';\n",
              "          element.innerHTML = '';\n",
              "          dataTable['output_type'] = 'display_data';\n",
              "          await google.colab.output.renderOutput(dataTable, element);\n",
              "          const docLink = document.createElement('div');\n",
              "          docLink.innerHTML = docLinkHtml;\n",
              "          element.appendChild(docLink);\n",
              "        }\n",
              "      </script>\n",
              "    </div>\n",
              "  </div>\n",
              "  "
            ]
          },
          "metadata": {},
          "execution_count": 6
        }
      ]
    },
    {
      "cell_type": "code",
      "source": [
        "print(anime_df.shape)\n",
        "print(rating_df.shape)"
      ],
      "metadata": {
        "colab": {
          "base_uri": "https://localhost:8080/"
        },
        "id": "E2U8j9sqi_QH",
        "outputId": "4c417c50-908b-4c2f-b413-e7665ba8766a"
      },
      "execution_count": null,
      "outputs": [
        {
          "output_type": "stream",
          "name": "stdout",
          "text": [
            "(12294, 7)\n",
            "(7813737, 3)\n"
          ]
        }
      ]
    },
    {
      "cell_type": "markdown",
      "source": [
        "В colab не хватает памяти для работы со всем набором данных. Возьмем его часть"
      ],
      "metadata": {
        "id": "i-uY83NgdMc8"
      }
    },
    {
      "cell_type": "code",
      "source": [
        "print('Количество уникальных значений anime_id в rating_df -', len(rating_df.groupby('anime_id').size()))\n",
        "print('Количество уникальных значений anime_id в anime_df -', len(anime_df.groupby('anime_id').size()))"
      ],
      "metadata": {
        "colab": {
          "base_uri": "https://localhost:8080/"
        },
        "id": "pZ3t3TJG5dpI",
        "outputId": "2883fbab-315c-46f3-eb54-594355372c6f"
      },
      "execution_count": null,
      "outputs": [
        {
          "output_type": "stream",
          "name": "stdout",
          "text": [
            "Количество уникальных значений anime_id в rating_df - 11200\n",
            "Количество уникальных значений anime_id в anime_df - 12294\n"
          ]
        }
      ]
    },
    {
      "cell_type": "markdown",
      "source": [
        "Обрежем rating_df и оставим в anime_df те anime_id, которые есть в обоих наборах данных"
      ],
      "metadata": {
        "id": "GHsyVOqAfJMD"
      }
    },
    {
      "cell_type": "code",
      "source": [
        "rating_df = rating_df.loc[:rating_df.shape[0]//10]"
      ],
      "metadata": {
        "id": "mSCJzHjlfeXW"
      },
      "execution_count": null,
      "outputs": []
    },
    {
      "cell_type": "code",
      "source": [
        "print('Количество уникальных значений anime_id в rating_df -', len(rating_df.groupby('anime_id').size()))\n",
        "print('Количество уникальных значений anime_id в anime_df -', len(anime_df.groupby('anime_id').size()))"
      ],
      "metadata": {
        "colab": {
          "base_uri": "https://localhost:8080/"
        },
        "outputId": "ea571793-d388-4864-fbdd-1c4564c56d14",
        "id": "cYjcH7okireD"
      },
      "execution_count": null,
      "outputs": [
        {
          "output_type": "stream",
          "name": "stdout",
          "text": [
            "Количество уникальных значений anime_id в rating_df - 8016\n",
            "Количество уникальных значений anime_id в anime_df - 12294\n"
          ]
        }
      ]
    },
    {
      "cell_type": "code",
      "source": [
        "anime_df = pd.DataFrame(anime_df.loc[anime_df['anime_id'].isin(pd.unique(rating_df['anime_id'])) == True])\n",
        "anime_df = anime_df.set_index(pd.Series(range(0, len(rating_df.groupby('anime_id').size()))))\n",
        "anime_df"
      ],
      "metadata": {
        "colab": {
          "base_uri": "https://localhost:8080/",
          "height": 423
        },
        "id": "fb4Nvvzwgzml",
        "outputId": "f30db4a0-ffeb-458c-b5ad-1d1ed37bab6e"
      },
      "execution_count": null,
      "outputs": [
        {
          "output_type": "execute_result",
          "data": {
            "text/plain": [
              "      anime_id                              name  \\\n",
              "0        32281                    Kimi no Na wa.   \n",
              "1         5114  Fullmetal Alchemist: Brotherhood   \n",
              "2        28977                          Gintama°   \n",
              "3         9253                       Steins;Gate   \n",
              "4         9969                     Gintama&#039;   \n",
              "...        ...                               ...   \n",
              "8011      6903                   Prima Donna Mai   \n",
              "8012      5589                      Offside Girl   \n",
              "8013      4310      Joshidai: Ecchi Soudanshitsu   \n",
              "8014      5569                      Tsui no Sora   \n",
              "8015     17823                        Ikenai Boy   \n",
              "\n",
              "                                                  genre   type episodes  \\\n",
              "0                  Drama, Romance, School, Supernatural  Movie        1   \n",
              "1     Action, Adventure, Drama, Fantasy, Magic, Mili...     TV       64   \n",
              "2     Action, Comedy, Historical, Parody, Samurai, S...     TV       51   \n",
              "3                                      Sci-Fi, Thriller     TV       24   \n",
              "4     Action, Comedy, Historical, Parody, Samurai, S...     TV       51   \n",
              "...                                                 ...    ...      ...   \n",
              "8011                                             Hentai    OVA        1   \n",
              "8012                                     Hentai, Sports    OVA        2   \n",
              "8013                                             Hentai    OVA        1   \n",
              "8014                                             Hentai    OVA        1   \n",
              "8015                              Comedy, Harem, Hentai    OVA        1   \n",
              "\n",
              "      rating  members  \n",
              "0       9.37   200630  \n",
              "1       9.26   793665  \n",
              "2       9.25   114262  \n",
              "3       9.17   673572  \n",
              "4       9.16   151266  \n",
              "...      ...      ...  \n",
              "8011    4.53      442  \n",
              "8012    4.30      945  \n",
              "8013    3.70      779  \n",
              "8014    2.98      934  \n",
              "8015    3.56      179  \n",
              "\n",
              "[8016 rows x 7 columns]"
            ],
            "text/html": [
              "\n",
              "  <div id=\"df-00ecfdbf-d434-4047-879b-17ab07bfdfac\">\n",
              "    <div class=\"colab-df-container\">\n",
              "      <div>\n",
              "<style scoped>\n",
              "    .dataframe tbody tr th:only-of-type {\n",
              "        vertical-align: middle;\n",
              "    }\n",
              "\n",
              "    .dataframe tbody tr th {\n",
              "        vertical-align: top;\n",
              "    }\n",
              "\n",
              "    .dataframe thead th {\n",
              "        text-align: right;\n",
              "    }\n",
              "</style>\n",
              "<table border=\"1\" class=\"dataframe\">\n",
              "  <thead>\n",
              "    <tr style=\"text-align: right;\">\n",
              "      <th></th>\n",
              "      <th>anime_id</th>\n",
              "      <th>name</th>\n",
              "      <th>genre</th>\n",
              "      <th>type</th>\n",
              "      <th>episodes</th>\n",
              "      <th>rating</th>\n",
              "      <th>members</th>\n",
              "    </tr>\n",
              "  </thead>\n",
              "  <tbody>\n",
              "    <tr>\n",
              "      <th>0</th>\n",
              "      <td>32281</td>\n",
              "      <td>Kimi no Na wa.</td>\n",
              "      <td>Drama, Romance, School, Supernatural</td>\n",
              "      <td>Movie</td>\n",
              "      <td>1</td>\n",
              "      <td>9.37</td>\n",
              "      <td>200630</td>\n",
              "    </tr>\n",
              "    <tr>\n",
              "      <th>1</th>\n",
              "      <td>5114</td>\n",
              "      <td>Fullmetal Alchemist: Brotherhood</td>\n",
              "      <td>Action, Adventure, Drama, Fantasy, Magic, Mili...</td>\n",
              "      <td>TV</td>\n",
              "      <td>64</td>\n",
              "      <td>9.26</td>\n",
              "      <td>793665</td>\n",
              "    </tr>\n",
              "    <tr>\n",
              "      <th>2</th>\n",
              "      <td>28977</td>\n",
              "      <td>Gintama°</td>\n",
              "      <td>Action, Comedy, Historical, Parody, Samurai, S...</td>\n",
              "      <td>TV</td>\n",
              "      <td>51</td>\n",
              "      <td>9.25</td>\n",
              "      <td>114262</td>\n",
              "    </tr>\n",
              "    <tr>\n",
              "      <th>3</th>\n",
              "      <td>9253</td>\n",
              "      <td>Steins;Gate</td>\n",
              "      <td>Sci-Fi, Thriller</td>\n",
              "      <td>TV</td>\n",
              "      <td>24</td>\n",
              "      <td>9.17</td>\n",
              "      <td>673572</td>\n",
              "    </tr>\n",
              "    <tr>\n",
              "      <th>4</th>\n",
              "      <td>9969</td>\n",
              "      <td>Gintama&amp;#039;</td>\n",
              "      <td>Action, Comedy, Historical, Parody, Samurai, S...</td>\n",
              "      <td>TV</td>\n",
              "      <td>51</td>\n",
              "      <td>9.16</td>\n",
              "      <td>151266</td>\n",
              "    </tr>\n",
              "    <tr>\n",
              "      <th>...</th>\n",
              "      <td>...</td>\n",
              "      <td>...</td>\n",
              "      <td>...</td>\n",
              "      <td>...</td>\n",
              "      <td>...</td>\n",
              "      <td>...</td>\n",
              "      <td>...</td>\n",
              "    </tr>\n",
              "    <tr>\n",
              "      <th>8011</th>\n",
              "      <td>6903</td>\n",
              "      <td>Prima Donna Mai</td>\n",
              "      <td>Hentai</td>\n",
              "      <td>OVA</td>\n",
              "      <td>1</td>\n",
              "      <td>4.53</td>\n",
              "      <td>442</td>\n",
              "    </tr>\n",
              "    <tr>\n",
              "      <th>8012</th>\n",
              "      <td>5589</td>\n",
              "      <td>Offside Girl</td>\n",
              "      <td>Hentai, Sports</td>\n",
              "      <td>OVA</td>\n",
              "      <td>2</td>\n",
              "      <td>4.30</td>\n",
              "      <td>945</td>\n",
              "    </tr>\n",
              "    <tr>\n",
              "      <th>8013</th>\n",
              "      <td>4310</td>\n",
              "      <td>Joshidai: Ecchi Soudanshitsu</td>\n",
              "      <td>Hentai</td>\n",
              "      <td>OVA</td>\n",
              "      <td>1</td>\n",
              "      <td>3.70</td>\n",
              "      <td>779</td>\n",
              "    </tr>\n",
              "    <tr>\n",
              "      <th>8014</th>\n",
              "      <td>5569</td>\n",
              "      <td>Tsui no Sora</td>\n",
              "      <td>Hentai</td>\n",
              "      <td>OVA</td>\n",
              "      <td>1</td>\n",
              "      <td>2.98</td>\n",
              "      <td>934</td>\n",
              "    </tr>\n",
              "    <tr>\n",
              "      <th>8015</th>\n",
              "      <td>17823</td>\n",
              "      <td>Ikenai Boy</td>\n",
              "      <td>Comedy, Harem, Hentai</td>\n",
              "      <td>OVA</td>\n",
              "      <td>1</td>\n",
              "      <td>3.56</td>\n",
              "      <td>179</td>\n",
              "    </tr>\n",
              "  </tbody>\n",
              "</table>\n",
              "<p>8016 rows × 7 columns</p>\n",
              "</div>\n",
              "      <button class=\"colab-df-convert\" onclick=\"convertToInteractive('df-00ecfdbf-d434-4047-879b-17ab07bfdfac')\"\n",
              "              title=\"Convert this dataframe to an interactive table.\"\n",
              "              style=\"display:none;\">\n",
              "        \n",
              "  <svg xmlns=\"http://www.w3.org/2000/svg\" height=\"24px\"viewBox=\"0 0 24 24\"\n",
              "       width=\"24px\">\n",
              "    <path d=\"M0 0h24v24H0V0z\" fill=\"none\"/>\n",
              "    <path d=\"M18.56 5.44l.94 2.06.94-2.06 2.06-.94-2.06-.94-.94-2.06-.94 2.06-2.06.94zm-11 1L8.5 8.5l.94-2.06 2.06-.94-2.06-.94L8.5 2.5l-.94 2.06-2.06.94zm10 10l.94 2.06.94-2.06 2.06-.94-2.06-.94-.94-2.06-.94 2.06-2.06.94z\"/><path d=\"M17.41 7.96l-1.37-1.37c-.4-.4-.92-.59-1.43-.59-.52 0-1.04.2-1.43.59L10.3 9.45l-7.72 7.72c-.78.78-.78 2.05 0 2.83L4 21.41c.39.39.9.59 1.41.59.51 0 1.02-.2 1.41-.59l7.78-7.78 2.81-2.81c.8-.78.8-2.07 0-2.86zM5.41 20L4 18.59l7.72-7.72 1.47 1.35L5.41 20z\"/>\n",
              "  </svg>\n",
              "      </button>\n",
              "      \n",
              "  <style>\n",
              "    .colab-df-container {\n",
              "      display:flex;\n",
              "      flex-wrap:wrap;\n",
              "      gap: 12px;\n",
              "    }\n",
              "\n",
              "    .colab-df-convert {\n",
              "      background-color: #E8F0FE;\n",
              "      border: none;\n",
              "      border-radius: 50%;\n",
              "      cursor: pointer;\n",
              "      display: none;\n",
              "      fill: #1967D2;\n",
              "      height: 32px;\n",
              "      padding: 0 0 0 0;\n",
              "      width: 32px;\n",
              "    }\n",
              "\n",
              "    .colab-df-convert:hover {\n",
              "      background-color: #E2EBFA;\n",
              "      box-shadow: 0px 1px 2px rgba(60, 64, 67, 0.3), 0px 1px 3px 1px rgba(60, 64, 67, 0.15);\n",
              "      fill: #174EA6;\n",
              "    }\n",
              "\n",
              "    [theme=dark] .colab-df-convert {\n",
              "      background-color: #3B4455;\n",
              "      fill: #D2E3FC;\n",
              "    }\n",
              "\n",
              "    [theme=dark] .colab-df-convert:hover {\n",
              "      background-color: #434B5C;\n",
              "      box-shadow: 0px 1px 3px 1px rgba(0, 0, 0, 0.15);\n",
              "      filter: drop-shadow(0px 1px 2px rgba(0, 0, 0, 0.3));\n",
              "      fill: #FFFFFF;\n",
              "    }\n",
              "  </style>\n",
              "\n",
              "      <script>\n",
              "        const buttonEl =\n",
              "          document.querySelector('#df-00ecfdbf-d434-4047-879b-17ab07bfdfac button.colab-df-convert');\n",
              "        buttonEl.style.display =\n",
              "          google.colab.kernel.accessAllowed ? 'block' : 'none';\n",
              "\n",
              "        async function convertToInteractive(key) {\n",
              "          const element = document.querySelector('#df-00ecfdbf-d434-4047-879b-17ab07bfdfac');\n",
              "          const dataTable =\n",
              "            await google.colab.kernel.invokeFunction('convertToInteractive',\n",
              "                                                     [key], {});\n",
              "          if (!dataTable) return;\n",
              "\n",
              "          const docLinkHtml = 'Like what you see? Visit the ' +\n",
              "            '<a target=\"_blank\" href=https://colab.research.google.com/notebooks/data_table.ipynb>data table notebook</a>'\n",
              "            + ' to learn more about interactive tables.';\n",
              "          element.innerHTML = '';\n",
              "          dataTable['output_type'] = 'display_data';\n",
              "          await google.colab.output.renderOutput(dataTable, element);\n",
              "          const docLink = document.createElement('div');\n",
              "          docLink.innerHTML = docLinkHtml;\n",
              "          element.appendChild(docLink);\n",
              "        }\n",
              "      </script>\n",
              "    </div>\n",
              "  </div>\n",
              "  "
            ]
          },
          "metadata": {},
          "execution_count": 8
        }
      ]
    },
    {
      "cell_type": "code",
      "source": [
        "print('Количество уникальных значений anime_id в rating_df -', len(rating_df.groupby('anime_id').size()))\n",
        "print('Количество уникальных значений anime_id в anime_df -', len(anime_df.groupby('anime_id').size()))"
      ],
      "metadata": {
        "colab": {
          "base_uri": "https://localhost:8080/"
        },
        "outputId": "c9598d34-d955-4982-be00-7903c3a743ad",
        "id": "h1vlaMQJiQ_2"
      },
      "execution_count": null,
      "outputs": [
        {
          "output_type": "stream",
          "name": "stdout",
          "text": [
            "Количество уникальных значений anime_id в rating_df - 8016\n",
            "Количество уникальных значений anime_id в anime_df - 8016\n"
          ]
        }
      ]
    },
    {
      "cell_type": "code",
      "source": [
        "print(anime_df.shape)\n",
        "print(rating_df.shape)"
      ],
      "metadata": {
        "colab": {
          "base_uri": "https://localhost:8080/"
        },
        "id": "h3pCi4bFdXA0",
        "outputId": "7974b3f2-a92c-4c94-c173-17cf480e4f66"
      },
      "execution_count": null,
      "outputs": [
        {
          "output_type": "stream",
          "name": "stdout",
          "text": [
            "(8016, 7)\n",
            "(781374, 3)\n"
          ]
        }
      ]
    },
    {
      "cell_type": "markdown",
      "source": [
        "### Задание №1 : Exploratory analysis (2 балла):\n",
        "\n",
        "* Распределение числа пользователей по количеству взаимодействий\n",
        "* Раcпределение числа \"айтемов\" по количеству взаимодействий\n",
        "* Распределение числа рейтингов, средних рейтингов по пользователям, по \"айтемам\"\n",
        "* и т.д. (бонус)"
      ],
      "metadata": {
        "id": "z9IH0rIAhxwn"
      }
    },
    {
      "cell_type": "markdown",
      "source": [
        "#### Распределение числа пользователей по количеству взаимодействий"
      ],
      "metadata": {
        "id": "4dUb3KYSwvwo"
      }
    },
    {
      "cell_type": "code",
      "source": [
        "rating_df.groupby('user_id').size().describe()"
      ],
      "metadata": {
        "colab": {
          "base_uri": "https://localhost:8080/"
        },
        "id": "Cy7V-5eksrg0",
        "outputId": "a046cd31-ec86-417c-87f2-b1d51343fa71"
      },
      "execution_count": null,
      "outputs": [
        {
          "output_type": "execute_result",
          "data": {
            "text/plain": [
              "count    7253.000000\n",
              "mean      107.731146\n",
              "std       143.040928\n",
              "min         1.000000\n",
              "25%        19.000000\n",
              "50%        60.000000\n",
              "75%       138.000000\n",
              "max      1584.000000\n",
              "dtype: float64"
            ]
          },
          "metadata": {},
          "execution_count": 9
        }
      ]
    },
    {
      "cell_type": "code",
      "source": [
        "plt.figure(figsize=(15, 5), dpi=80)\n",
        "plt.title('Distribution of the number of users by the number of interactions')\n",
        "plt.xlabel('Number of interactions')\n",
        "plt.ylabel('Number of users')\n",
        "plt.hist(rating_df.groupby('user_id').size().values, bins=100)\n",
        "plt.show()"
      ],
      "metadata": {
        "colab": {
          "base_uri": "https://localhost:8080/",
          "height": 383
        },
        "id": "Bqf6XCgmcIgZ",
        "outputId": "569088ad-7fee-4051-ef1e-6d0aeeca21df"
      },
      "execution_count": null,
      "outputs": [
        {
          "output_type": "display_data",
          "data": {
            "text/plain": [
              "<Figure size 1200x400 with 1 Axes>"
            ],
            "image/png": "[encoded data removed]"
          },
          "metadata": {
            "needs_background": "light"
          }
        }
      ]
    },
    {
      "cell_type": "markdown",
      "source": [
        "Основная часть пользователей мало смотрит аниме, однако данная статистика не учитывает количество эпизодов в аниме. <br>25% всех пользователей смотрели менее 19 аниме. <br>75% - менее 138."
      ],
      "metadata": {
        "id": "a1OykR6S3UVw"
      }
    },
    {
      "cell_type": "markdown",
      "source": [
        "#### Распределение аниме по количеству эпизодов"
      ],
      "metadata": {
        "id": "t2Tq3zvV5E8K"
      }
    },
    {
      "cell_type": "code",
      "source": [
        "plt.figure(figsize=(15, 5), dpi=80)\n",
        "plt.title('Distribution of the number of users by the number of interactions')\n",
        "plt.xlabel('Number of episodes')\n",
        "plt.ylabel('Number of anime')\n",
        "plt.hist(pd.to_numeric(anime_df.loc[pd.to_numeric(anime_df['episodes']) < 500]['episodes']), bins=50)\n",
        "plt.show()"
      ],
      "metadata": {
        "colab": {
          "base_uri": "https://localhost:8080/",
          "height": 383
        },
        "id": "8eVKGrDv9apc",
        "outputId": "51f0f58e-69d4-47c7-b468-ecf42e689352"
      },
      "execution_count": null,
      "outputs": [
        {
          "output_type": "display_data",
          "data": {
            "text/plain": [
              "<Figure size 1200x400 with 1 Axes>"
            ],
            "image/png": "[encoded data removed]"
          },
          "metadata": {
            "needs_background": "light"
          }
        }
      ]
    },
    {
      "cell_type": "code",
      "source": [
        "anime_df.groupby('episodes').size().describe()"
      ],
      "metadata": {
        "colab": {
          "base_uri": "https://localhost:8080/"
        },
        "id": "VMUHiaVqBtFV",
        "outputId": "4b3fa941-a5e8-46e4-ff9d-7b2464e331a5"
      },
      "execution_count": null,
      "outputs": [
        {
          "output_type": "execute_result",
          "data": {
            "text/plain": [
              "count     157.000000\n",
              "mean       51.057325\n",
              "std       276.592180\n",
              "min         1.000000\n",
              "25%         1.000000\n",
              "50%         2.000000\n",
              "75%         8.000000\n",
              "max      3226.000000\n",
              "dtype: float64"
            ]
          },
          "metadata": {},
          "execution_count": 12
        }
      ]
    },
    {
      "cell_type": "markdown",
      "source": [
        "Большая часть аниме обладает небольшим количеством эпизодов, в 75% случаев - менее 8."
      ],
      "metadata": {
        "id": "pDWG3OWY5Nho"
      }
    },
    {
      "cell_type": "markdown",
      "source": [
        "#### Распределение числа аниме по количеству взаимодействий"
      ],
      "metadata": {
        "id": "mITwBTzfwxGf"
      }
    },
    {
      "cell_type": "code",
      "source": [
        "rating_df.groupby('anime_id').size() # количество встреч anime_id в rating_df"
      ],
      "metadata": {
        "colab": {
          "base_uri": "https://localhost:8080/"
        },
        "id": "onU0LnjFzeSx",
        "outputId": "ca7344e3-1d7a-4b22-8687-5b9eb2d8e7d0"
      },
      "execution_count": null,
      "outputs": [
        {
          "output_type": "execute_result",
          "data": {
            "text/plain": [
              "anime_id\n",
              "1        1641\n",
              "5         751\n",
              "6        1129\n",
              "7         254\n",
              "8          43\n",
              "         ... \n",
              "34173       1\n",
              "34240     146\n",
              "34283       4\n",
              "34324       2\n",
              "34325       1\n",
              "Length: 8016, dtype: int64"
            ]
          },
          "metadata": {},
          "execution_count": 14
        }
      ]
    },
    {
      "cell_type": "code",
      "source": [
        "rating_df.groupby('anime_id').size().describe()"
      ],
      "metadata": {
        "colab": {
          "base_uri": "https://localhost:8080/"
        },
        "id": "YJs5JlVG1414",
        "outputId": "91ef678b-1c57-4ea0-92bc-a14358217ad3"
      },
      "execution_count": null,
      "outputs": [
        {
          "output_type": "execute_result",
          "data": {
            "text/plain": [
              "count    8016.000000\n",
              "mean       97.476796\n",
              "std       236.782126\n",
              "min         1.000000\n",
              "25%         3.000000\n",
              "50%        14.000000\n",
              "75%        77.000000\n",
              "max      3951.000000\n",
              "dtype: float64"
            ]
          },
          "metadata": {},
          "execution_count": 15
        }
      ]
    },
    {
      "cell_type": "code",
      "source": [
        "plt.figure(figsize=(10, 5), dpi=80)\n",
        "plt.title('Distribution of the number of anime by the number of interactions')\n",
        "plt.xlabel('Anime id')\n",
        "plt.ylabel('Number of interactions')\n",
        "plt.hist(rating_df.groupby('anime_id').size().index, bins=100)\n",
        "plt.show()"
      ],
      "metadata": {
        "colab": {
          "base_uri": "https://localhost:8080/",
          "height": 383
        },
        "id": "VIioBB7ywb-r",
        "outputId": "b2798f08-b3ef-4fc1-b8ba-463ef5412e39"
      },
      "execution_count": null,
      "outputs": [
        {
          "output_type": "display_data",
          "data": {
            "text/plain": [
              "<Figure size 800x400 with 1 Axes>"
            ],
            "image/png": "[encoded data removed]"
          },
          "metadata": {
            "needs_background": "light"
          }
        }
      ]
    },
    {
      "cell_type": "markdown",
      "source": [
        "Аниме с индексам меньше обладают большим числом взаимодействий. Если индекс аниме это порядковый номер, который присваивается аниме при выходе на площадку, то больше взаимодействий имеют те аниме, которые дольше остальных находятся на площадке"
      ],
      "metadata": {
        "id": "GUD6t7lTr4GG"
      }
    },
    {
      "cell_type": "markdown",
      "source": [
        "#### Распределение числа рейтингов, средних рейтингов по пользователям, по \"айтемам\""
      ],
      "metadata": {
        "id": "6fG7pOHqZagc"
      }
    },
    {
      "cell_type": "code",
      "source": [
        "rating_df.groupby('rating').size()"
      ],
      "metadata": {
        "id": "-Y1aUVLqxLId",
        "colab": {
          "base_uri": "https://localhost:8080/"
        },
        "outputId": "392fac4a-6e0b-412c-c340-08e80b84d38d"
      },
      "execution_count": null,
      "outputs": [
        {
          "output_type": "execute_result",
          "data": {
            "text/plain": [
              "rating\n",
              "-1     143763\n",
              " 1       1604\n",
              " 2       2512\n",
              " 3       4236\n",
              " 4      10490\n",
              " 5      28049\n",
              " 6      64602\n",
              " 7     139708\n",
              " 8     165987\n",
              " 9     127919\n",
              " 10     92504\n",
              "dtype: int64"
            ]
          },
          "metadata": {},
          "execution_count": 172
        }
      ]
    },
    {
      "cell_type": "code",
      "source": [
        "plt.figure(figsize=(15, 5), dpi=80)\n",
        "plt.ticklabel_format(style='plain', axis='both', scilimits=(0,0))\n",
        "plt.title('Distribution of the number of ratings')\n",
        "plt.xlabel('Rating')\n",
        "plt.ylabel('Number of ratings')\n",
        "plt.hist(rating_df['rating'], bins=40)\n",
        "plt.show()"
      ],
      "metadata": {
        "id": "7rjYwwabxLFc",
        "colab": {
          "base_uri": "https://localhost:8080/",
          "height": 383
        },
        "outputId": "51a8709f-b119-4684-bfe1-e83241118313"
      },
      "execution_count": null,
      "outputs": [
        {
          "output_type": "display_data",
          "data": {
            "text/plain": [
              "<Figure size 1200x400 with 1 Axes>"
            ],
            "image/png": "[encoded data removed]"
          },
          "metadata": {
            "needs_background": "light"
          }
        }
      ]
    },
    {
      "cell_type": "code",
      "source": [
        "plt.figure(figsize=(15, 5), dpi=80)\n",
        "plt.ticklabel_format(style='plain', axis='both', scilimits=(0,0))\n",
        "plt.title('Распределение средних рейтингов среди пользователей')\n",
        "plt.xlabel('Mean rating')\n",
        "plt.ylabel('Number of users')\n",
        "plt.hist(rating_df.groupby('user_id')['rating'].mean())\n",
        "plt.show()"
      ],
      "metadata": {
        "colab": {
          "base_uri": "https://localhost:8080/",
          "height": 383
        },
        "id": "BPUPxTalcSox",
        "outputId": "72c3fc2f-8d5b-452c-9adf-05fe543371bc"
      },
      "execution_count": null,
      "outputs": [
        {
          "output_type": "display_data",
          "data": {
            "text/plain": [
              "<Figure size 1200x400 with 1 Axes>"
            ],
            "image/png": "[encoded data removed]"
          },
          "metadata": {
            "needs_background": "light"
          }
        }
      ]
    },
    {
      "cell_type": "code",
      "source": [
        "cm = plt.get_cmap('tab20b')\n",
        "\n",
        "def my_autopct(pct):\n",
        "    return ('%1.1f' % pct) if pct > 2 else ''\n",
        "\n",
        "labels = rating_df.groupby('rating').size().index\n",
        "sizes = rating_df.groupby('rating').size().values\n",
        "explode = np.full(11, 0.02)\n",
        "\n",
        "fig1, ax1 = plt.subplots(figsize=(9, 9))\n",
        "ax1.pie(sizes, labels=labels, explode = explode, autopct=my_autopct, startangle=90, colors=cm(np.arange(11)))\n",
        "\n",
        "plt.show()"
      ],
      "metadata": {
        "id": "k_bYrmVVcSmn",
        "colab": {
          "base_uri": "https://localhost:8080/",
          "height": 520
        },
        "outputId": "af159242-75dd-4487-95a3-1e84c8c31c41"
      },
      "execution_count": null,
      "outputs": [
        {
          "output_type": "display_data",
          "data": {
            "text/plain": [
              "<Figure size 648x648 with 1 Axes>"
            ],
            "image/png": "[encoded data removed]"
          },
          "metadata": {}
        }
      ]
    },
    {
      "cell_type": "markdown",
      "source": [
        "Значения -1, 7, 8, 9 встречаются примерно равное количество раз. Реже встречаются оценки 6 и 10, еще реже - все остальные. Можно сделать вывод, что набор данных не сбалансирован относительно рейтинга"
      ],
      "metadata": {
        "id": "6Wem9GrLtES_"
      }
    },
    {
      "cell_type": "markdown",
      "source": [
        "### Задание №2 : Оценить разреженность данных по рейтингу (1/2 балла)"
      ],
      "metadata": {
        "id": "2j9b5bkyLpTM"
      }
    },
    {
      "cell_type": "markdown",
      "source": [
        "* Unknown - заполнить значением '6'\n",
        "* Nan - удалить"
      ],
      "metadata": {
        "id": "bGIlFEWXPAhi"
      }
    },
    {
      "cell_type": "markdown",
      "source": [
        "#### Anime_df"
      ],
      "metadata": {
        "id": "XoH48wR8Miih"
      }
    },
    {
      "cell_type": "code",
      "source": [
        "anime_df.loc[anime_df['episodes'] == 'Unknown']"
      ],
      "metadata": {
        "colab": {
          "base_uri": "https://localhost:8080/",
          "height": 50
        },
        "id": "Y272S9y5OlJx",
        "outputId": "fdae158d-06e0-4d52-f5ad-3915a5812c6b"
      },
      "execution_count": null,
      "outputs": [
        {
          "output_type": "execute_result",
          "data": {
            "text/plain": [
              "Empty DataFrame\n",
              "Columns: [anime_id, name, genre, type, episodes, rating, members]\n",
              "Index: []"
            ],
            "text/html": [
              "\n",
              "  <div id=\"df-60c7d6f7-bb28-43bd-b11a-2b57f821ec18\">\n",
              "    <div class=\"colab-df-container\">\n",
              "      <div>\n",
              "<style scoped>\n",
              "    .dataframe tbody tr th:only-of-type {\n",
              "        vertical-align: middle;\n",
              "    }\n",
              "\n",
              "    .dataframe tbody tr th {\n",
              "        vertical-align: top;\n",
              "    }\n",
              "\n",
              "    .dataframe thead th {\n",
              "        text-align: right;\n",
              "    }\n",
              "</style>\n",
              "<table border=\"1\" class=\"dataframe\">\n",
              "  <thead>\n",
              "    <tr style=\"text-align: right;\">\n",
              "      <th></th>\n",
              "      <th>anime_id</th>\n",
              "      <th>name</th>\n",
              "      <th>genre</th>\n",
              "      <th>type</th>\n",
              "      <th>episodes</th>\n",
              "      <th>rating</th>\n",
              "      <th>members</th>\n",
              "    </tr>\n",
              "  </thead>\n",
              "  <tbody>\n",
              "  </tbody>\n",
              "</table>\n",
              "</div>\n",
              "      <button class=\"colab-df-convert\" onclick=\"convertToInteractive('df-60c7d6f7-bb28-43bd-b11a-2b57f821ec18')\"\n",
              "              title=\"Convert this dataframe to an interactive table.\"\n",
              "              style=\"display:none;\">\n",
              "        \n",
              "  <svg xmlns=\"http://www.w3.org/2000/svg\" height=\"24px\"viewBox=\"0 0 24 24\"\n",
              "       width=\"24px\">\n",
              "    <path d=\"M0 0h24v24H0V0z\" fill=\"none\"/>\n",
              "    <path d=\"M18.56 5.44l.94 2.06.94-2.06 2.06-.94-2.06-.94-.94-2.06-.94 2.06-2.06.94zm-11 1L8.5 8.5l.94-2.06 2.06-.94-2.06-.94L8.5 2.5l-.94 2.06-2.06.94zm10 10l.94 2.06.94-2.06 2.06-.94-2.06-.94-.94-2.06-.94 2.06-2.06.94z\"/><path d=\"M17.41 7.96l-1.37-1.37c-.4-.4-.92-.59-1.43-.59-.52 0-1.04.2-1.43.59L10.3 9.45l-7.72 7.72c-.78.78-.78 2.05 0 2.83L4 21.41c.39.39.9.59 1.41.59.51 0 1.02-.2 1.41-.59l7.78-7.78 2.81-2.81c.8-.78.8-2.07 0-2.86zM5.41 20L4 18.59l7.72-7.72 1.47 1.35L5.41 20z\"/>\n",
              "  </svg>\n",
              "      </button>\n",
              "      \n",
              "  <style>\n",
              "    .colab-df-container {\n",
              "      display:flex;\n",
              "      flex-wrap:wrap;\n",
              "      gap: 12px;\n",
              "    }\n",
              "\n",
              "    .colab-df-convert {\n",
              "      background-color: #E8F0FE;\n",
              "      border: none;\n",
              "      border-radius: 50%;\n",
              "      cursor: pointer;\n",
              "      display: none;\n",
              "      fill: #1967D2;\n",
              "      height: 32px;\n",
              "      padding: 0 0 0 0;\n",
              "      width: 32px;\n",
              "    }\n",
              "\n",
              "    .colab-df-convert:hover {\n",
              "      background-color: #E2EBFA;\n",
              "      box-shadow: 0px 1px 2px rgba(60, 64, 67, 0.3), 0px 1px 3px 1px rgba(60, 64, 67, 0.15);\n",
              "      fill: #174EA6;\n",
              "    }\n",
              "\n",
              "    [theme=dark] .colab-df-convert {\n",
              "      background-color: #3B4455;\n",
              "      fill: #D2E3FC;\n",
              "    }\n",
              "\n",
              "    [theme=dark] .colab-df-convert:hover {\n",
              "      background-color: #434B5C;\n",
              "      box-shadow: 0px 1px 3px 1px rgba(0, 0, 0, 0.15);\n",
              "      filter: drop-shadow(0px 1px 2px rgba(0, 0, 0, 0.3));\n",
              "      fill: #FFFFFF;\n",
              "    }\n",
              "  </style>\n",
              "\n",
              "      <script>\n",
              "        const buttonEl =\n",
              "          document.querySelector('#df-60c7d6f7-bb28-43bd-b11a-2b57f821ec18 button.colab-df-convert');\n",
              "        buttonEl.style.display =\n",
              "          google.colab.kernel.accessAllowed ? 'block' : 'none';\n",
              "\n",
              "        async function convertToInteractive(key) {\n",
              "          const element = document.querySelector('#df-60c7d6f7-bb28-43bd-b11a-2b57f821ec18');\n",
              "          const dataTable =\n",
              "            await google.colab.kernel.invokeFunction('convertToInteractive',\n",
              "                                                     [key], {});\n",
              "          if (!dataTable) return;\n",
              "\n",
              "          const docLinkHtml = 'Like what you see? Visit the ' +\n",
              "            '<a target=\"_blank\" href=https://colab.research.google.com/notebooks/data_table.ipynb>data table notebook</a>'\n",
              "            + ' to learn more about interactive tables.';\n",
              "          element.innerHTML = '';\n",
              "          dataTable['output_type'] = 'display_data';\n",
              "          await google.colab.output.renderOutput(dataTable, element);\n",
              "          const docLink = document.createElement('div');\n",
              "          docLink.innerHTML = docLinkHtml;\n",
              "          element.appendChild(docLink);\n",
              "        }\n",
              "      </script>\n",
              "    </div>\n",
              "  </div>\n",
              "  "
            ]
          },
          "metadata": {},
          "execution_count": 177
        }
      ]
    },
    {
      "cell_type": "markdown",
      "source": [
        "Значения Unknown в обрезанном датасете не обнаружены, чего нельзя сказать о целом наборе данных"
      ],
      "metadata": {
        "id": "mn4dCHa6tpiA"
      }
    },
    {
      "cell_type": "code",
      "source": [
        "anime_df.describe()"
      ],
      "metadata": {
        "colab": {
          "base_uri": "https://localhost:8080/",
          "height": 300
        },
        "id": "s1nw86HHOlvK",
        "outputId": "013f09a0-ee8a-4e0b-b0fd-f986ca4bc8e8"
      },
      "execution_count": null,
      "outputs": [
        {
          "output_type": "execute_result",
          "data": {
            "text/plain": [
              "           anime_id       rating       members\n",
              "count   8016.000000  8016.000000  8.016000e+03\n",
              "mean    9949.071981     6.800177  2.693453e+04\n",
              "std     9802.063751     0.846488  6.550009e+04\n",
              "min        1.000000     2.000000  4.300000e+01\n",
              "25%     2232.500000     6.310000  1.385000e+03\n",
              "50%     5964.500000     6.830000  4.412500e+03\n",
              "75%    15585.000000     7.380000  2.054475e+04\n",
              "max    34325.000000     9.370000  1.013917e+06"
            ],
            "text/html": [
              "\n",
              "  <div id=\"df-09673c06-93dd-41fa-bc80-ea20721b4bc5\">\n",
              "    <div class=\"colab-df-container\">\n",
              "      <div>\n",
              "<style scoped>\n",
              "    .dataframe tbody tr th:only-of-type {\n",
              "        vertical-align: middle;\n",
              "    }\n",
              "\n",
              "    .dataframe tbody tr th {\n",
              "        vertical-align: top;\n",
              "    }\n",
              "\n",
              "    .dataframe thead th {\n",
              "        text-align: right;\n",
              "    }\n",
              "</style>\n",
              "<table border=\"1\" class=\"dataframe\">\n",
              "  <thead>\n",
              "    <tr style=\"text-align: right;\">\n",
              "      <th></th>\n",
              "      <th>anime_id</th>\n",
              "      <th>rating</th>\n",
              "      <th>members</th>\n",
              "    </tr>\n",
              "  </thead>\n",
              "  <tbody>\n",
              "    <tr>\n",
              "      <th>count</th>\n",
              "      <td>8016.000000</td>\n",
              "      <td>8016.000000</td>\n",
              "      <td>8.016000e+03</td>\n",
              "    </tr>\n",
              "    <tr>\n",
              "      <th>mean</th>\n",
              "      <td>9949.071981</td>\n",
              "      <td>6.800177</td>\n",
              "      <td>2.693453e+04</td>\n",
              "    </tr>\n",
              "    <tr>\n",
              "      <th>std</th>\n",
              "      <td>9802.063751</td>\n",
              "      <td>0.846488</td>\n",
              "      <td>6.550009e+04</td>\n",
              "    </tr>\n",
              "    <tr>\n",
              "      <th>min</th>\n",
              "      <td>1.000000</td>\n",
              "      <td>2.000000</td>\n",
              "      <td>4.300000e+01</td>\n",
              "    </tr>\n",
              "    <tr>\n",
              "      <th>25%</th>\n",
              "      <td>2232.500000</td>\n",
              "      <td>6.310000</td>\n",
              "      <td>1.385000e+03</td>\n",
              "    </tr>\n",
              "    <tr>\n",
              "      <th>50%</th>\n",
              "      <td>5964.500000</td>\n",
              "      <td>6.830000</td>\n",
              "      <td>4.412500e+03</td>\n",
              "    </tr>\n",
              "    <tr>\n",
              "      <th>75%</th>\n",
              "      <td>15585.000000</td>\n",
              "      <td>7.380000</td>\n",
              "      <td>2.054475e+04</td>\n",
              "    </tr>\n",
              "    <tr>\n",
              "      <th>max</th>\n",
              "      <td>34325.000000</td>\n",
              "      <td>9.370000</td>\n",
              "      <td>1.013917e+06</td>\n",
              "    </tr>\n",
              "  </tbody>\n",
              "</table>\n",
              "</div>\n",
              "      <button class=\"colab-df-convert\" onclick=\"convertToInteractive('df-09673c06-93dd-41fa-bc80-ea20721b4bc5')\"\n",
              "              title=\"Convert this dataframe to an interactive table.\"\n",
              "              style=\"display:none;\">\n",
              "        \n",
              "  <svg xmlns=\"http://www.w3.org/2000/svg\" height=\"24px\"viewBox=\"0 0 24 24\"\n",
              "       width=\"24px\">\n",
              "    <path d=\"M0 0h24v24H0V0z\" fill=\"none\"/>\n",
              "    <path d=\"M18.56 5.44l.94 2.06.94-2.06 2.06-.94-2.06-.94-.94-2.06-.94 2.06-2.06.94zm-11 1L8.5 8.5l.94-2.06 2.06-.94-2.06-.94L8.5 2.5l-.94 2.06-2.06.94zm10 10l.94 2.06.94-2.06 2.06-.94-2.06-.94-.94-2.06-.94 2.06-2.06.94z\"/><path d=\"M17.41 7.96l-1.37-1.37c-.4-.4-.92-.59-1.43-.59-.52 0-1.04.2-1.43.59L10.3 9.45l-7.72 7.72c-.78.78-.78 2.05 0 2.83L4 21.41c.39.39.9.59 1.41.59.51 0 1.02-.2 1.41-.59l7.78-7.78 2.81-2.81c.8-.78.8-2.07 0-2.86zM5.41 20L4 18.59l7.72-7.72 1.47 1.35L5.41 20z\"/>\n",
              "  </svg>\n",
              "      </button>\n",
              "      \n",
              "  <style>\n",
              "    .colab-df-container {\n",
              "      display:flex;\n",
              "      flex-wrap:wrap;\n",
              "      gap: 12px;\n",
              "    }\n",
              "\n",
              "    .colab-df-convert {\n",
              "      background-color: #E8F0FE;\n",
              "      border: none;\n",
              "      border-radius: 50%;\n",
              "      cursor: pointer;\n",
              "      display: none;\n",
              "      fill: #1967D2;\n",
              "      height: 32px;\n",
              "      padding: 0 0 0 0;\n",
              "      width: 32px;\n",
              "    }\n",
              "\n",
              "    .colab-df-convert:hover {\n",
              "      background-color: #E2EBFA;\n",
              "      box-shadow: 0px 1px 2px rgba(60, 64, 67, 0.3), 0px 1px 3px 1px rgba(60, 64, 67, 0.15);\n",
              "      fill: #174EA6;\n",
              "    }\n",
              "\n",
              "    [theme=dark] .colab-df-convert {\n",
              "      background-color: #3B4455;\n",
              "      fill: #D2E3FC;\n",
              "    }\n",
              "\n",
              "    [theme=dark] .colab-df-convert:hover {\n",
              "      background-color: #434B5C;\n",
              "      box-shadow: 0px 1px 3px 1px rgba(0, 0, 0, 0.15);\n",
              "      filter: drop-shadow(0px 1px 2px rgba(0, 0, 0, 0.3));\n",
              "      fill: #FFFFFF;\n",
              "    }\n",
              "  </style>\n",
              "\n",
              "      <script>\n",
              "        const buttonEl =\n",
              "          document.querySelector('#df-09673c06-93dd-41fa-bc80-ea20721b4bc5 button.colab-df-convert');\n",
              "        buttonEl.style.display =\n",
              "          google.colab.kernel.accessAllowed ? 'block' : 'none';\n",
              "\n",
              "        async function convertToInteractive(key) {\n",
              "          const element = document.querySelector('#df-09673c06-93dd-41fa-bc80-ea20721b4bc5');\n",
              "          const dataTable =\n",
              "            await google.colab.kernel.invokeFunction('convertToInteractive',\n",
              "                                                     [key], {});\n",
              "          if (!dataTable) return;\n",
              "\n",
              "          const docLinkHtml = 'Like what you see? Visit the ' +\n",
              "            '<a target=\"_blank\" href=https://colab.research.google.com/notebooks/data_table.ipynb>data table notebook</a>'\n",
              "            + ' to learn more about interactive tables.';\n",
              "          element.innerHTML = '';\n",
              "          dataTable['output_type'] = 'display_data';\n",
              "          await google.colab.output.renderOutput(dataTable, element);\n",
              "          const docLink = document.createElement('div');\n",
              "          docLink.innerHTML = docLinkHtml;\n",
              "          element.appendChild(docLink);\n",
              "        }\n",
              "      </script>\n",
              "    </div>\n",
              "  </div>\n",
              "  "
            ]
          },
          "metadata": {},
          "execution_count": 178
        }
      ]
    },
    {
      "cell_type": "code",
      "source": [
        "anime_df.info()"
      ],
      "metadata": {
        "id": "wQjgXk0KcSkW",
        "colab": {
          "base_uri": "https://localhost:8080/"
        },
        "outputId": "e6f345a0-cd5b-4ed2-a051-04c408ffd0e7"
      },
      "execution_count": null,
      "outputs": [
        {
          "output_type": "stream",
          "name": "stdout",
          "text": [
            "<class 'pandas.core.frame.DataFrame'>\n",
            "Int64Index: 8016 entries, 0 to 8015\n",
            "Data columns (total 7 columns):\n",
            " #   Column    Non-Null Count  Dtype  \n",
            "---  ------    --------------  -----  \n",
            " 0   anime_id  8016 non-null   int64  \n",
            " 1   name      8016 non-null   object \n",
            " 2   genre     8006 non-null   object \n",
            " 3   type      8016 non-null   object \n",
            " 4   episodes  8016 non-null   object \n",
            " 5   rating    8016 non-null   float64\n",
            " 6   members   8016 non-null   int64  \n",
            "dtypes: float64(1), int64(2), object(4)\n",
            "memory usage: 759.0+ KB\n"
          ]
        }
      ]
    },
    {
      "cell_type": "code",
      "source": [
        "cols = anime_df.columns # первые 20 колонок\n",
        "# желтый - пропущенные данные, синий - не пропущенные\n",
        "colours = ['#000099', '#ffff00'] \n",
        "sns.heatmap(anime_df[cols].isnull(), cmap=sns.color_palette(colours))"
      ],
      "metadata": {
        "colab": {
          "base_uri": "https://localhost:8080/",
          "height": 324
        },
        "id": "7eqAhiE-LzY7",
        "outputId": "7b3afd5b-6790-435b-e44a-21b09d3c2ec6"
      },
      "execution_count": null,
      "outputs": [
        {
          "output_type": "execute_result",
          "data": {
            "text/plain": [
              "<matplotlib.axes._subplots.AxesSubplot at 0x7f91a66d2c90>"
            ]
          },
          "metadata": {},
          "execution_count": 180
        },
        {
          "output_type": "display_data",
          "data": {
            "text/plain": [
              "<Figure size 432x288 with 2 Axes>"
            ],
            "image/png": "[encoded data removed]"
          },
          "metadata": {
            "needs_background": "light"
          }
        }
      ]
    },
    {
      "cell_type": "code",
      "source": [
        "for col in anime_df.columns:\n",
        "    print(\"{0}, num. NA's: {1}\".format(col, pd.isnull(anime_df[col]).sum()))"
      ],
      "metadata": {
        "colab": {
          "base_uri": "https://localhost:8080/"
        },
        "id": "DuLbVckuMPaA",
        "outputId": "58374215-594c-49e8-cd0f-8d4cea986cf0"
      },
      "execution_count": null,
      "outputs": [
        {
          "output_type": "stream",
          "name": "stdout",
          "text": [
            "anime_id, num. NA's: 0\n",
            "name, num. NA's: 0\n",
            "genre, num. NA's: 10\n",
            "type, num. NA's: 0\n",
            "episodes, num. NA's: 0\n",
            "rating, num. NA's: 0\n",
            "members, num. NA's: 0\n"
          ]
        }
      ]
    },
    {
      "cell_type": "markdown",
      "source": [
        "Удалим обнаруженные значения Nan"
      ],
      "metadata": {
        "id": "iR-cSurQt49_"
      }
    },
    {
      "cell_type": "code",
      "source": [
        "anime_df.dropna(inplace = True)"
      ],
      "metadata": {
        "id": "kDFe3QcOObE8"
      },
      "execution_count": null,
      "outputs": []
    },
    {
      "cell_type": "markdown",
      "source": [
        "#### Rating_df"
      ],
      "metadata": {
        "id": "tNhwRxCKMmAy"
      }
    },
    {
      "cell_type": "code",
      "source": [
        "rating_df.info()"
      ],
      "metadata": {
        "colab": {
          "base_uri": "https://localhost:8080/"
        },
        "outputId": "efd483e1-331a-488d-f40d-7febf7d680fe",
        "id": "2_ptFvsfMqrJ"
      },
      "execution_count": null,
      "outputs": [
        {
          "output_type": "stream",
          "name": "stdout",
          "text": [
            "<class 'pandas.core.frame.DataFrame'>\n",
            "RangeIndex: 781374 entries, 0 to 781373\n",
            "Data columns (total 3 columns):\n",
            " #   Column    Non-Null Count   Dtype\n",
            "---  ------    --------------   -----\n",
            " 0   user_id   781374 non-null  int64\n",
            " 1   anime_id  781374 non-null  int64\n",
            " 2   rating    781374 non-null  int64\n",
            "dtypes: int64(3)\n",
            "memory usage: 17.9 MB\n"
          ]
        }
      ]
    },
    {
      "cell_type": "code",
      "source": [
        "cols = rating_df.columns # первые 20 колонок\n",
        "# синий - пропущенные данные, желтый - не пропущенные\n",
        "colours = ['#000099', '#ffff00'] \n",
        "sns.heatmap(rating_df[cols].isnull(), cmap=sns.color_palette(colours))"
      ],
      "metadata": {
        "colab": {
          "base_uri": "https://localhost:8080/",
          "height": 288
        },
        "outputId": "52ba3acb-4003-4b5f-817d-551c79f2533d",
        "id": "SOiRyfjJMqrK"
      },
      "execution_count": null,
      "outputs": [
        {
          "output_type": "execute_result",
          "data": {
            "text/plain": [
              "<matplotlib.axes._subplots.AxesSubplot at 0x7f91a5abf1d0>"
            ]
          },
          "metadata": {},
          "execution_count": 186
        },
        {
          "output_type": "display_data",
          "data": {
            "text/plain": [
              "<Figure size 432x288 with 2 Axes>"
            ],
            "image/png": "[encoded data removed]"
          },
          "metadata": {
            "needs_background": "light"
          }
        }
      ]
    },
    {
      "cell_type": "code",
      "source": [
        "for col in rating_df.columns:\n",
        "    print(\"{0}, num. NA's: {1}\".format(col, pd.isnull(rating_df[col]).sum()))"
      ],
      "metadata": {
        "colab": {
          "base_uri": "https://localhost:8080/"
        },
        "outputId": "5af6f1c9-7c6c-4b17-a106-cf0b2713de6b",
        "id": "F7eI_qVSMqrK"
      },
      "execution_count": null,
      "outputs": [
        {
          "output_type": "stream",
          "name": "stdout",
          "text": [
            "user_id, num. NA's: 0\n",
            "anime_id, num. NA's: 0\n",
            "rating, num. NA's: 0\n"
          ]
        }
      ]
    },
    {
      "cell_type": "markdown",
      "source": [
        "Пропущенные значения в rating_df не обнаружены"
      ],
      "metadata": {
        "id": "yy60nQj1uEI2"
      }
    },
    {
      "cell_type": "code",
      "source": [
        "print('sparcity of rating matrix',\n",
        "1-rating_df.shape[0]/(rating_df.anime_id.nunique()*rating_df.user_id.nunique()))"
      ],
      "metadata": {
        "colab": {
          "base_uri": "https://localhost:8080/"
        },
        "id": "DIgvr9mMnkDr",
        "outputId": "abc3179e-ea7e-420c-8d80-63029a7870a8"
      },
      "execution_count": null,
      "outputs": [
        {
          "output_type": "stream",
          "name": "stdout",
          "text": [
            "sparcity of rating matrix 0.9865604858117765\n"
          ]
        }
      ]
    },
    {
      "cell_type": "markdown",
      "source": [
        "Матрица обладает небольшим количеством пропущенных значений"
      ],
      "metadata": {
        "id": "NqvO4tcznxCF"
      }
    },
    {
      "cell_type": "markdown",
      "source": [
        "### Задание №3 : Разделить данные на тренировочные и валидационные (1/2 балла)"
      ],
      "metadata": {
        "id": "y5yKrwmbRqHY"
      }
    },
    {
      "cell_type": "markdown",
      "source": [
        "Разделим данные по user_id"
      ],
      "metadata": {
        "id": "LIFcB3i3vcWp"
      }
    },
    {
      "cell_type": "code",
      "execution_count": null,
      "metadata": {
        "id": "bAPrccIiOJlH",
        "colab": {
          "base_uri": "https://localhost:8080/"
        },
        "outputId": "95ecb2be-9fb3-4549-f018-cd0f04cc3617"
      },
      "outputs": [
        {
          "output_type": "stream",
          "name": "stdout",
          "text": [
            "Rating table after min filtering 776688\n"
          ]
        }
      ],
      "source": [
        "TRESHOLD = 0.7\n",
        "MIN_RATE = 10\n",
        "\n",
        "rating_df_filtered = rating_df.groupby('user_id').filter(lambda x: len(x)>=MIN_RATE)\n",
        "\n",
        "print('Rating table after min filtering', rating_df_filtered.shape[0])"
      ]
    },
    {
      "cell_type": "code",
      "execution_count": null,
      "metadata": {
        "id": "7bD2uSykOJlI"
      },
      "outputs": [],
      "source": [
        "train = pd.DataFrame()\n",
        "test = pd.DataFrame()\n",
        "\n",
        "for user in rating_df_filtered.user_id.unique():\n",
        "    temp_table = rating_df_filtered[rating_df_filtered.user_id == user]\n",
        "    cnt = temp_table.shape[0]\n",
        "    size_train = round(cnt*0.7, 0)\n",
        "    train = train.append(temp_table.iloc[:int(size_train),:])\n",
        "    test = test.append(temp_table.iloc[int(size_train):,:])"
      ]
    },
    {
      "cell_type": "code",
      "execution_count": null,
      "metadata": {
        "colab": {
          "base_uri": "https://localhost:8080/"
        },
        "id": "kz3VBdpDOJlI",
        "outputId": "48fb5e00-626c-4820-8592-221867f3851d"
      },
      "outputs": [
        {
          "output_type": "stream",
          "name": "stdout",
          "text": [
            "dataset train  543583  test 233105\n",
            "unique user in train 6147 test  6147\n",
            "cold-user in the test  0\n"
          ]
        }
      ],
      "source": [
        "print('dataset train ', train.shape[0], ' test', test.shape[0])\n",
        "print('unique user in train', train.user_id.nunique(), 'test ', test.user_id.nunique())\n",
        "print('cold-user in the test ', test.user_id.nunique() - test[test.user_id.isin(train.user_id)].user_id.nunique())"
      ]
    },
    {
      "cell_type": "code",
      "execution_count": null,
      "metadata": {
        "colab": {
          "base_uri": "https://localhost:8080/"
        },
        "id": "QowT_4gkOJlI",
        "outputId": "b92b81a8-9245-4f84-abc9-8847732a46d7"
      },
      "outputs": [
        {
          "output_type": "stream",
          "name": "stdout",
          "text": [
            "unique user in train 6696 test  6136\n",
            "cold-item in the test  1318\n"
          ]
        }
      ],
      "source": [
        "print('unique user in train', train.anime_id.nunique(), 'test ', test.anime_id.nunique())\n",
        "print('cold-item in the test ', test.anime_id.nunique() - test[test.anime_id.isin(train.anime_id)].anime_id.nunique())"
      ]
    },
    {
      "cell_type": "markdown",
      "source": [
        "### Метрики"
      ],
      "metadata": {
        "id": "voZWHKTMOdPT"
      }
    },
    {
      "cell_type": "code",
      "execution_count": null,
      "metadata": {
        "id": "FGJesU0QOhDk"
      },
      "outputs": [],
      "source": [
        "\"\"\"Information Retrieval metrics\n",
        "Useful Resources:\n",
        "http://www.cs.utexas.edu/~mooney/ir-course/slides/Evaluation.ppt\n",
        "http://www.nii.ac.jp/TechReports/05-014E.pdf\n",
        "http://www.stanford.edu/class/cs276/handouts/EvaluationNew-handout-6-per.pdf\n",
        "http://hal.archives-ouvertes.fr/docs/00/72/67/60/PDF/07-busa-fekete.pdf\n",
        "Learning to Rank for Information Retrieval (Tie-Yan Liu)\n",
        "\"\"\"\n",
        "\n",
        "\n",
        "def mean_reciprocal_rank(rs):\n",
        "    \"\"\"Score is reciprocal of the rank of the first relevant item\n",
        "    First element is 'rank 1'.  Relevance is binary (nonzero is relevant).\n",
        "    Example from http://en.wikipedia.org/wiki/Mean_reciprocal_rank\n",
        "    >>> rs = [[0, 0, 1], [0, 1, 0], [1, 0, 0]]\n",
        "    >>> mean_reciprocal_rank(rs)\n",
        "    0.61111111111111105\n",
        "    >>> rs = np.array([[0, 0, 0], [0, 1, 0], [1, 0, 0]])\n",
        "    >>> mean_reciprocal_rank(rs)\n",
        "    0.5\n",
        "    >>> rs = [[0, 0, 0, 1], [1, 0, 0], [1, 0, 0]]\n",
        "    >>> mean_reciprocal_rank(rs)\n",
        "    0.75\n",
        "    Args:\n",
        "        rs: Iterator of relevance scores (list or numpy) in rank order\n",
        "            (first element is the first item)\n",
        "    Returns:\n",
        "        Mean reciprocal rank\n",
        "    \"\"\"\n",
        "    rs = (np.asarray(r).nonzero()[0] for r in rs)\n",
        "    return np.mean([1. / (r[0] + 1) if r.size else 0. for r in rs])\n",
        "\n",
        "\n",
        "def r_precision(r):\n",
        "    \"\"\"Score is precision after all relevant documents have been retrieved\n",
        "    Relevance is binary (nonzero is relevant).\n",
        "    >>> r = [0, 0, 1]\n",
        "    >>> r_precision(r)\n",
        "    0.33333333333333331\n",
        "    >>> r = [0, 1, 0]\n",
        "    >>> r_precision(r)\n",
        "    0.5\n",
        "    >>> r = [1, 0, 0]\n",
        "    >>> r_precision(r)\n",
        "    1.0\n",
        "    Args:\n",
        "        r: Relevance scores (list or numpy) in rank order\n",
        "            (first element is the first item)\n",
        "    Returns:\n",
        "        R Precision\n",
        "    \"\"\"\n",
        "    r = np.asarray(r) != 0\n",
        "    z = r.nonzero()[0]\n",
        "    if not z.size:\n",
        "        return 0.\n",
        "    return np.mean(r[:z[-1] + 1])\n",
        "\n",
        "\n",
        "def precision_at_k(r, k):\n",
        "    \"\"\"Score is precision @ k\n",
        "    Relevance is binary (nonzero is relevant).\n",
        "    >>> r = [0, 0, 1]\n",
        "    >>> precision_at_k(r, 1)\n",
        "    0.0\n",
        "    >>> precision_at_k(r, 2)\n",
        "    0.0\n",
        "    >>> precision_at_k(r, 3)\n",
        "    0.33333333333333331\n",
        "    >>> precision_at_k(r, 4)\n",
        "    Traceback (most recent call last):\n",
        "        File \"<stdin>\", line 1, in ?\n",
        "    ValueError: Relevance score length < k\n",
        "    Args:\n",
        "        r: Relevance scores (list or numpy) in rank order\n",
        "            (first element is the first item)\n",
        "    Returns:\n",
        "        Precision @ k\n",
        "    Raises:\n",
        "        ValueError: len(r) must be >= k\n",
        "    \"\"\"\n",
        "    assert k >= 1\n",
        "    r = np.asarray(r)[:k] != 0\n",
        "    if r.size != k:\n",
        "        raise ValueError('Relevance score length < k')\n",
        "    return np.mean(r)\n",
        "\n",
        "\n",
        "def average_precision(r):\n",
        "    \"\"\"Score is average precision (area under PR curve)\n",
        "    Relevance is binary (nonzero is relevant).\n",
        "    >>> r = [1, 1, 0, 1, 0, 1, 0, 0, 0, 1]\n",
        "    >>> delta_r = 1. / sum(r)\n",
        "    >>> sum([sum(r[:x + 1]) / (x + 1.) * delta_r for x, y in enumerate(r) if y])\n",
        "    0.7833333333333333\n",
        "    >>> average_precision(r)\n",
        "    0.78333333333333333\n",
        "    Args:\n",
        "        r: Relevance scores (list or numpy) in rank order\n",
        "            (first element is the first item)\n",
        "    Returns:\n",
        "        Average precision\n",
        "    \"\"\"\n",
        "    r = np.asarray(r) != 0\n",
        "    out = [precision_at_k(r, k + 1) for k in range(r.size) if r[k]]\n",
        "    if not out:\n",
        "        return 0.\n",
        "    return np.mean(out)\n",
        "\n",
        "\n",
        "def mean_average_precision(rs):\n",
        "    \"\"\"Score is mean average precision\n",
        "    Relevance is binary (nonzero is relevant).\n",
        "    >>> rs = [[1, 1, 0, 1, 0, 1, 0, 0, 0, 1]]\n",
        "    >>> mean_average_precision(rs)\n",
        "    0.78333333333333333\n",
        "    >>> rs = [[1, 1, 0, 1, 0, 1, 0, 0, 0, 1], [0]]\n",
        "    >>> mean_average_precision(rs)\n",
        "    0.39166666666666666\n",
        "    Args:\n",
        "        rs: Iterator of relevance scores (list or numpy) in rank order\n",
        "            (first element is the first item)\n",
        "    Returns:\n",
        "        Mean average precision\n",
        "    \"\"\"\n",
        "    return np.mean([average_precision(r) for r in rs])\n",
        "\n",
        "\n",
        "def dcg_at_k(r, k, method=0):\n",
        "    \"\"\"Score is discounted cumulative gain (dcg)\n",
        "    Relevance is positive real values.  Can use binary\n",
        "    as the previous methods.\n",
        "    Example from\n",
        "    http://www.stanford.edu/class/cs276/handouts/EvaluationNew-handout-6-per.pdf\n",
        "    >>> r = [3, 2, 3, 0, 0, 1, 2, 2, 3, 0]\n",
        "    >>> dcg_at_k(r, 1)\n",
        "    3.0\n",
        "    >>> dcg_at_k(r, 1, method=1)\n",
        "    3.0\n",
        "    >>> dcg_at_k(r, 2)\n",
        "    5.0\n",
        "    >>> dcg_at_k(r, 2, method=1)\n",
        "    4.2618595071429155\n",
        "    >>> dcg_at_k(r, 10)\n",
        "    9.6051177391888114\n",
        "    >>> dcg_at_k(r, 11)\n",
        "    9.6051177391888114\n",
        "    Args:\n",
        "        r: Relevance scores (list or numpy) in rank order\n",
        "            (first element is the first item)\n",
        "        k: Number of results to consider\n",
        "        method: If 0 then weights are [1.0, 1.0, 0.6309, 0.5, 0.4307, ...]\n",
        "                If 1 then weights are [1.0, 0.6309, 0.5, 0.4307, ...]\n",
        "    Returns:\n",
        "        Discounted cumulative gain\n",
        "    \"\"\"\n",
        "    r = np.asfarray(r)[:k]\n",
        "    if r.size:\n",
        "        if method == 0:\n",
        "            return r[0] + np.sum(r[1:] / np.log2(np.arange(2, r.size + 1)))\n",
        "        elif method == 1:\n",
        "            return np.sum(r / np.log2(np.arange(2, r.size + 2)))\n",
        "        else:\n",
        "            raise ValueError('method must be 0 or 1.')\n",
        "    return 0.\n",
        "\n",
        "\n",
        "def ndcg_at_k(r, k, method=0):\n",
        "    \"\"\"Score is normalized discounted cumulative gain (ndcg)\n",
        "    Relevance is positive real values.  Can use binary\n",
        "    as the previous methods.\n",
        "    Example from\n",
        "    http://www.stanford.edu/class/cs276/handouts/EvaluationNew-handout-6-per.pdf\n",
        "    >>> r = [3, 2, 3, 0, 0, 1, 2, 2, 3, 0]\n",
        "    >>> ndcg_at_k(r, 1)\n",
        "    1.0\n",
        "    >>> r = [2, 1, 2, 0]\n",
        "    >>> ndcg_at_k(r, 4)\n",
        "    0.9203032077642922\n",
        "    >>> ndcg_at_k(r, 4, method=1)\n",
        "    0.96519546960144276\n",
        "    >>> ndcg_at_k([0], 1)\n",
        "    0.0\n",
        "    >>> ndcg_at_k([1], 2)\n",
        "    1.0\n",
        "    Args:\n",
        "        r: Relevance scores (list or numpy) in rank order\n",
        "            (first element is the first item)\n",
        "        k: Number of results to consider\n",
        "        method: If 0 then weights are [1.0, 1.0, 0.6309, 0.5, 0.4307, ...]\n",
        "                If 1 then weights are [1.0, 0.6309, 0.5, 0.4307, ...]\n",
        "    Returns:\n",
        "        Normalized discounted cumulative gain\n",
        "    \"\"\"\n",
        "    dcg_max = dcg_at_k(sorted(r, reverse=True), k, method)\n",
        "    if not dcg_max:\n",
        "        return 0.\n",
        "    return dcg_at_k(r, k, method) / dcg_max"
      ]
    },
    {
      "cell_type": "markdown",
      "source": [
        "### Задание №4 : Решить задачу на основе предложения всем юзерам наиболее популярных item (1 балл)"
      ],
      "metadata": {
        "id": "LTrzK6v7bGVo"
      }
    },
    {
      "cell_type": "markdown",
      "source": [
        "Сохраняем топ 10 самых популярных аниме. Будем рекомендовать их каждому из 6147 пользователей"
      ],
      "metadata": {
        "id": "DT8NDJ1QGNT7"
      }
    },
    {
      "cell_type": "code",
      "source": [
        "predict = []\n",
        "\n",
        "number_of_anime = 10\n",
        "top_anime = list(rating_df.groupby('anime_id').size().sort_values(ascending=False)[:number_of_anime].values)\n",
        "\n",
        "for i in range(len(train.user_id.unique())):\n",
        "    predict.append(top_anime)\n",
        "predict = np.array(predict)"
      ],
      "metadata": {
        "id": "cKVSvBu4dvBt"
      },
      "execution_count": null,
      "outputs": []
    },
    {
      "cell_type": "code",
      "source": [
        "predict[2]"
      ],
      "metadata": {
        "colab": {
          "base_uri": "https://localhost:8080/"
        },
        "id": "tSLCxKNrfWZh",
        "outputId": "afa17061-3ab0-4cf1-8aa3-53e1aa58f0c9"
      },
      "execution_count": null,
      "outputs": [
        {
          "output_type": "execute_result",
          "data": {
            "text/plain": [
              "array([3951, 3250, 3206, 2877, 2825, 2658, 2614, 2612, 2576, 2442])"
            ]
          },
          "metadata": {},
          "execution_count": 33
        }
      ]
    },
    {
      "cell_type": "code",
      "source": [
        "predict.shape"
      ],
      "metadata": {
        "colab": {
          "base_uri": "https://localhost:8080/"
        },
        "id": "JR9ikG8he0Op",
        "outputId": "95992445-98ba-4950-94cf-c86c2303175d"
      },
      "execution_count": null,
      "outputs": [
        {
          "output_type": "execute_result",
          "data": {
            "text/plain": [
              "(6147, 10)"
            ]
          },
          "metadata": {},
          "execution_count": 23
        }
      ]
    },
    {
      "cell_type": "markdown",
      "source": [
        "Создаем id2user/user2id для создания соответствия между predict и user_id"
      ],
      "metadata": {
        "id": "cGGZDpcZGgR1"
      }
    },
    {
      "cell_type": "code",
      "execution_count": null,
      "metadata": {
        "id": "_atzGb68fNkZ"
      },
      "outputs": [],
      "source": [
        "id2user = {key: value for key, value in enumerate(train.user_id.unique())}\n",
        "user2id  = {value:key for key, value in id2user.items()}\n",
        "# id2items = {key: value for key, value in enumerate(train.anime_id.unique())} # Get our unique products that were purchased\n",
        "# items2id  = {value:key for key, value in id2items.items()}\n",
        "# rating = list(train.rating) # All of our purchases"
      ]
    },
    {
      "cell_type": "markdown",
      "source": [
        "Находим и помечаем 'холодных' пользователей"
      ],
      "metadata": {
        "id": "0IDqnuZYHggt"
      }
    },
    {
      "cell_type": "code",
      "execution_count": null,
      "metadata": {
        "id": "wQZcH-TKdvW3"
      },
      "outputs": [],
      "source": [
        "train_users, test_users = set(train.user_id), set(test.user_id)\n",
        "train_movies, test_movies = set(train.anime_id), set(test.anime_id)\n",
        "cold_users = [i for i in test_users if i not in train_users]\n",
        "cold_items = [i for i in test_movies if i not in train_movies]"
      ]
    },
    {
      "cell_type": "code",
      "execution_count": null,
      "metadata": {
        "colab": {
          "base_uri": "https://localhost:8080/",
          "height": 206
        },
        "id": "oKlucXe1dvW3",
        "outputId": "2c67fabe-0565-4645-90f7-5a5c98fa8023"
      },
      "outputs": [
        {
          "output_type": "execute_result",
          "data": {
            "text/plain": [
              "     user_id  anime_id  rating  cold_users  cold_items\n",
              "107        1     17265      -1       False       False\n",
              "108        1     17729      -1       False       False\n",
              "109        1     18247      -1       False       False\n",
              "110        1     18277      -1       False       False\n",
              "111        1     18753      -1       False       False"
            ],
            "text/html": [
              "\n",
              "  <div id=\"df-00a2ab47-f60c-4082-8c9c-70f7c0528751\">\n",
              "    <div class=\"colab-df-container\">\n",
              "      <div>\n",
              "<style scoped>\n",
              "    .dataframe tbody tr th:only-of-type {\n",
              "        vertical-align: middle;\n",
              "    }\n",
              "\n",
              "    .dataframe tbody tr th {\n",
              "        vertical-align: top;\n",
              "    }\n",
              "\n",
              "    .dataframe thead th {\n",
              "        text-align: right;\n",
              "    }\n",
              "</style>\n",
              "<table border=\"1\" class=\"dataframe\">\n",
              "  <thead>\n",
              "    <tr style=\"text-align: right;\">\n",
              "      <th></th>\n",
              "      <th>user_id</th>\n",
              "      <th>anime_id</th>\n",
              "      <th>rating</th>\n",
              "      <th>cold_users</th>\n",
              "      <th>cold_items</th>\n",
              "    </tr>\n",
              "  </thead>\n",
              "  <tbody>\n",
              "    <tr>\n",
              "      <th>107</th>\n",
              "      <td>1</td>\n",
              "      <td>17265</td>\n",
              "      <td>-1</td>\n",
              "      <td>False</td>\n",
              "      <td>False</td>\n",
              "    </tr>\n",
              "    <tr>\n",
              "      <th>108</th>\n",
              "      <td>1</td>\n",
              "      <td>17729</td>\n",
              "      <td>-1</td>\n",
              "      <td>False</td>\n",
              "      <td>False</td>\n",
              "    </tr>\n",
              "    <tr>\n",
              "      <th>109</th>\n",
              "      <td>1</td>\n",
              "      <td>18247</td>\n",
              "      <td>-1</td>\n",
              "      <td>False</td>\n",
              "      <td>False</td>\n",
              "    </tr>\n",
              "    <tr>\n",
              "      <th>110</th>\n",
              "      <td>1</td>\n",
              "      <td>18277</td>\n",
              "      <td>-1</td>\n",
              "      <td>False</td>\n",
              "      <td>False</td>\n",
              "    </tr>\n",
              "    <tr>\n",
              "      <th>111</th>\n",
              "      <td>1</td>\n",
              "      <td>18753</td>\n",
              "      <td>-1</td>\n",
              "      <td>False</td>\n",
              "      <td>False</td>\n",
              "    </tr>\n",
              "  </tbody>\n",
              "</table>\n",
              "</div>\n",
              "      <button class=\"colab-df-convert\" onclick=\"convertToInteractive('df-00a2ab47-f60c-4082-8c9c-70f7c0528751')\"\n",
              "              title=\"Convert this dataframe to an interactive table.\"\n",
              "              style=\"display:none;\">\n",
              "        \n",
              "  <svg xmlns=\"http://www.w3.org/2000/svg\" height=\"24px\"viewBox=\"0 0 24 24\"\n",
              "       width=\"24px\">\n",
              "    <path d=\"M0 0h24v24H0V0z\" fill=\"none\"/>\n",
              "    <path d=\"M18.56 5.44l.94 2.06.94-2.06 2.06-.94-2.06-.94-.94-2.06-.94 2.06-2.06.94zm-11 1L8.5 8.5l.94-2.06 2.06-.94-2.06-.94L8.5 2.5l-.94 2.06-2.06.94zm10 10l.94 2.06.94-2.06 2.06-.94-2.06-.94-.94-2.06-.94 2.06-2.06.94z\"/><path d=\"M17.41 7.96l-1.37-1.37c-.4-.4-.92-.59-1.43-.59-.52 0-1.04.2-1.43.59L10.3 9.45l-7.72 7.72c-.78.78-.78 2.05 0 2.83L4 21.41c.39.39.9.59 1.41.59.51 0 1.02-.2 1.41-.59l7.78-7.78 2.81-2.81c.8-.78.8-2.07 0-2.86zM5.41 20L4 18.59l7.72-7.72 1.47 1.35L5.41 20z\"/>\n",
              "  </svg>\n",
              "      </button>\n",
              "      \n",
              "  <style>\n",
              "    .colab-df-container {\n",
              "      display:flex;\n",
              "      flex-wrap:wrap;\n",
              "      gap: 12px;\n",
              "    }\n",
              "\n",
              "    .colab-df-convert {\n",
              "      background-color: #E8F0FE;\n",
              "      border: none;\n",
              "      border-radius: 50%;\n",
              "      cursor: pointer;\n",
              "      display: none;\n",
              "      fill: #1967D2;\n",
              "      height: 32px;\n",
              "      padding: 0 0 0 0;\n",
              "      width: 32px;\n",
              "    }\n",
              "\n",
              "    .colab-df-convert:hover {\n",
              "      background-color: #E2EBFA;\n",
              "      box-shadow: 0px 1px 2px rgba(60, 64, 67, 0.3), 0px 1px 3px 1px rgba(60, 64, 67, 0.15);\n",
              "      fill: #174EA6;\n",
              "    }\n",
              "\n",
              "    [theme=dark] .colab-df-convert {\n",
              "      background-color: #3B4455;\n",
              "      fill: #D2E3FC;\n",
              "    }\n",
              "\n",
              "    [theme=dark] .colab-df-convert:hover {\n",
              "      background-color: #434B5C;\n",
              "      box-shadow: 0px 1px 3px 1px rgba(0, 0, 0, 0.15);\n",
              "      filter: drop-shadow(0px 1px 2px rgba(0, 0, 0, 0.3));\n",
              "      fill: #FFFFFF;\n",
              "    }\n",
              "  </style>\n",
              "\n",
              "      <script>\n",
              "        const buttonEl =\n",
              "          document.querySelector('#df-00a2ab47-f60c-4082-8c9c-70f7c0528751 button.colab-df-convert');\n",
              "        buttonEl.style.display =\n",
              "          google.colab.kernel.accessAllowed ? 'block' : 'none';\n",
              "\n",
              "        async function convertToInteractive(key) {\n",
              "          const element = document.querySelector('#df-00a2ab47-f60c-4082-8c9c-70f7c0528751');\n",
              "          const dataTable =\n",
              "            await google.colab.kernel.invokeFunction('convertToInteractive',\n",
              "                                                     [key], {});\n",
              "          if (!dataTable) return;\n",
              "\n",
              "          const docLinkHtml = 'Like what you see? Visit the ' +\n",
              "            '<a target=\"_blank\" href=https://colab.research.google.com/notebooks/data_table.ipynb>data table notebook</a>'\n",
              "            + ' to learn more about interactive tables.';\n",
              "          element.innerHTML = '';\n",
              "          dataTable['output_type'] = 'display_data';\n",
              "          await google.colab.output.renderOutput(dataTable, element);\n",
              "          const docLink = document.createElement('div');\n",
              "          docLink.innerHTML = docLinkHtml;\n",
              "          element.appendChild(docLink);\n",
              "        }\n",
              "      </script>\n",
              "    </div>\n",
              "  </div>\n",
              "  "
            ]
          },
          "metadata": {},
          "execution_count": 26
        }
      ],
      "source": [
        "# flag cold user\n",
        "test['cold_users'] = test.user_id.map(lambda x: x in cold_users)\n",
        "# flag cold item\n",
        "test['cold_items'] = test.anime_id.map(lambda x: x in cold_items)\n",
        "test.head()"
      ]
    },
    {
      "cell_type": "markdown",
      "source": [
        "Сортируем тест аниме по рейтингу для подсчета метрик, делаем group_by по user_id, исключаем холодных пользователей"
      ],
      "metadata": {
        "id": "NJKxlUsmHpOH"
      }
    },
    {
      "cell_type": "code",
      "execution_count": null,
      "metadata": {
        "id": "H4VtenALdvW3"
      },
      "outputs": [],
      "source": [
        "test = test.sort_values(by=['user_id', 'rating'], ascending=False)\n",
        "test_result = test[(test.cold_items==False)&(test.cold_users==False)]\n",
        "test_result = test_result.groupby(['user_id'])['anime_id'].apply(lambda x: list(x)).reset_index()"
      ]
    },
    {
      "cell_type": "markdown",
      "source": [
        "Объединяем predict и test_result"
      ],
      "metadata": {
        "id": "Z-bztq5THyf4"
      }
    },
    {
      "cell_type": "code",
      "source": [
        "test_result['anime_id_pred'] = test_result.user_id.map(lambda x: predict[user2id[x], :])\n",
        "# test_result['anime_id_pred'] = test_result.anime_id_pred.map(lambda x: [id2items[i] for i in x])"
      ],
      "metadata": {
        "id": "3eY7awkr_WMI"
      },
      "execution_count": null,
      "outputs": []
    },
    {
      "cell_type": "markdown",
      "source": [
        "Рекомендуем"
      ],
      "metadata": {
        "id": "mvw2uachH4BW"
      }
    },
    {
      "cell_type": "code",
      "execution_count": null,
      "metadata": {
        "id": "cpO6elZhdvW3"
      },
      "outputs": [],
      "source": [
        "test_result['top_3'] = test_result.apply(lambda x: [int(pred in x.anime_id_pred[:3]) for pred in x.anime_id[:3]], axis=1)\n",
        "test_result['top_5'] = test_result.apply(lambda x: [int(pred in x.anime_id_pred[:5]) for pred in x.anime_id[:5]], axis=1)\n",
        "test_result['top_10'] = test_result.apply(lambda x: [int(pred in x.anime_id_pred[:10]) for pred in x.anime_id[:10]], axis=1)"
      ]
    },
    {
      "cell_type": "code",
      "execution_count": null,
      "metadata": {
        "colab": {
          "base_uri": "https://localhost:8080/",
          "height": 407
        },
        "outputId": "08d34530-fa3c-467a-fb09-031119699dd1",
        "id": "Y6JjDw9KdvW4"
      },
      "outputs": [
        {
          "output_type": "execute_result",
          "data": {
            "text/plain": [
              "   user_id                                           anime_id  \\\n",
              "0        1  [17265, 17729, 18247, 18277, 18753, 18897, 191...   \n",
              "1        3  [24415, 28171, 31043, 20583, 28121, 28701, 288...   \n",
              "2        4  [17265, 17505, 17777, 18115, 18153, 18229, 185...   \n",
              "3        5  [28891, 32182, 17265, 18689, 19647, 20057, 205...   \n",
              "4        6  [10719, 10800, 10897, 11285, 12079, 12893, 140...   \n",
              "5        7  [23421, 28497, 31043, 22273, 23289, 23383, 237...   \n",
              "6        8                       [11757, 13759, 15583, 11241]   \n",
              "7       11  [6351, 12355, 16498, 18153, 18679, 22265, 2325...   \n",
              "8       12       [9253, 16498, 6573, 7338, 8888, 11757, 8074]   \n",
              "9       13  [12413, 12623, 12883, 12893, 13053, 13331, 134...   \n",
              "\n",
              "                                       anime_id_pred      top_3  \\\n",
              "0  [3951, 3250, 3206, 2877, 2825, 2658, 2614, 261...  [0, 0, 0]   \n",
              "1  [3951, 3250, 3206, 2877, 2825, 2658, 2614, 261...  [0, 0, 0]   \n",
              "2  [3951, 3250, 3206, 2877, 2825, 2658, 2614, 261...  [0, 0, 0]   \n",
              "3  [3951, 3250, 3206, 2877, 2825, 2658, 2614, 261...  [0, 0, 0]   \n",
              "4  [3951, 3250, 3206, 2877, 2825, 2658, 2614, 261...  [0, 0, 0]   \n",
              "5  [3951, 3250, 3206, 2877, 2825, 2658, 2614, 261...  [0, 0, 0]   \n",
              "6  [3951, 3250, 3206, 2877, 2825, 2658, 2614, 261...  [0, 0, 0]   \n",
              "7  [3951, 3250, 3206, 2877, 2825, 2658, 2614, 261...  [0, 0, 0]   \n",
              "8  [3951, 3250, 3206, 2877, 2825, 2658, 2614, 261...  [0, 0, 0]   \n",
              "9  [3951, 3250, 3206, 2877, 2825, 2658, 2614, 261...  [0, 0, 0]   \n",
              "\n",
              "             top_5                          top_10  \n",
              "0  [0, 0, 0, 0, 0]  [0, 0, 0, 0, 0, 0, 0, 0, 0, 0]  \n",
              "1  [0, 0, 0, 0, 0]  [0, 0, 0, 0, 0, 0, 0, 0, 0, 0]  \n",
              "2  [0, 0, 0, 0, 0]  [0, 0, 0, 0, 0, 0, 0, 0, 0, 0]  \n",
              "3  [0, 0, 0, 0, 0]  [0, 0, 0, 0, 0, 0, 0, 0, 0, 0]  \n",
              "4  [0, 0, 0, 0, 0]  [0, 0, 0, 0, 0, 0, 0, 0, 0, 0]  \n",
              "5  [0, 0, 0, 0, 0]  [0, 0, 0, 0, 0, 0, 0, 0, 0, 0]  \n",
              "6     [0, 0, 0, 0]                    [0, 0, 0, 0]  \n",
              "7  [0, 0, 0, 0, 0]  [0, 0, 0, 0, 0, 0, 0, 0, 0, 0]  \n",
              "8  [0, 0, 0, 0, 0]           [0, 0, 0, 0, 0, 0, 0]  \n",
              "9  [0, 0, 0, 0, 0]  [0, 0, 0, 0, 0, 0, 0, 0, 0, 0]  "
            ],
            "text/html": [
              "\n",
              "  <div id=\"df-66c33202-35ea-472d-9dda-018010d8169c\">\n",
              "    <div class=\"colab-df-container\">\n",
              "      <div>\n",
              "<style scoped>\n",
              "    .dataframe tbody tr th:only-of-type {\n",
              "        vertical-align: middle;\n",
              "    }\n",
              "\n",
              "    .dataframe tbody tr th {\n",
              "        vertical-align: top;\n",
              "    }\n",
              "\n",
              "    .dataframe thead th {\n",
              "        text-align: right;\n",
              "    }\n",
              "</style>\n",
              "<table border=\"1\" class=\"dataframe\">\n",
              "  <thead>\n",
              "    <tr style=\"text-align: right;\">\n",
              "      <th></th>\n",
              "      <th>user_id</th>\n",
              "      <th>anime_id</th>\n",
              "      <th>anime_id_pred</th>\n",
              "      <th>top_3</th>\n",
              "      <th>top_5</th>\n",
              "      <th>top_10</th>\n",
              "    </tr>\n",
              "  </thead>\n",
              "  <tbody>\n",
              "    <tr>\n",
              "      <th>0</th>\n",
              "      <td>1</td>\n",
              "      <td>[17265, 17729, 18247, 18277, 18753, 18897, 191...</td>\n",
              "      <td>[3951, 3250, 3206, 2877, 2825, 2658, 2614, 261...</td>\n",
              "      <td>[0, 0, 0]</td>\n",
              "      <td>[0, 0, 0, 0, 0]</td>\n",
              "      <td>[0, 0, 0, 0, 0, 0, 0, 0, 0, 0]</td>\n",
              "    </tr>\n",
              "    <tr>\n",
              "      <th>1</th>\n",
              "      <td>3</td>\n",
              "      <td>[24415, 28171, 31043, 20583, 28121, 28701, 288...</td>\n",
              "      <td>[3951, 3250, 3206, 2877, 2825, 2658, 2614, 261...</td>\n",
              "      <td>[0, 0, 0]</td>\n",
              "      <td>[0, 0, 0, 0, 0]</td>\n",
              "      <td>[0, 0, 0, 0, 0, 0, 0, 0, 0, 0]</td>\n",
              "    </tr>\n",
              "    <tr>\n",
              "      <th>2</th>\n",
              "      <td>4</td>\n",
              "      <td>[17265, 17505, 17777, 18115, 18153, 18229, 185...</td>\n",
              "      <td>[3951, 3250, 3206, 2877, 2825, 2658, 2614, 261...</td>\n",
              "      <td>[0, 0, 0]</td>\n",
              "      <td>[0, 0, 0, 0, 0]</td>\n",
              "      <td>[0, 0, 0, 0, 0, 0, 0, 0, 0, 0]</td>\n",
              "    </tr>\n",
              "    <tr>\n",
              "      <th>3</th>\n",
              "      <td>5</td>\n",
              "      <td>[28891, 32182, 17265, 18689, 19647, 20057, 205...</td>\n",
              "      <td>[3951, 3250, 3206, 2877, 2825, 2658, 2614, 261...</td>\n",
              "      <td>[0, 0, 0]</td>\n",
              "      <td>[0, 0, 0, 0, 0]</td>\n",
              "      <td>[0, 0, 0, 0, 0, 0, 0, 0, 0, 0]</td>\n",
              "    </tr>\n",
              "    <tr>\n",
              "      <th>4</th>\n",
              "      <td>6</td>\n",
              "      <td>[10719, 10800, 10897, 11285, 12079, 12893, 140...</td>\n",
              "      <td>[3951, 3250, 3206, 2877, 2825, 2658, 2614, 261...</td>\n",
              "      <td>[0, 0, 0]</td>\n",
              "      <td>[0, 0, 0, 0, 0]</td>\n",
              "      <td>[0, 0, 0, 0, 0, 0, 0, 0, 0, 0]</td>\n",
              "    </tr>\n",
              "    <tr>\n",
              "      <th>5</th>\n",
              "      <td>7</td>\n",
              "      <td>[23421, 28497, 31043, 22273, 23289, 23383, 237...</td>\n",
              "      <td>[3951, 3250, 3206, 2877, 2825, 2658, 2614, 261...</td>\n",
              "      <td>[0, 0, 0]</td>\n",
              "      <td>[0, 0, 0, 0, 0]</td>\n",
              "      <td>[0, 0, 0, 0, 0, 0, 0, 0, 0, 0]</td>\n",
              "    </tr>\n",
              "    <tr>\n",
              "      <th>6</th>\n",
              "      <td>8</td>\n",
              "      <td>[11757, 13759, 15583, 11241]</td>\n",
              "      <td>[3951, 3250, 3206, 2877, 2825, 2658, 2614, 261...</td>\n",
              "      <td>[0, 0, 0]</td>\n",
              "      <td>[0, 0, 0, 0]</td>\n",
              "      <td>[0, 0, 0, 0]</td>\n",
              "    </tr>\n",
              "    <tr>\n",
              "      <th>7</th>\n",
              "      <td>11</td>\n",
              "      <td>[6351, 12355, 16498, 18153, 18679, 22265, 2325...</td>\n",
              "      <td>[3951, 3250, 3206, 2877, 2825, 2658, 2614, 261...</td>\n",
              "      <td>[0, 0, 0]</td>\n",
              "      <td>[0, 0, 0, 0, 0]</td>\n",
              "      <td>[0, 0, 0, 0, 0, 0, 0, 0, 0, 0]</td>\n",
              "    </tr>\n",
              "    <tr>\n",
              "      <th>8</th>\n",
              "      <td>12</td>\n",
              "      <td>[9253, 16498, 6573, 7338, 8888, 11757, 8074]</td>\n",
              "      <td>[3951, 3250, 3206, 2877, 2825, 2658, 2614, 261...</td>\n",
              "      <td>[0, 0, 0]</td>\n",
              "      <td>[0, 0, 0, 0, 0]</td>\n",
              "      <td>[0, 0, 0, 0, 0, 0, 0]</td>\n",
              "    </tr>\n",
              "    <tr>\n",
              "      <th>9</th>\n",
              "      <td>13</td>\n",
              "      <td>[12413, 12623, 12883, 12893, 13053, 13331, 134...</td>\n",
              "      <td>[3951, 3250, 3206, 2877, 2825, 2658, 2614, 261...</td>\n",
              "      <td>[0, 0, 0]</td>\n",
              "      <td>[0, 0, 0, 0, 0]</td>\n",
              "      <td>[0, 0, 0, 0, 0, 0, 0, 0, 0, 0]</td>\n",
              "    </tr>\n",
              "  </tbody>\n",
              "</table>\n",
              "</div>\n",
              "      <button class=\"colab-df-convert\" onclick=\"convertToInteractive('df-66c33202-35ea-472d-9dda-018010d8169c')\"\n",
              "              title=\"Convert this dataframe to an interactive table.\"\n",
              "              style=\"display:none;\">\n",
              "        \n",
              "  <svg xmlns=\"http://www.w3.org/2000/svg\" height=\"24px\"viewBox=\"0 0 24 24\"\n",
              "       width=\"24px\">\n",
              "    <path d=\"M0 0h24v24H0V0z\" fill=\"none\"/>\n",
              "    <path d=\"M18.56 5.44l.94 2.06.94-2.06 2.06-.94-2.06-.94-.94-2.06-.94 2.06-2.06.94zm-11 1L8.5 8.5l.94-2.06 2.06-.94-2.06-.94L8.5 2.5l-.94 2.06-2.06.94zm10 10l.94 2.06.94-2.06 2.06-.94-2.06-.94-.94-2.06-.94 2.06-2.06.94z\"/><path d=\"M17.41 7.96l-1.37-1.37c-.4-.4-.92-.59-1.43-.59-.52 0-1.04.2-1.43.59L10.3 9.45l-7.72 7.72c-.78.78-.78 2.05 0 2.83L4 21.41c.39.39.9.59 1.41.59.51 0 1.02-.2 1.41-.59l7.78-7.78 2.81-2.81c.8-.78.8-2.07 0-2.86zM5.41 20L4 18.59l7.72-7.72 1.47 1.35L5.41 20z\"/>\n",
              "  </svg>\n",
              "      </button>\n",
              "      \n",
              "  <style>\n",
              "    .colab-df-container {\n",
              "      display:flex;\n",
              "      flex-wrap:wrap;\n",
              "      gap: 12px;\n",
              "    }\n",
              "\n",
              "    .colab-df-convert {\n",
              "      background-color: #E8F0FE;\n",
              "      border: none;\n",
              "      border-radius: 50%;\n",
              "      cursor: pointer;\n",
              "      display: none;\n",
              "      fill: #1967D2;\n",
              "      height: 32px;\n",
              "      padding: 0 0 0 0;\n",
              "      width: 32px;\n",
              "    }\n",
              "\n",
              "    .colab-df-convert:hover {\n",
              "      background-color: #E2EBFA;\n",
              "      box-shadow: 0px 1px 2px rgba(60, 64, 67, 0.3), 0px 1px 3px 1px rgba(60, 64, 67, 0.15);\n",
              "      fill: #174EA6;\n",
              "    }\n",
              "\n",
              "    [theme=dark] .colab-df-convert {\n",
              "      background-color: #3B4455;\n",
              "      fill: #D2E3FC;\n",
              "    }\n",
              "\n",
              "    [theme=dark] .colab-df-convert:hover {\n",
              "      background-color: #434B5C;\n",
              "      box-shadow: 0px 1px 3px 1px rgba(0, 0, 0, 0.15);\n",
              "      filter: drop-shadow(0px 1px 2px rgba(0, 0, 0, 0.3));\n",
              "      fill: #FFFFFF;\n",
              "    }\n",
              "  </style>\n",
              "\n",
              "      <script>\n",
              "        const buttonEl =\n",
              "          document.querySelector('#df-66c33202-35ea-472d-9dda-018010d8169c button.colab-df-convert');\n",
              "        buttonEl.style.display =\n",
              "          google.colab.kernel.accessAllowed ? 'block' : 'none';\n",
              "\n",
              "        async function convertToInteractive(key) {\n",
              "          const element = document.querySelector('#df-66c33202-35ea-472d-9dda-018010d8169c');\n",
              "          const dataTable =\n",
              "            await google.colab.kernel.invokeFunction('convertToInteractive',\n",
              "                                                     [key], {});\n",
              "          if (!dataTable) return;\n",
              "\n",
              "          const docLinkHtml = 'Like what you see? Visit the ' +\n",
              "            '<a target=\"_blank\" href=https://colab.research.google.com/notebooks/data_table.ipynb>data table notebook</a>'\n",
              "            + ' to learn more about interactive tables.';\n",
              "          element.innerHTML = '';\n",
              "          dataTable['output_type'] = 'display_data';\n",
              "          await google.colab.output.renderOutput(dataTable, element);\n",
              "          const docLink = document.createElement('div');\n",
              "          docLink.innerHTML = docLinkHtml;\n",
              "          element.appendChild(docLink);\n",
              "        }\n",
              "      </script>\n",
              "    </div>\n",
              "  </div>\n",
              "  "
            ]
          },
          "metadata": {},
          "execution_count": 34
        }
      ],
      "source": [
        "test_result.head(10)"
      ]
    },
    {
      "cell_type": "markdown",
      "source": [
        "Считаем метрики"
      ],
      "metadata": {
        "id": "QtaT9j71H746"
      }
    },
    {
      "cell_type": "code",
      "execution_count": null,
      "metadata": {
        "id": "EAVElfoedvW4"
      },
      "outputs": [],
      "source": [
        "score_results = pd.DataFrame(index=['top_3', 'top_5', 'top_10'], columns=['MRR', 'MAP@K', 'NDCG@k'])"
      ]
    },
    {
      "cell_type": "code",
      "execution_count": null,
      "metadata": {
        "id": "jiNkGnV_dvW4"
      },
      "outputs": [],
      "source": [
        "for top in [3, 5, 10]:\n",
        "    score_results.loc['top_'+str(top), 'MAP@K'] = mean_reciprocal_rank(list(test_result['top_'+str(top)].values))\n",
        "    score_results.loc['top_'+str(top), 'MRR'] = mean_average_precision(list(test_result['top_'+str(top)].values))\n",
        "    score_results.loc['top_'+str(top), 'NDCG@k'] = np.mean([ndcg_at_k(i, top) for i in list(test_result['top_'+str(top)].values)])"
      ]
    },
    {
      "cell_type": "code",
      "execution_count": null,
      "metadata": {
        "colab": {
          "base_uri": "https://localhost:8080/",
          "height": 143
        },
        "outputId": "6e9be381-1f6c-4f2b-8526-d1cfe38dd953",
        "id": "EJh58WtndvW4"
      },
      "outputs": [
        {
          "output_type": "execute_result",
          "data": {
            "text/plain": [
              "             MRR     MAP@K    NDCG@k\n",
              "top_3        0.0       0.0       0.0\n",
              "top_5   0.000127  0.000127  0.000254\n",
              "top_10  0.000553  0.000553  0.001211"
            ],
            "text/html": [
              "\n",
              "  <div id=\"df-f61d20d1-d4f9-42f5-bc9e-53d8004d803a\">\n",
              "    <div class=\"colab-df-container\">\n",
              "      <div>\n",
              "<style scoped>\n",
              "    .dataframe tbody tr th:only-of-type {\n",
              "        vertical-align: middle;\n",
              "    }\n",
              "\n",
              "    .dataframe tbody tr th {\n",
              "        vertical-align: top;\n",
              "    }\n",
              "\n",
              "    .dataframe thead th {\n",
              "        text-align: right;\n",
              "    }\n",
              "</style>\n",
              "<table border=\"1\" class=\"dataframe\">\n",
              "  <thead>\n",
              "    <tr style=\"text-align: right;\">\n",
              "      <th></th>\n",
              "      <th>MRR</th>\n",
              "      <th>MAP@K</th>\n",
              "      <th>NDCG@k</th>\n",
              "    </tr>\n",
              "  </thead>\n",
              "  <tbody>\n",
              "    <tr>\n",
              "      <th>top_3</th>\n",
              "      <td>0.0</td>\n",
              "      <td>0.0</td>\n",
              "      <td>0.0</td>\n",
              "    </tr>\n",
              "    <tr>\n",
              "      <th>top_5</th>\n",
              "      <td>0.000127</td>\n",
              "      <td>0.000127</td>\n",
              "      <td>0.000254</td>\n",
              "    </tr>\n",
              "    <tr>\n",
              "      <th>top_10</th>\n",
              "      <td>0.000553</td>\n",
              "      <td>0.000553</td>\n",
              "      <td>0.001211</td>\n",
              "    </tr>\n",
              "  </tbody>\n",
              "</table>\n",
              "</div>\n",
              "      <button class=\"colab-df-convert\" onclick=\"convertToInteractive('df-f61d20d1-d4f9-42f5-bc9e-53d8004d803a')\"\n",
              "              title=\"Convert this dataframe to an interactive table.\"\n",
              "              style=\"display:none;\">\n",
              "        \n",
              "  <svg xmlns=\"http://www.w3.org/2000/svg\" height=\"24px\"viewBox=\"0 0 24 24\"\n",
              "       width=\"24px\">\n",
              "    <path d=\"M0 0h24v24H0V0z\" fill=\"none\"/>\n",
              "    <path d=\"M18.56 5.44l.94 2.06.94-2.06 2.06-.94-2.06-.94-.94-2.06-.94 2.06-2.06.94zm-11 1L8.5 8.5l.94-2.06 2.06-.94-2.06-.94L8.5 2.5l-.94 2.06-2.06.94zm10 10l.94 2.06.94-2.06 2.06-.94-2.06-.94-.94-2.06-.94 2.06-2.06.94z\"/><path d=\"M17.41 7.96l-1.37-1.37c-.4-.4-.92-.59-1.43-.59-.52 0-1.04.2-1.43.59L10.3 9.45l-7.72 7.72c-.78.78-.78 2.05 0 2.83L4 21.41c.39.39.9.59 1.41.59.51 0 1.02-.2 1.41-.59l7.78-7.78 2.81-2.81c.8-.78.8-2.07 0-2.86zM5.41 20L4 18.59l7.72-7.72 1.47 1.35L5.41 20z\"/>\n",
              "  </svg>\n",
              "      </button>\n",
              "      \n",
              "  <style>\n",
              "    .colab-df-container {\n",
              "      display:flex;\n",
              "      flex-wrap:wrap;\n",
              "      gap: 12px;\n",
              "    }\n",
              "\n",
              "    .colab-df-convert {\n",
              "      background-color: #E8F0FE;\n",
              "      border: none;\n",
              "      border-radius: 50%;\n",
              "      cursor: pointer;\n",
              "      display: none;\n",
              "      fill: #1967D2;\n",
              "      height: 32px;\n",
              "      padding: 0 0 0 0;\n",
              "      width: 32px;\n",
              "    }\n",
              "\n",
              "    .colab-df-convert:hover {\n",
              "      background-color: #E2EBFA;\n",
              "      box-shadow: 0px 1px 2px rgba(60, 64, 67, 0.3), 0px 1px 3px 1px rgba(60, 64, 67, 0.15);\n",
              "      fill: #174EA6;\n",
              "    }\n",
              "\n",
              "    [theme=dark] .colab-df-convert {\n",
              "      background-color: #3B4455;\n",
              "      fill: #D2E3FC;\n",
              "    }\n",
              "\n",
              "    [theme=dark] .colab-df-convert:hover {\n",
              "      background-color: #434B5C;\n",
              "      box-shadow: 0px 1px 3px 1px rgba(0, 0, 0, 0.15);\n",
              "      filter: drop-shadow(0px 1px 2px rgba(0, 0, 0, 0.3));\n",
              "      fill: #FFFFFF;\n",
              "    }\n",
              "  </style>\n",
              "\n",
              "      <script>\n",
              "        const buttonEl =\n",
              "          document.querySelector('#df-f61d20d1-d4f9-42f5-bc9e-53d8004d803a button.colab-df-convert');\n",
              "        buttonEl.style.display =\n",
              "          google.colab.kernel.accessAllowed ? 'block' : 'none';\n",
              "\n",
              "        async function convertToInteractive(key) {\n",
              "          const element = document.querySelector('#df-f61d20d1-d4f9-42f5-bc9e-53d8004d803a');\n",
              "          const dataTable =\n",
              "            await google.colab.kernel.invokeFunction('convertToInteractive',\n",
              "                                                     [key], {});\n",
              "          if (!dataTable) return;\n",
              "\n",
              "          const docLinkHtml = 'Like what you see? Visit the ' +\n",
              "            '<a target=\"_blank\" href=https://colab.research.google.com/notebooks/data_table.ipynb>data table notebook</a>'\n",
              "            + ' to learn more about interactive tables.';\n",
              "          element.innerHTML = '';\n",
              "          dataTable['output_type'] = 'display_data';\n",
              "          await google.colab.output.renderOutput(dataTable, element);\n",
              "          const docLink = document.createElement('div');\n",
              "          docLink.innerHTML = docLinkHtml;\n",
              "          element.appendChild(docLink);\n",
              "        }\n",
              "      </script>\n",
              "    </div>\n",
              "  </div>\n",
              "  "
            ]
          },
          "metadata": {},
          "execution_count": 38
        }
      ],
      "source": [
        "score_results"
      ]
    },
    {
      "cell_type": "markdown",
      "source": [
        "### Задание №5 : Решить задачу на основе коллаборативной фильтрации (2 балла)\n",
        "\n",
        "* Реализовать один из методов коллаборативной фильтрации SVD, SVD++, ALS, ALS with implicit feedback"
      ],
      "metadata": {
        "id": "cxYCFGZOtn1D"
      }
    },
    {
      "cell_type": "markdown",
      "source": [
        "Для решения данной задачи используем ALS. (Возможно, рекомендации от ALS with implicit feedback покажут лучшие показатели точности за счет отсутствия нулей в данных для обучения)"
      ],
      "metadata": {
        "id": "fgCxo0f6JlPo"
      }
    },
    {
      "cell_type": "markdown",
      "source": [
        "#### ALS"
      ],
      "metadata": {
        "id": "eqMNiLG4qYe9"
      }
    },
    {
      "cell_type": "code",
      "source": [
        "!pip install implicit"
      ],
      "metadata": {
        "colab": {
          "base_uri": "https://localhost:8080/"
        },
        "id": "0RrknldarV83",
        "outputId": "ae4d9d6b-ddf4-47e8-e64e-ff223b25bed5"
      },
      "execution_count": null,
      "outputs": [
        {
          "output_type": "stream",
          "name": "stdout",
          "text": [
            "Looking in indexes: https://pypi.org/simple, https://us-python.pkg.dev/colab-wheels/public/simple/\n",
            "Collecting implicit\n",
            "  Downloading implicit-0.5.2-cp37-cp37m-manylinux2014_x86_64.whl (18.5 MB)\n",
            "\u001b[K     |████████████████████████████████| 18.5 MB 241 kB/s \n",
            "\u001b[?25hRequirement already satisfied: scipy>=0.16 in /usr/local/lib/python3.7/dist-packages (from implicit) (1.4.1)\n",
            "Requirement already satisfied: numpy in /usr/local/lib/python3.7/dist-packages (from implicit) (1.21.6)\n",
            "Requirement already satisfied: tqdm>=4.27 in /usr/local/lib/python3.7/dist-packages (from implicit) (4.64.0)\n",
            "Installing collected packages: implicit\n",
            "Successfully installed implicit-0.5.2\n"
          ]
        }
      ]
    },
    {
      "cell_type": "code",
      "source": [
        "from scipy.sparse import csr_matrix\n",
        "from implicit.als import AlternatingLeastSquares"
      ],
      "metadata": {
        "id": "T4lHMZV1rOu5"
      },
      "execution_count": null,
      "outputs": []
    },
    {
      "cell_type": "code",
      "execution_count": null,
      "metadata": {
        "id": "QSIfj7HeHeoc"
      },
      "outputs": [],
      "source": [
        "id2user = {key: value for key, value in enumerate(train.user_id.unique())}\n",
        "id2items = {key: value for key, value in enumerate(train.anime_id.unique())} # Get our unique products that were purchased\n",
        "rating = list(train.rating) # All of our purchases"
      ]
    },
    {
      "cell_type": "code",
      "execution_count": null,
      "metadata": {
        "id": "4xiZNWEVHeod"
      },
      "outputs": [],
      "source": [
        "user2id  = {value:key for key, value in id2user.items()}\n",
        "items2id  = {value:key for key, value in id2items.items()}"
      ]
    },
    {
      "cell_type": "code",
      "execution_count": null,
      "metadata": {
        "id": "u9OKw6DfHeod"
      },
      "outputs": [],
      "source": [
        "rows = train.user_id.map(user2id)\n",
        "# Get the associated row indices\n",
        "cols = train.anime_id.map(items2id)\n",
        "# Get the associated column indices"
      ]
    },
    {
      "cell_type": "markdown",
      "source": [
        "Создали user2id, id2user и прочие словари, как в предыдущем подходе. Создадим sparce matrix"
      ],
      "metadata": {
        "id": "miVxkO1txvms"
      }
    },
    {
      "cell_type": "code",
      "execution_count": null,
      "metadata": {
        "id": "SM-YKXC4Heod",
        "colab": {
          "base_uri": "https://localhost:8080/"
        },
        "outputId": "8f57eb2c-ef12-454b-aa8a-8c7546979574"
      },
      "outputs": [
        {
          "output_type": "execute_result",
          "data": {
            "text/plain": [
              "<6147x6696 sparse matrix of type '<class 'numpy.longlong'>'\n",
              "\twith 543583 stored elements in Compressed Sparse Row format>"
            ]
          },
          "metadata": {},
          "execution_count": 59
        }
      ],
      "source": [
        "rating_sparse = csr_matrix((rating, (rows, cols)), shape=(len(user2id), len(items2id)))\n",
        "rating_sparse"
      ]
    },
    {
      "cell_type": "code",
      "execution_count": null,
      "metadata": {
        "colab": {
          "base_uri": "https://localhost:8080/"
        },
        "id": "hYsUl48EHeoe",
        "outputId": "37d26e90-fb9a-4532-917c-dc0627050924"
      },
      "outputs": [
        {
          "output_type": "execute_result",
          "data": {
            "text/plain": [
              "(6147, 6696)"
            ]
          },
          "metadata": {},
          "execution_count": 21
        }
      ],
      "source": [
        "train.user_id.nunique(), train.anime_id.nunique()"
      ]
    },
    {
      "cell_type": "markdown",
      "source": [
        "Обучим ALS"
      ],
      "metadata": {
        "id": "lZCeZX8Ox89S"
      }
    },
    {
      "cell_type": "code",
      "execution_count": null,
      "metadata": {
        "id": "9V65uPGlHeof",
        "colab": {
          "base_uri": "https://localhost:8080/",
          "height": 49,
          "referenced_widgets": [
            "dce375fc5b69406d88fee22acccb7a95",
            "57127d1e0d5e41038c325d780af1749a",
            "a316265bb97c401f807e7f20329930ab",
            "0e9643614a5b45209d8e6a90f1aea0aa",
            "8df49f52558449eca21ba6bbc757f500",
            "88fc043b0cf947bebbd8f128126c6a18",
            "3b92b6e089a4435da9be8485a2eb8d3a",
            "d228c2a0ad364f14a62a3bb58c88df43",
            "5c698892179c4744a73e78dd9a080c35",
            "dc1f6833143a4cf7b04d19bcbdb8c1c2",
            "2bbdb79d927e4e2f81633e08731efad6"
          ]
        },
        "outputId": "abc75003-9ff3-49dc-949e-9694cc5a86b0"
      },
      "outputs": [
        {
          "output_type": "display_data",
          "data": {
            "text/plain": [
              "  0%|          | 0/15 [00:00<?, ?it/s]"
            ],
            "application/vnd.jupyter.widget-view+json": {
              "version_major": 2,
              "version_minor": 0,
              "model_id": "dce375fc5b69406d88fee22acccb7a95"
            }
          },
          "metadata": {}
        }
      ],
      "source": [
        "ALS = AlternatingLeastSquares(num_threads=4, factors=10,regularization=0.1)\n",
        "ALS.fit(rating_sparse.T)"
      ]
    },
    {
      "cell_type": "markdown",
      "source": [
        "Сделаем predict"
      ],
      "metadata": {
        "id": "sA0AaiY-yBIg"
      }
    },
    {
      "cell_type": "code",
      "source": [
        "predict = []\n",
        "for i in range(len(id2user)):\n",
        "    predict.append(ALS.recommend(i, rating_sparse, filter_already_liked_items=False)[0])\n",
        "predict = np.array(predict)"
      ],
      "metadata": {
        "id": "7_ECJ3dA3xqC"
      },
      "execution_count": null,
      "outputs": []
    },
    {
      "cell_type": "code",
      "source": [
        "predict.shape"
      ],
      "metadata": {
        "colab": {
          "base_uri": "https://localhost:8080/"
        },
        "id": "uj2E3lau2WQS",
        "outputId": "169f0e60-6d81-4315-b801-9b8ebdf622c7"
      },
      "execution_count": null,
      "outputs": [
        {
          "output_type": "execute_result",
          "data": {
            "text/plain": [
              "(6147, 10)"
            ]
          },
          "metadata": {},
          "execution_count": 143
        }
      ]
    },
    {
      "cell_type": "markdown",
      "source": [
        "Обнаружение холодных пользователей и прочие этапы такие же, как в предыдущем подходе"
      ],
      "metadata": {
        "id": "6qTuP9K7yFBJ"
      }
    },
    {
      "cell_type": "code",
      "execution_count": null,
      "metadata": {
        "id": "yt3Baf8FHeoh"
      },
      "outputs": [],
      "source": [
        "train_users, test_users = set(train.user_id), set(test.user_id)\n",
        "train_movies, test_movies = set(train.anime_id), set(test.anime_id)\n",
        "cold_users = [i for i in test_users if i not in train_users]\n",
        "cold_items = [i for i in test_movies if i not in train_movies]"
      ]
    },
    {
      "cell_type": "code",
      "execution_count": null,
      "metadata": {
        "id": "AuFe7p8jHeoh",
        "colab": {
          "base_uri": "https://localhost:8080/",
          "height": 206
        },
        "outputId": "bfb63fb0-68e0-4e11-fdc0-049ee815c643"
      },
      "outputs": [
        {
          "output_type": "execute_result",
          "data": {
            "text/plain": [
              "        user_id  anime_id  rating  cold_users  cold_items\n",
              "781365     7253      2752      10       False       False\n",
              "781371     7253      4053      10       False       False\n",
              "781372     7253      4224      10       False       False\n",
              "781368     7253      2962       9       False       False\n",
              "781369     7253      3031       9       False       False"
            ],
            "text/html": [
              "\n",
              "  <div id=\"df-3767c03a-1679-4fa1-a603-f942f5b7d091\">\n",
              "    <div class=\"colab-df-container\">\n",
              "      <div>\n",
              "<style scoped>\n",
              "    .dataframe tbody tr th:only-of-type {\n",
              "        vertical-align: middle;\n",
              "    }\n",
              "\n",
              "    .dataframe tbody tr th {\n",
              "        vertical-align: top;\n",
              "    }\n",
              "\n",
              "    .dataframe thead th {\n",
              "        text-align: right;\n",
              "    }\n",
              "</style>\n",
              "<table border=\"1\" class=\"dataframe\">\n",
              "  <thead>\n",
              "    <tr style=\"text-align: right;\">\n",
              "      <th></th>\n",
              "      <th>user_id</th>\n",
              "      <th>anime_id</th>\n",
              "      <th>rating</th>\n",
              "      <th>cold_users</th>\n",
              "      <th>cold_items</th>\n",
              "    </tr>\n",
              "  </thead>\n",
              "  <tbody>\n",
              "    <tr>\n",
              "      <th>781365</th>\n",
              "      <td>7253</td>\n",
              "      <td>2752</td>\n",
              "      <td>10</td>\n",
              "      <td>False</td>\n",
              "      <td>False</td>\n",
              "    </tr>\n",
              "    <tr>\n",
              "      <th>781371</th>\n",
              "      <td>7253</td>\n",
              "      <td>4053</td>\n",
              "      <td>10</td>\n",
              "      <td>False</td>\n",
              "      <td>False</td>\n",
              "    </tr>\n",
              "    <tr>\n",
              "      <th>781372</th>\n",
              "      <td>7253</td>\n",
              "      <td>4224</td>\n",
              "      <td>10</td>\n",
              "      <td>False</td>\n",
              "      <td>False</td>\n",
              "    </tr>\n",
              "    <tr>\n",
              "      <th>781368</th>\n",
              "      <td>7253</td>\n",
              "      <td>2962</td>\n",
              "      <td>9</td>\n",
              "      <td>False</td>\n",
              "      <td>False</td>\n",
              "    </tr>\n",
              "    <tr>\n",
              "      <th>781369</th>\n",
              "      <td>7253</td>\n",
              "      <td>3031</td>\n",
              "      <td>9</td>\n",
              "      <td>False</td>\n",
              "      <td>False</td>\n",
              "    </tr>\n",
              "  </tbody>\n",
              "</table>\n",
              "</div>\n",
              "      <button class=\"colab-df-convert\" onclick=\"convertToInteractive('df-3767c03a-1679-4fa1-a603-f942f5b7d091')\"\n",
              "              title=\"Convert this dataframe to an interactive table.\"\n",
              "              style=\"display:none;\">\n",
              "        \n",
              "  <svg xmlns=\"http://www.w3.org/2000/svg\" height=\"24px\"viewBox=\"0 0 24 24\"\n",
              "       width=\"24px\">\n",
              "    <path d=\"M0 0h24v24H0V0z\" fill=\"none\"/>\n",
              "    <path d=\"M18.56 5.44l.94 2.06.94-2.06 2.06-.94-2.06-.94-.94-2.06-.94 2.06-2.06.94zm-11 1L8.5 8.5l.94-2.06 2.06-.94-2.06-.94L8.5 2.5l-.94 2.06-2.06.94zm10 10l.94 2.06.94-2.06 2.06-.94-2.06-.94-.94-2.06-.94 2.06-2.06.94z\"/><path d=\"M17.41 7.96l-1.37-1.37c-.4-.4-.92-.59-1.43-.59-.52 0-1.04.2-1.43.59L10.3 9.45l-7.72 7.72c-.78.78-.78 2.05 0 2.83L4 21.41c.39.39.9.59 1.41.59.51 0 1.02-.2 1.41-.59l7.78-7.78 2.81-2.81c.8-.78.8-2.07 0-2.86zM5.41 20L4 18.59l7.72-7.72 1.47 1.35L5.41 20z\"/>\n",
              "  </svg>\n",
              "      </button>\n",
              "      \n",
              "  <style>\n",
              "    .colab-df-container {\n",
              "      display:flex;\n",
              "      flex-wrap:wrap;\n",
              "      gap: 12px;\n",
              "    }\n",
              "\n",
              "    .colab-df-convert {\n",
              "      background-color: #E8F0FE;\n",
              "      border: none;\n",
              "      border-radius: 50%;\n",
              "      cursor: pointer;\n",
              "      display: none;\n",
              "      fill: #1967D2;\n",
              "      height: 32px;\n",
              "      padding: 0 0 0 0;\n",
              "      width: 32px;\n",
              "    }\n",
              "\n",
              "    .colab-df-convert:hover {\n",
              "      background-color: #E2EBFA;\n",
              "      box-shadow: 0px 1px 2px rgba(60, 64, 67, 0.3), 0px 1px 3px 1px rgba(60, 64, 67, 0.15);\n",
              "      fill: #174EA6;\n",
              "    }\n",
              "\n",
              "    [theme=dark] .colab-df-convert {\n",
              "      background-color: #3B4455;\n",
              "      fill: #D2E3FC;\n",
              "    }\n",
              "\n",
              "    [theme=dark] .colab-df-convert:hover {\n",
              "      background-color: #434B5C;\n",
              "      box-shadow: 0px 1px 3px 1px rgba(0, 0, 0, 0.15);\n",
              "      filter: drop-shadow(0px 1px 2px rgba(0, 0, 0, 0.3));\n",
              "      fill: #FFFFFF;\n",
              "    }\n",
              "  </style>\n",
              "\n",
              "      <script>\n",
              "        const buttonEl =\n",
              "          document.querySelector('#df-3767c03a-1679-4fa1-a603-f942f5b7d091 button.colab-df-convert');\n",
              "        buttonEl.style.display =\n",
              "          google.colab.kernel.accessAllowed ? 'block' : 'none';\n",
              "\n",
              "        async function convertToInteractive(key) {\n",
              "          const element = document.querySelector('#df-3767c03a-1679-4fa1-a603-f942f5b7d091');\n",
              "          const dataTable =\n",
              "            await google.colab.kernel.invokeFunction('convertToInteractive',\n",
              "                                                     [key], {});\n",
              "          if (!dataTable) return;\n",
              "\n",
              "          const docLinkHtml = 'Like what you see? Visit the ' +\n",
              "            '<a target=\"_blank\" href=https://colab.research.google.com/notebooks/data_table.ipynb>data table notebook</a>'\n",
              "            + ' to learn more about interactive tables.';\n",
              "          element.innerHTML = '';\n",
              "          dataTable['output_type'] = 'display_data';\n",
              "          await google.colab.output.renderOutput(dataTable, element);\n",
              "          const docLink = document.createElement('div');\n",
              "          docLink.innerHTML = docLinkHtml;\n",
              "          element.appendChild(docLink);\n",
              "        }\n",
              "      </script>\n",
              "    </div>\n",
              "  </div>\n",
              "  "
            ]
          },
          "metadata": {},
          "execution_count": 66
        }
      ],
      "source": [
        "# flag cold user\n",
        "test['cold_users'] = test.user_id.map(lambda x: x in cold_users)\n",
        "# flag cold item\n",
        "test['cold_items'] = test.anime_id.map(lambda x: x in cold_items)\n",
        "test.head()"
      ]
    },
    {
      "cell_type": "code",
      "execution_count": null,
      "metadata": {
        "id": "-aICJ54ReUKl"
      },
      "outputs": [],
      "source": [
        "test = test.sort_values(by=['user_id', 'rating'], ascending=False)\n",
        "test_result = test[(test.cold_items==False)&(test.cold_users==False)]\n",
        "test_result = test_result.groupby(['user_id'])['anime_id'].apply(lambda x: list(x)).reset_index()\n",
        "test_result['anime_id_pred'] = test_result.user_id.map(lambda x: predict[user2id[x], :])\n",
        "test_result['anime_id_pred'] = test_result.anime_id_pred.map(lambda x: [id2items[i] for i in x])"
      ]
    },
    {
      "cell_type": "code",
      "execution_count": null,
      "metadata": {
        "id": "HdHhlX8EHeoi"
      },
      "outputs": [],
      "source": [
        "test_result['top_3'] = test_result.apply(lambda x: [int(pred in x.anime_id_pred[:3]) for pred in x.anime_id[:3]], axis=1)\n",
        "test_result['top_5'] = test_result.apply(lambda x: [int(pred in x.anime_id_pred[:5]) for pred in x.anime_id[:5]], axis=1)\n",
        "test_result['top_10'] = test_result.apply(lambda x: [int(pred in x.anime_id_pred[:10]) for pred in x.anime_id[:10]], axis=1)"
      ]
    },
    {
      "cell_type": "code",
      "execution_count": null,
      "metadata": {
        "colab": {
          "base_uri": "https://localhost:8080/",
          "height": 407
        },
        "id": "1lRUegM3Heoi",
        "outputId": "4b01ea81-2ad5-4d9c-d322-5221a3207d61"
      },
      "outputs": [
        {
          "output_type": "execute_result",
          "data": {
            "text/plain": [
              "   user_id                                           anime_id  \\\n",
              "0        1  [17265, 17729, 18247, 18277, 18753, 18897, 191...   \n",
              "1        3  [24415, 28171, 31043, 20583, 28121, 28701, 288...   \n",
              "2        4  [17265, 17505, 17777, 18115, 18153, 18229, 185...   \n",
              "3        5  [28891, 32182, 17265, 18689, 19647, 20057, 205...   \n",
              "4        6  [10719, 10800, 10897, 11285, 12079, 12893, 140...   \n",
              "5        7  [23421, 28497, 31043, 22273, 23289, 23383, 237...   \n",
              "6        8                       [11757, 13759, 15583, 11241]   \n",
              "7       11  [6351, 12355, 16498, 18153, 18679, 22265, 2325...   \n",
              "8       12       [9253, 16498, 6573, 7338, 8888, 11757, 8074]   \n",
              "9       13  [12413, 12623, 12883, 12893, 13053, 13331, 134...   \n",
              "\n",
              "                                       anime_id_pred      top_3  \\\n",
              "0  [16870, 9314, 6798, 9539, 3914, 17505, 5753, 7...  [0, 0, 0]   \n",
              "1  [13153, 6245, 9005, 2967, 21409, 1806, 18151, ...  [0, 0, 0]   \n",
              "2  [7745, 1874, 2753, 2814, 15097, 14765, 4266, 6...  [0, 0, 0]   \n",
              "3  [2542, 14659, 5583, 6220, 22859, 5955, 23617, ...  [0, 0, 0]   \n",
              "4  [1874, 2753, 7745, 6657, 4439, 1619, 13967, 41...  [0, 0, 0]   \n",
              "5  [14765, 660, 2814, 2753, 3298, 17267, 13405, 1...  [0, 0, 0]   \n",
              "6  [14765, 2655, 17163, 1671, 17267, 11371, 13251...  [0, 0, 0]   \n",
              "7  [16199, 102, 644, 450, 21451, 7117, 3977, 848,...  [0, 0, 0]   \n",
              "8  [1874, 2753, 7745, 6657, 1619, 4439, 13967, 41...  [0, 0, 0]   \n",
              "9  [13153, 2967, 6245, 9005, 21409, 17020, 1806, ...  [0, 0, 0]   \n",
              "\n",
              "             top_5                          top_10  \n",
              "0  [0, 0, 0, 0, 0]  [0, 0, 0, 0, 0, 0, 0, 0, 0, 0]  \n",
              "1  [0, 0, 0, 0, 0]  [0, 0, 0, 0, 0, 0, 0, 0, 0, 0]  \n",
              "2  [0, 0, 0, 0, 0]  [0, 0, 0, 0, 0, 0, 0, 0, 0, 0]  \n",
              "3  [0, 0, 0, 0, 0]  [0, 0, 0, 0, 0, 0, 0, 0, 0, 0]  \n",
              "4  [0, 0, 0, 0, 0]  [0, 0, 0, 0, 0, 0, 0, 0, 0, 0]  \n",
              "5  [0, 0, 0, 0, 0]  [0, 0, 0, 0, 0, 0, 0, 0, 0, 0]  \n",
              "6     [0, 0, 0, 0]                    [0, 0, 0, 0]  \n",
              "7  [0, 0, 0, 0, 0]  [0, 0, 0, 0, 0, 0, 0, 0, 0, 0]  \n",
              "8  [0, 0, 0, 0, 0]           [0, 0, 0, 0, 0, 0, 0]  \n",
              "9  [0, 0, 0, 0, 0]  [0, 0, 0, 0, 0, 0, 0, 0, 0, 0]  "
            ],
            "text/html": [
              "\n",
              "  <div id=\"df-55eca356-2bba-4db6-ba2d-5ade607d7bc9\">\n",
              "    <div class=\"colab-df-container\">\n",
              "      <div>\n",
              "<style scoped>\n",
              "    .dataframe tbody tr th:only-of-type {\n",
              "        vertical-align: middle;\n",
              "    }\n",
              "\n",
              "    .dataframe tbody tr th {\n",
              "        vertical-align: top;\n",
              "    }\n",
              "\n",
              "    .dataframe thead th {\n",
              "        text-align: right;\n",
              "    }\n",
              "</style>\n",
              "<table border=\"1\" class=\"dataframe\">\n",
              "  <thead>\n",
              "    <tr style=\"text-align: right;\">\n",
              "      <th></th>\n",
              "      <th>user_id</th>\n",
              "      <th>anime_id</th>\n",
              "      <th>anime_id_pred</th>\n",
              "      <th>top_3</th>\n",
              "      <th>top_5</th>\n",
              "      <th>top_10</th>\n",
              "    </tr>\n",
              "  </thead>\n",
              "  <tbody>\n",
              "    <tr>\n",
              "      <th>0</th>\n",
              "      <td>1</td>\n",
              "      <td>[17265, 17729, 18247, 18277, 18753, 18897, 191...</td>\n",
              "      <td>[16870, 9314, 6798, 9539, 3914, 17505, 5753, 7...</td>\n",
              "      <td>[0, 0, 0]</td>\n",
              "      <td>[0, 0, 0, 0, 0]</td>\n",
              "      <td>[0, 0, 0, 0, 0, 0, 0, 0, 0, 0]</td>\n",
              "    </tr>\n",
              "    <tr>\n",
              "      <th>1</th>\n",
              "      <td>3</td>\n",
              "      <td>[24415, 28171, 31043, 20583, 28121, 28701, 288...</td>\n",
              "      <td>[13153, 6245, 9005, 2967, 21409, 1806, 18151, ...</td>\n",
              "      <td>[0, 0, 0]</td>\n",
              "      <td>[0, 0, 0, 0, 0]</td>\n",
              "      <td>[0, 0, 0, 0, 0, 0, 0, 0, 0, 0]</td>\n",
              "    </tr>\n",
              "    <tr>\n",
              "      <th>2</th>\n",
              "      <td>4</td>\n",
              "      <td>[17265, 17505, 17777, 18115, 18153, 18229, 185...</td>\n",
              "      <td>[7745, 1874, 2753, 2814, 15097, 14765, 4266, 6...</td>\n",
              "      <td>[0, 0, 0]</td>\n",
              "      <td>[0, 0, 0, 0, 0]</td>\n",
              "      <td>[0, 0, 0, 0, 0, 0, 0, 0, 0, 0]</td>\n",
              "    </tr>\n",
              "    <tr>\n",
              "      <th>3</th>\n",
              "      <td>5</td>\n",
              "      <td>[28891, 32182, 17265, 18689, 19647, 20057, 205...</td>\n",
              "      <td>[2542, 14659, 5583, 6220, 22859, 5955, 23617, ...</td>\n",
              "      <td>[0, 0, 0]</td>\n",
              "      <td>[0, 0, 0, 0, 0]</td>\n",
              "      <td>[0, 0, 0, 0, 0, 0, 0, 0, 0, 0]</td>\n",
              "    </tr>\n",
              "    <tr>\n",
              "      <th>4</th>\n",
              "      <td>6</td>\n",
              "      <td>[10719, 10800, 10897, 11285, 12079, 12893, 140...</td>\n",
              "      <td>[1874, 2753, 7745, 6657, 4439, 1619, 13967, 41...</td>\n",
              "      <td>[0, 0, 0]</td>\n",
              "      <td>[0, 0, 0, 0, 0]</td>\n",
              "      <td>[0, 0, 0, 0, 0, 0, 0, 0, 0, 0]</td>\n",
              "    </tr>\n",
              "    <tr>\n",
              "      <th>5</th>\n",
              "      <td>7</td>\n",
              "      <td>[23421, 28497, 31043, 22273, 23289, 23383, 237...</td>\n",
              "      <td>[14765, 660, 2814, 2753, 3298, 17267, 13405, 1...</td>\n",
              "      <td>[0, 0, 0]</td>\n",
              "      <td>[0, 0, 0, 0, 0]</td>\n",
              "      <td>[0, 0, 0, 0, 0, 0, 0, 0, 0, 0]</td>\n",
              "    </tr>\n",
              "    <tr>\n",
              "      <th>6</th>\n",
              "      <td>8</td>\n",
              "      <td>[11757, 13759, 15583, 11241]</td>\n",
              "      <td>[14765, 2655, 17163, 1671, 17267, 11371, 13251...</td>\n",
              "      <td>[0, 0, 0]</td>\n",
              "      <td>[0, 0, 0, 0]</td>\n",
              "      <td>[0, 0, 0, 0]</td>\n",
              "    </tr>\n",
              "    <tr>\n",
              "      <th>7</th>\n",
              "      <td>11</td>\n",
              "      <td>[6351, 12355, 16498, 18153, 18679, 22265, 2325...</td>\n",
              "      <td>[16199, 102, 644, 450, 21451, 7117, 3977, 848,...</td>\n",
              "      <td>[0, 0, 0]</td>\n",
              "      <td>[0, 0, 0, 0, 0]</td>\n",
              "      <td>[0, 0, 0, 0, 0, 0, 0, 0, 0, 0]</td>\n",
              "    </tr>\n",
              "    <tr>\n",
              "      <th>8</th>\n",
              "      <td>12</td>\n",
              "      <td>[9253, 16498, 6573, 7338, 8888, 11757, 8074]</td>\n",
              "      <td>[1874, 2753, 7745, 6657, 1619, 4439, 13967, 41...</td>\n",
              "      <td>[0, 0, 0]</td>\n",
              "      <td>[0, 0, 0, 0, 0]</td>\n",
              "      <td>[0, 0, 0, 0, 0, 0, 0]</td>\n",
              "    </tr>\n",
              "    <tr>\n",
              "      <th>9</th>\n",
              "      <td>13</td>\n",
              "      <td>[12413, 12623, 12883, 12893, 13053, 13331, 134...</td>\n",
              "      <td>[13153, 2967, 6245, 9005, 21409, 17020, 1806, ...</td>\n",
              "      <td>[0, 0, 0]</td>\n",
              "      <td>[0, 0, 0, 0, 0]</td>\n",
              "      <td>[0, 0, 0, 0, 0, 0, 0, 0, 0, 0]</td>\n",
              "    </tr>\n",
              "  </tbody>\n",
              "</table>\n",
              "</div>\n",
              "      <button class=\"colab-df-convert\" onclick=\"convertToInteractive('df-55eca356-2bba-4db6-ba2d-5ade607d7bc9')\"\n",
              "              title=\"Convert this dataframe to an interactive table.\"\n",
              "              style=\"display:none;\">\n",
              "        \n",
              "  <svg xmlns=\"http://www.w3.org/2000/svg\" height=\"24px\"viewBox=\"0 0 24 24\"\n",
              "       width=\"24px\">\n",
              "    <path d=\"M0 0h24v24H0V0z\" fill=\"none\"/>\n",
              "    <path d=\"M18.56 5.44l.94 2.06.94-2.06 2.06-.94-2.06-.94-.94-2.06-.94 2.06-2.06.94zm-11 1L8.5 8.5l.94-2.06 2.06-.94-2.06-.94L8.5 2.5l-.94 2.06-2.06.94zm10 10l.94 2.06.94-2.06 2.06-.94-2.06-.94-.94-2.06-.94 2.06-2.06.94z\"/><path d=\"M17.41 7.96l-1.37-1.37c-.4-.4-.92-.59-1.43-.59-.52 0-1.04.2-1.43.59L10.3 9.45l-7.72 7.72c-.78.78-.78 2.05 0 2.83L4 21.41c.39.39.9.59 1.41.59.51 0 1.02-.2 1.41-.59l7.78-7.78 2.81-2.81c.8-.78.8-2.07 0-2.86zM5.41 20L4 18.59l7.72-7.72 1.47 1.35L5.41 20z\"/>\n",
              "  </svg>\n",
              "      </button>\n",
              "      \n",
              "  <style>\n",
              "    .colab-df-container {\n",
              "      display:flex;\n",
              "      flex-wrap:wrap;\n",
              "      gap: 12px;\n",
              "    }\n",
              "\n",
              "    .colab-df-convert {\n",
              "      background-color: #E8F0FE;\n",
              "      border: none;\n",
              "      border-radius: 50%;\n",
              "      cursor: pointer;\n",
              "      display: none;\n",
              "      fill: #1967D2;\n",
              "      height: 32px;\n",
              "      padding: 0 0 0 0;\n",
              "      width: 32px;\n",
              "    }\n",
              "\n",
              "    .colab-df-convert:hover {\n",
              "      background-color: #E2EBFA;\n",
              "      box-shadow: 0px 1px 2px rgba(60, 64, 67, 0.3), 0px 1px 3px 1px rgba(60, 64, 67, 0.15);\n",
              "      fill: #174EA6;\n",
              "    }\n",
              "\n",
              "    [theme=dark] .colab-df-convert {\n",
              "      background-color: #3B4455;\n",
              "      fill: #D2E3FC;\n",
              "    }\n",
              "\n",
              "    [theme=dark] .colab-df-convert:hover {\n",
              "      background-color: #434B5C;\n",
              "      box-shadow: 0px 1px 3px 1px rgba(0, 0, 0, 0.15);\n",
              "      filter: drop-shadow(0px 1px 2px rgba(0, 0, 0, 0.3));\n",
              "      fill: #FFFFFF;\n",
              "    }\n",
              "  </style>\n",
              "\n",
              "      <script>\n",
              "        const buttonEl =\n",
              "          document.querySelector('#df-55eca356-2bba-4db6-ba2d-5ade607d7bc9 button.colab-df-convert');\n",
              "        buttonEl.style.display =\n",
              "          google.colab.kernel.accessAllowed ? 'block' : 'none';\n",
              "\n",
              "        async function convertToInteractive(key) {\n",
              "          const element = document.querySelector('#df-55eca356-2bba-4db6-ba2d-5ade607d7bc9');\n",
              "          const dataTable =\n",
              "            await google.colab.kernel.invokeFunction('convertToInteractive',\n",
              "                                                     [key], {});\n",
              "          if (!dataTable) return;\n",
              "\n",
              "          const docLinkHtml = 'Like what you see? Visit the ' +\n",
              "            '<a target=\"_blank\" href=https://colab.research.google.com/notebooks/data_table.ipynb>data table notebook</a>'\n",
              "            + ' to learn more about interactive tables.';\n",
              "          element.innerHTML = '';\n",
              "          dataTable['output_type'] = 'display_data';\n",
              "          await google.colab.output.renderOutput(dataTable, element);\n",
              "          const docLink = document.createElement('div');\n",
              "          docLink.innerHTML = docLinkHtml;\n",
              "          element.appendChild(docLink);\n",
              "        }\n",
              "      </script>\n",
              "    </div>\n",
              "  </div>\n",
              "  "
            ]
          },
          "metadata": {},
          "execution_count": 69
        }
      ],
      "source": [
        "test_result.head(10)"
      ]
    },
    {
      "cell_type": "code",
      "execution_count": null,
      "metadata": {
        "id": "gaxburr3Heoi"
      },
      "outputs": [],
      "source": [
        "score_results = pd.DataFrame(index=['top_3', 'top_5', 'top_10'], columns=['MRR', 'MAP@K', 'NDCG@k'])"
      ]
    },
    {
      "cell_type": "code",
      "execution_count": null,
      "metadata": {
        "id": "hhHRi-wPHeoi"
      },
      "outputs": [],
      "source": [
        "for top in [3, 5, 10]:\n",
        "    score_results.loc['top_'+str(top), 'MAP@K'] = mean_reciprocal_rank(list(test_result['top_'+str(top)].values))\n",
        "    score_results.loc['top_'+str(top), 'MRR'] = mean_average_precision(list(test_result['top_'+str(top)].values))\n",
        "    score_results.loc['top_'+str(top), 'NDCG@k'] = np.mean([ndcg_at_k(i, top) for i in list(test_result['top_'+str(top)].values)])"
      ]
    },
    {
      "cell_type": "code",
      "execution_count": null,
      "metadata": {
        "colab": {
          "base_uri": "https://localhost:8080/",
          "height": 143
        },
        "id": "WGRIAl5rHeoj",
        "outputId": "ef667c87-6ffe-41bf-956e-8ee9be4be43b"
      },
      "outputs": [
        {
          "output_type": "execute_result",
          "data": {
            "text/plain": [
              "             MRR     MAP@K    NDCG@k\n",
              "top_3   0.000326  0.000326  0.000326\n",
              "top_5   0.000651  0.000651  0.000814\n",
              "top_10  0.002502  0.002506  0.003819"
            ],
            "text/html": [
              "\n",
              "  <div id=\"df-4f923802-b09a-46da-bf0f-ed716a617a6f\">\n",
              "    <div class=\"colab-df-container\">\n",
              "      <div>\n",
              "<style scoped>\n",
              "    .dataframe tbody tr th:only-of-type {\n",
              "        vertical-align: middle;\n",
              "    }\n",
              "\n",
              "    .dataframe tbody tr th {\n",
              "        vertical-align: top;\n",
              "    }\n",
              "\n",
              "    .dataframe thead th {\n",
              "        text-align: right;\n",
              "    }\n",
              "</style>\n",
              "<table border=\"1\" class=\"dataframe\">\n",
              "  <thead>\n",
              "    <tr style=\"text-align: right;\">\n",
              "      <th></th>\n",
              "      <th>MRR</th>\n",
              "      <th>MAP@K</th>\n",
              "      <th>NDCG@k</th>\n",
              "    </tr>\n",
              "  </thead>\n",
              "  <tbody>\n",
              "    <tr>\n",
              "      <th>top_3</th>\n",
              "      <td>0.000326</td>\n",
              "      <td>0.000326</td>\n",
              "      <td>0.000326</td>\n",
              "    </tr>\n",
              "    <tr>\n",
              "      <th>top_5</th>\n",
              "      <td>0.000651</td>\n",
              "      <td>0.000651</td>\n",
              "      <td>0.000814</td>\n",
              "    </tr>\n",
              "    <tr>\n",
              "      <th>top_10</th>\n",
              "      <td>0.002502</td>\n",
              "      <td>0.002506</td>\n",
              "      <td>0.003819</td>\n",
              "    </tr>\n",
              "  </tbody>\n",
              "</table>\n",
              "</div>\n",
              "      <button class=\"colab-df-convert\" onclick=\"convertToInteractive('df-4f923802-b09a-46da-bf0f-ed716a617a6f')\"\n",
              "              title=\"Convert this dataframe to an interactive table.\"\n",
              "              style=\"display:none;\">\n",
              "        \n",
              "  <svg xmlns=\"http://www.w3.org/2000/svg\" height=\"24px\"viewBox=\"0 0 24 24\"\n",
              "       width=\"24px\">\n",
              "    <path d=\"M0 0h24v24H0V0z\" fill=\"none\"/>\n",
              "    <path d=\"M18.56 5.44l.94 2.06.94-2.06 2.06-.94-2.06-.94-.94-2.06-.94 2.06-2.06.94zm-11 1L8.5 8.5l.94-2.06 2.06-.94-2.06-.94L8.5 2.5l-.94 2.06-2.06.94zm10 10l.94 2.06.94-2.06 2.06-.94-2.06-.94-.94-2.06-.94 2.06-2.06.94z\"/><path d=\"M17.41 7.96l-1.37-1.37c-.4-.4-.92-.59-1.43-.59-.52 0-1.04.2-1.43.59L10.3 9.45l-7.72 7.72c-.78.78-.78 2.05 0 2.83L4 21.41c.39.39.9.59 1.41.59.51 0 1.02-.2 1.41-.59l7.78-7.78 2.81-2.81c.8-.78.8-2.07 0-2.86zM5.41 20L4 18.59l7.72-7.72 1.47 1.35L5.41 20z\"/>\n",
              "  </svg>\n",
              "      </button>\n",
              "      \n",
              "  <style>\n",
              "    .colab-df-container {\n",
              "      display:flex;\n",
              "      flex-wrap:wrap;\n",
              "      gap: 12px;\n",
              "    }\n",
              "\n",
              "    .colab-df-convert {\n",
              "      background-color: #E8F0FE;\n",
              "      border: none;\n",
              "      border-radius: 50%;\n",
              "      cursor: pointer;\n",
              "      display: none;\n",
              "      fill: #1967D2;\n",
              "      height: 32px;\n",
              "      padding: 0 0 0 0;\n",
              "      width: 32px;\n",
              "    }\n",
              "\n",
              "    .colab-df-convert:hover {\n",
              "      background-color: #E2EBFA;\n",
              "      box-shadow: 0px 1px 2px rgba(60, 64, 67, 0.3), 0px 1px 3px 1px rgba(60, 64, 67, 0.15);\n",
              "      fill: #174EA6;\n",
              "    }\n",
              "\n",
              "    [theme=dark] .colab-df-convert {\n",
              "      background-color: #3B4455;\n",
              "      fill: #D2E3FC;\n",
              "    }\n",
              "\n",
              "    [theme=dark] .colab-df-convert:hover {\n",
              "      background-color: #434B5C;\n",
              "      box-shadow: 0px 1px 3px 1px rgba(0, 0, 0, 0.15);\n",
              "      filter: drop-shadow(0px 1px 2px rgba(0, 0, 0, 0.3));\n",
              "      fill: #FFFFFF;\n",
              "    }\n",
              "  </style>\n",
              "\n",
              "      <script>\n",
              "        const buttonEl =\n",
              "          document.querySelector('#df-4f923802-b09a-46da-bf0f-ed716a617a6f button.colab-df-convert');\n",
              "        buttonEl.style.display =\n",
              "          google.colab.kernel.accessAllowed ? 'block' : 'none';\n",
              "\n",
              "        async function convertToInteractive(key) {\n",
              "          const element = document.querySelector('#df-4f923802-b09a-46da-bf0f-ed716a617a6f');\n",
              "          const dataTable =\n",
              "            await google.colab.kernel.invokeFunction('convertToInteractive',\n",
              "                                                     [key], {});\n",
              "          if (!dataTable) return;\n",
              "\n",
              "          const docLinkHtml = 'Like what you see? Visit the ' +\n",
              "            '<a target=\"_blank\" href=https://colab.research.google.com/notebooks/data_table.ipynb>data table notebook</a>'\n",
              "            + ' to learn more about interactive tables.';\n",
              "          element.innerHTML = '';\n",
              "          dataTable['output_type'] = 'display_data';\n",
              "          await google.colab.output.renderOutput(dataTable, element);\n",
              "          const docLink = document.createElement('div');\n",
              "          docLink.innerHTML = docLinkHtml;\n",
              "          element.appendChild(docLink);\n",
              "        }\n",
              "      </script>\n",
              "    </div>\n",
              "  </div>\n",
              "  "
            ]
          },
          "metadata": {},
          "execution_count": 155
        }
      ],
      "source": [
        "score_results"
      ]
    },
    {
      "cell_type": "markdown",
      "source": [
        "Значения метрик получились в несколько раз выше, чем у предыдущего решения задачи"
      ],
      "metadata": {
        "id": "Sr3eBJWexRBC"
      }
    },
    {
      "cell_type": "markdown",
      "source": [
        "### Задание №6 Решить задачу на основе контент-based подхода, выбрав один из методов решения (2 балла):\n",
        "\n",
        "* На основание векторов с факторизационной матрицы\n",
        "* При помощи \"ембеддингов\"  item'ов"
      ],
      "metadata": {
        "id": "BG90KINYU08M"
      }
    },
    {
      "cell_type": "markdown",
      "source": [
        "Будем использовать embedding'и item'ов"
      ],
      "metadata": {
        "id": "CDEIRcxtILtQ"
      }
    },
    {
      "cell_type": "markdown",
      "source": [
        "#### Подготовка данных"
      ],
      "metadata": {
        "id": "S9PekJ5iV68g"
      }
    },
    {
      "cell_type": "code",
      "source": [
        "import random\n",
        "import scipy.sparse as sp"
      ],
      "metadata": {
        "id": "dOU9tqquh6ZW"
      },
      "execution_count": null,
      "outputs": []
    },
    {
      "cell_type": "code",
      "execution_count": null,
      "metadata": {
        "colab": {
          "base_uri": "https://localhost:8080/"
        },
        "id": "pjjHyM1MYlAy",
        "outputId": "0fe6061c-ec1f-43be-fbff-199c088aa908"
      },
      "outputs": [
        {
          "output_type": "stream",
          "name": "stdout",
          "text": [
            "Rating table after min filtering 776688\n"
          ]
        }
      ],
      "source": [
        "USER_MIN_RATE = 10\n",
        "rating_df_filtered = rating_df.groupby('user_id').filter(lambda x: len(x)>=USER_MIN_RATE)\n",
        "print('Rating table after min filtering', rating_df_filtered.shape[0])"
      ]
    },
    {
      "cell_type": "markdown",
      "source": [
        "Переименуем -1 в 11 для решения задачи классификации"
      ],
      "metadata": {
        "id": "uWB0pZzvr2Ml"
      }
    },
    {
      "cell_type": "code",
      "source": [
        "rating_df_filtered.loc[(rating_df_filtered.rating == -1), 'rating'] = 11"
      ],
      "metadata": {
        "id": "YLuCaH9RXd0s"
      },
      "execution_count": null,
      "outputs": []
    },
    {
      "cell_type": "markdown",
      "source": [
        "* train_data - все записи о каждом пользователе, кроме последней\n",
        "* test_data - последняя запись о каждом пользователе\n",
        "* test_data_negative_list - по 100 списков [user_id, item_id] для каждого пользователя. Первые 10 списков с аниме, которые смотрел пользователь и положительно оценил, остальные 90 - с аниме, которые пользователь не смотрел"
      ],
      "metadata": {
        "id": "2Ich4NyYz5zo"
      }
    },
    {
      "cell_type": "code",
      "source": [
        "train_data = pd.DataFrame()\n",
        "test_data = pd.DataFrame()\n",
        "test_data_negative_list = []\n",
        "\n",
        "film_ids = pd.unique(rating_df_filtered['anime_id'])\n",
        "\n",
        "for user in rating_df_filtered.user_id.unique():\n",
        "    temp_table = rating_df_filtered[rating_df_filtered.user_id == user]\n",
        "\n",
        "    '''train_data = train_data.append(temp_table.iloc[:temp_table.shape[0]-10, :])\n",
        "    test_data = test_data.append(temp_table.iloc[temp_table.shape[0]-1:, :], ignore_index=True)'''\n",
        "\n",
        "    top_user_ratings = temp_table[temp_table.rating < 11][temp_table.rating >= 6].sort_values(by=['rating'], ascending = False) # сохраняем рейтинги пользователя больше 6\n",
        "\n",
        "    cnt = temp_table.shape[0]\n",
        "    size_train = round(cnt*0.7, 0)\n",
        "\n",
        "    test_part = top_user_ratings.iloc[::3,:] # в тест сохраняем каждый 3ий рейтинг\n",
        "    train_part = top_user_ratings[~top_user_ratings.index.isin(test_part.index)] # в трейн все остальные рейтинги выше 6\n",
        "\n",
        "    # теперь добавляем остальные рейтинги из df пользователя в test и train таким образом, чтобы в train и test не было одинаковых строк\n",
        "    test_part = test_part.append(temp_table[~temp_table.index.isin(test_part.append(train_part).index)][int(size_train):])\n",
        "    train_part = train_part.append(temp_table[~temp_table.index.isin(test_part.append(train_part).index)])\n",
        "\n",
        "    train_data = train_data.append(train_part)\n",
        "    test_data = test_data.append(test_part)\n",
        "    test_data_negative_list += test_part.values[:10, :2].tolist()\n",
        "\n",
        "    user_anime = pd.unique(temp_table['anime_id']) # аниме пользователя\n",
        "    negative_films = np.unique(np.concatenate((user_anime, film_ids))) # все аниме которые не смотрел пользователь\n",
        "\n",
        "    for i in range(90):\n",
        "        random_anime = random.choice(negative_films) # фильм который не смотрел данный пользователь\n",
        "        test_data_negative_list.append([user, random_anime])\n",
        "\n",
        "        np.delete(negative_films, np.argwhere(negative_films==random_anime))\n",
        "    \n",
        "    if train_part.append(test_part).drop_duplicates().shape[0] != temp_table.shape[0]:\n",
        "        print(user)"
      ],
      "metadata": {
        "id": "kVx7KeM5U8QS",
        "colab": {
          "base_uri": "https://localhost:8080/"
        },
        "outputId": "b70df797-7bed-4755-f868-7eb86d5fdbac"
      },
      "execution_count": null,
      "outputs": [
        {
          "output_type": "stream",
          "name": "stderr",
          "text": [
            "/usr/local/lib/python3.7/dist-packages/ipykernel_launcher.py:13: UserWarning: Boolean Series key will be reindexed to match DataFrame index.\n",
            "  del sys.path[0]\n"
          ]
        }
      ]
    },
    {
      "cell_type": "code",
      "source": [
        "rating_df_filtered.anime_id.nunique(), train_data.anime_id.nunique()"
      ],
      "metadata": {
        "colab": {
          "base_uri": "https://localhost:8080/"
        },
        "id": "JlVmw02IoJx9",
        "outputId": "f54c2e60-dd76-4768-e49c-3ba088c03aa5"
      },
      "execution_count": null,
      "outputs": [
        {
          "output_type": "execute_result",
          "data": {
            "text/plain": [
              "(8014, 7691)"
            ]
          },
          "metadata": {},
          "execution_count": 279
        }
      ]
    },
    {
      "cell_type": "markdown",
      "source": [
        "id пользователей и аниме идут не по порядку, что сделает матрицу для обучения еще более разряженной. Пронумеруем все id"
      ],
      "metadata": {
        "id": "mrvHNCdg4xmg"
      }
    },
    {
      "cell_type": "code",
      "execution_count": null,
      "metadata": {
        "id": "GiNXgWkrmPKz"
      },
      "outputs": [],
      "source": [
        "id2user = {key: value for key, value in enumerate(rating_df_filtered.user_id.unique())}\n",
        "id2items = {key: value for key, value in enumerate(rating_df_filtered.anime_id.unique())} # Get our unique products that were purchased\n",
        "rating = list(rating_df_filtered.rating) # All of our purchases"
      ]
    },
    {
      "cell_type": "code",
      "execution_count": null,
      "metadata": {
        "id": "4LGkh0eYmPK0"
      },
      "outputs": [],
      "source": [
        "user2id  = {value:key for key, value in id2user.items()}\n",
        "items2id  = {value:key for key, value in id2items.items()}"
      ]
    },
    {
      "cell_type": "code",
      "source": [
        "user_num = rating_df_filtered['user_id'].nunique()\n",
        "item_num = rating_df_filtered['anime_id'].nunique()"
      ],
      "metadata": {
        "id": "zl_a7hFFl-dB"
      },
      "execution_count": null,
      "outputs": []
    },
    {
      "cell_type": "code",
      "source": [
        "train_data_users = train_data['user_id'].tolist()\n",
        "train_data_items = train_data['anime_id'].tolist()\n",
        "train_data_ratings = train_data['rating'].tolist()\n",
        "\n",
        "train_data_list = []\n",
        "test_data_list = []\n",
        "\n",
        "for i in range(train_data.shape[0]):\n",
        "    train_data_list.append([user2id[train_data_users[i]], items2id[train_data_items[i]], train_data_ratings[i]])\n",
        "    \n",
        "for i in range(len(test_data_negative_list)):\n",
        "    test_data_list.append([user2id[test_data_negative_list[i][0]], items2id[test_data_negative_list[i][1]]])"
      ],
      "metadata": {
        "id": "c2prpvyinvMb"
      },
      "execution_count": null,
      "outputs": []
    },
    {
      "cell_type": "markdown",
      "source": [
        "Создадим матрицу для тренировки"
      ],
      "metadata": {
        "id": "VIdYRTyVsyUV"
      }
    },
    {
      "cell_type": "code",
      "execution_count": null,
      "metadata": {
        "id": "oXBCXBINVsao"
      },
      "outputs": [],
      "source": [
        "train_mat = sp.dok_matrix((user_num, item_num), dtype=np.float32)\n",
        "for x in train_data_list:\n",
        "    if x[1] >= item_num:\n",
        "        print(x)\n",
        "    train_mat[x[0], x[1]] = x[2]"
      ]
    },
    {
      "cell_type": "markdown",
      "source": [
        "Решим задачу с помощью нейронной модели матричной факторизации (NCF), которая объединяет Generalized Matrix Factorization (GMF) и Multi-Layer Perceptron (MLP), объединяя в себе сильные стороны линейности MF и нелинейности MLP для моделирования скрытых структур user-item."
      ],
      "metadata": {
        "id": "tWPWW0UvZrRI"
      }
    },
    {
      "cell_type": "code",
      "execution_count": null,
      "metadata": {
        "id": "Kf3YMxJwVsaq",
        "outputId": "8a320a8c-e7c3-4261-a8b8-26c9fd367b6c",
        "colab": {
          "base_uri": "https://localhost:8080/"
        }
      },
      "outputs": [
        {
          "output_type": "stream",
          "name": "stdout",
          "text": [
            "cpu\n"
          ]
        }
      ],
      "source": [
        "import torch\n",
        "import torch.nn as nn\n",
        "import torch.nn.functional as F \n",
        "import torch.optim as optim\n",
        "import torch.utils.data as data\n",
        "\n",
        "DEVICE = torch.device(\"cuda\" if torch.cuda.is_available() else \"cpu\")\n",
        "print(DEVICE)"
      ]
    },
    {
      "cell_type": "code",
      "execution_count": null,
      "metadata": {
        "id": "9FYIk9ibVsaq"
      },
      "outputs": [],
      "source": [
        "class NCFData(data.Dataset):\n",
        "    \n",
        "    def __init__(self, features, num_item, train_mat=None, num_ng=0, is_training=None):\n",
        "        super(NCFData, self).__init__()\n",
        "\n",
        "        self.features_ps = features\n",
        "        self.num_item = num_item\n",
        "        self.train_mat = train_mat\n",
        "        self.num_ng = num_ng\n",
        "        self.is_training = is_training\n",
        "        self.labels = [0 for _ in range(len(features))] # Нужны только для обучения в ф-и ng_sample(). В тесте не используются.\n",
        "\n",
        "    \n",
        "    def ng_sample(self):\n",
        "        # добавляем фильмы, которые пользователь не смотрел.\n",
        "        # это нужно для примеров 0-го класса при обучении.\n",
        "        \n",
        "        assert self.is_training, 'no need to sampling when testing'\n",
        "\n",
        "        self.features_ng = []\n",
        "        for x in self.features_ps:\n",
        "            u = x[0]\n",
        "            for t in range(self.num_ng):\n",
        "                j = np.random.randint(self.num_item)\n",
        "                while (u, j) in self.train_mat:\n",
        "                    j = np.random.randint(self.num_item)\n",
        "                self.features_ng.append([u, j])\n",
        "\n",
        "        # тру метрки классов\n",
        "        labels_ps = [self.features_ps[i][2] for i in range(len(self.features_ps))]\n",
        "        labels_ng = [0 for _ in range(len(self.features_ng))]\n",
        "\n",
        "        self.features_fill = self.features_ps + self.features_ng\n",
        "        self.labels_fill = labels_ps + labels_ng\n",
        "\n",
        "    \n",
        "    def __len__(self):\n",
        "        return (self.num_ng + 1) * len(self.labels)\n",
        "\n",
        "    \n",
        "    def __getitem__(self, idx):\n",
        "        \n",
        "        features = self.features_fill if self.is_training \\\n",
        "                    else self.features_ps\n",
        "        labels = self.labels_fill if self.is_training \\\n",
        "                    else self.labels\n",
        "\n",
        "        user = features[idx][0]\n",
        "        item = features[idx][1]\n",
        "        label = labels[idx]          \n",
        "        return user, item ,label"
      ]
    },
    {
      "cell_type": "code",
      "execution_count": null,
      "metadata": {
        "id": "e3MrwpWGVsaq"
      },
      "outputs": [],
      "source": [
        "train_dataset = NCFData(train_data_list, item_num, train_mat, num_ng=1, is_training=True)\n",
        "test_dataset  = NCFData(test_data_list, item_num, train_mat, num_ng=0, is_training=False)"
      ]
    },
    {
      "cell_type": "code",
      "source": [
        "train_loader = data.DataLoader(train_dataset, batch_size=256, shuffle=True, num_workers=2)\n",
        "test_loader  = data.DataLoader(test_dataset,  batch_size=100, shuffle=False, num_workers=0) "
      ],
      "metadata": {
        "id": "MGSqy11A9eNM"
      },
      "execution_count": null,
      "outputs": []
    },
    {
      "cell_type": "markdown",
      "source": [
        "#### Модель"
      ],
      "metadata": {
        "id": "YNgjlFd_9p1N"
      }
    },
    {
      "cell_type": "code",
      "execution_count": null,
      "metadata": {
        "id": "LlqchGG_4Nur"
      },
      "outputs": [],
      "source": [
        "class NCF(nn.Module):\n",
        "    def __init__(self, user_num, item_num, factor_num, num_layers,\n",
        "                    dropout, model, GMF_model=None, MLP_model=None):\n",
        "        super(NCF, self).__init__()\n",
        "        \n",
        "        \"\"\"\n",
        "        user_num: number of users;\n",
        "        item_num: number of items;\n",
        "        factor_num: number of predictive factors;\n",
        "        num_layers: the number of layers in MLP model;\n",
        "        dropout: dropout rate between fully connected layers;\n",
        "        model: 'MLP', 'GMF', 'NeuMF-end', and 'NeuMF-pre';\n",
        "        GMF_model: pre-trained GMF weights;\n",
        "        MLP_model: pre-trained MLP weights.\n",
        "        \"\"\"        \n",
        "        \n",
        "        self.dropout = dropout\n",
        "        self.model = model\n",
        "        self.GMF_model = GMF_model\n",
        "        self.MLP_model = MLP_model\n",
        "\n",
        "        self.embed_user_GMF = nn.Embedding(user_num, factor_num)\n",
        "        self.embed_item_GMF = nn.Embedding(item_num, factor_num)\n",
        "        \n",
        "        self.embed_user_MLP = nn.Embedding(user_num, factor_num * (2 ** (num_layers - 1)))\n",
        "        self.embed_item_MLP = nn.Embedding(item_num, factor_num * (2 ** (num_layers - 1)))\n",
        "\n",
        "        MLP_modules = []\n",
        "        for i in range(num_layers):\n",
        "            input_size = factor_num * (2 ** (num_layers - i))\n",
        "            MLP_modules.append(nn.Dropout(p=self.dropout))\n",
        "            MLP_modules.append(nn.Linear(input_size, input_size//2))\n",
        "            MLP_modules.append(nn.ReLU())\n",
        "        self.MLP_layers = nn.Sequential(*MLP_modules)\n",
        "\n",
        "        if self.model in ['MLP', 'GMF']:\n",
        "            predict_size = factor_num \n",
        "        else:\n",
        "            predict_size = factor_num * 2\n",
        "        self.predict_layer = nn.Linear(predict_size, 12)\n",
        "        self.softmax = nn.Softmax(dim=1)\n",
        "\n",
        "        self._init_weight_()\n",
        "\n",
        "    \n",
        "    def _init_weight_(self):\n",
        "        \n",
        "        \"\"\" We leave the weights initialization here. \"\"\"\n",
        "        \n",
        "        if not self.model == 'NeuMF-pre':\n",
        "            nn.init.normal_(self.embed_user_GMF.weight, std=0.01)\n",
        "            nn.init.normal_(self.embed_user_MLP.weight, std=0.01)\n",
        "            nn.init.normal_(self.embed_item_GMF.weight, std=0.01)\n",
        "            nn.init.normal_(self.embed_item_MLP.weight, std=0.01)\n",
        "\n",
        "            for m in self.MLP_layers:\n",
        "                if isinstance(m, nn.Linear):\n",
        "                    nn.init.xavier_uniform_(m.weight)\n",
        "            \n",
        "            nn.init.kaiming_uniform_(self.predict_layer.weight, a=1, nonlinearity='sigmoid')\n",
        "\n",
        "            for m in self.modules():\n",
        "                if isinstance(m, nn.Linear) and m.bias is not None:\n",
        "                    m.bias.data.zero_()\n",
        "        else:\n",
        "            # embedding layers\n",
        "            self.embed_user_GMF.weight.data.copy_(self.GMF_model.embed_user_GMF.weight)\n",
        "            self.embed_item_GMF.weight.data.copy_(self.GMF_model.embed_item_GMF.weight)\n",
        "            self.embed_user_MLP.weight.data.copy_(self.MLP_model.embed_user_MLP.weight)\n",
        "            self.embed_item_MLP.weight.data.copy_(self.MLP_model.embed_item_MLP.weight)\n",
        "\n",
        "            # mlp layers\n",
        "            for (m1, m2) in zip(self.MLP_layers, self.MLP_model.MLP_layers):\n",
        "                if isinstance(m1, nn.Linear) and isinstance(m2, nn.Linear):\n",
        "                    m1.weight.data.copy_(m2.weight)\n",
        "                    m1.bias.data.copy_(m2.bias)\n",
        "\n",
        "            # predict layers\n",
        "            predict_weight = torch.cat([\n",
        "                self.GMF_model.predict_layer.weight, \n",
        "                self.MLP_model.predict_layer.weight], dim=1)\n",
        "            \n",
        "            precit_bias = self.GMF_model.predict_layer.bias + self.MLP_model.predict_layer.bias\n",
        "\n",
        "            self.predict_layer.weight.data.copy_(0.5 * predict_weight)\n",
        "            self.predict_layer.bias.data.copy_(0.5 * precit_bias)\n",
        "\n",
        "    \n",
        "    def forward(self, user, item):\n",
        "        \n",
        "        if not self.model == 'MLP':\n",
        "            # print()\n",
        "            embed_user_GMF = self.embed_user_GMF(user)\n",
        "            embed_item_GMF = self.embed_item_GMF(item)\n",
        "            output_GMF = embed_user_GMF * embed_item_GMF\n",
        "            # print(embed_user_GMF.shape, embed_item_GMF.shape, output_GMF.shape)\n",
        "\n",
        "        if not self.model == 'GMF':\n",
        "            embed_user_MLP = self.embed_user_MLP(user)\n",
        "            embed_item_MLP = self.embed_item_MLP(item)\n",
        "            interaction = torch.cat((embed_user_MLP, embed_item_MLP), -1)\n",
        "            output_MLP = self.MLP_layers(interaction)\n",
        "\n",
        "        if self.model == 'GMF':\n",
        "            concat = output_GMF\n",
        "        elif self.model == 'MLP':\n",
        "            concat = output_MLP\n",
        "        else:\n",
        "            concat = torch.cat((output_GMF, output_MLP), -1)\n",
        "\n",
        "        prediction = self.softmax(self.predict_layer(concat))\n",
        "        # print(torch.sum(prediction[0]))\n",
        "        return prediction # prediction.view(-1)"
      ]
    },
    {
      "cell_type": "code",
      "execution_count": null,
      "metadata": {
        "id": "IzIv_TIi4Nus"
      },
      "outputs": [],
      "source": [
        "model = NCF(user_num, item_num, factor_num=32, num_layers=3, dropout=0.0, model='NeuMF-end')\n",
        "model.to(DEVICE)\n",
        "\n",
        "loss_function = nn.CrossEntropyLoss()\n",
        "optimizer = optim.Adam(model.parameters(), lr=0.001)"
      ]
    },
    {
      "cell_type": "code",
      "source": [
        "model"
      ],
      "metadata": {
        "colab": {
          "base_uri": "https://localhost:8080/"
        },
        "id": "aha7O7ITLQdp",
        "outputId": "3b330e36-df66-4e75-83e3-d7bf31259e94"
      },
      "execution_count": null,
      "outputs": [
        {
          "output_type": "execute_result",
          "data": {
            "text/plain": [
              "NCF(\n",
              "  (embed_user_GMF): Embedding(6147, 32)\n",
              "  (embed_item_GMF): Embedding(8014, 32)\n",
              "  (embed_user_MLP): Embedding(6147, 128)\n",
              "  (embed_item_MLP): Embedding(8014, 128)\n",
              "  (MLP_layers): Sequential(\n",
              "    (0): Dropout(p=0.0, inplace=False)\n",
              "    (1): Linear(in_features=256, out_features=128, bias=True)\n",
              "    (2): ReLU()\n",
              "    (3): Dropout(p=0.0, inplace=False)\n",
              "    (4): Linear(in_features=128, out_features=64, bias=True)\n",
              "    (5): ReLU()\n",
              "    (6): Dropout(p=0.0, inplace=False)\n",
              "    (7): Linear(in_features=64, out_features=32, bias=True)\n",
              "    (8): ReLU()\n",
              "  )\n",
              "  (predict_layer): Linear(in_features=64, out_features=12, bias=True)\n",
              "  (softmax): Softmax(dim=1)\n",
              ")"
            ]
          },
          "metadata": {},
          "execution_count": 67
        }
      ]
    },
    {
      "cell_type": "markdown",
      "source": [
        "#### Обучение"
      ],
      "metadata": {
        "id": "pA08vxOm6d2V"
      }
    },
    {
      "cell_type": "code",
      "source": [
        "from IPython.display import clear_output"
      ],
      "metadata": {
        "id": "BzXYdoz_lCE3"
      },
      "execution_count": null,
      "outputs": []
    },
    {
      "cell_type": "code",
      "execution_count": null,
      "metadata": {
        "id": "U3j-yAb-4Nus",
        "outputId": "30475beb-3df5-4cd0-e348-3b7f1e6b4ee2",
        "colab": {
          "base_uri": "https://localhost:8080/",
          "height": 390
        }
      },
      "outputs": [
        {
          "output_type": "display_data",
          "data": {
            "text/plain": [
              "<Figure size 720x360 with 1 Axes>"
            ],
            "image/png": "[encoded data removed]"
          },
          "metadata": {
            "needs_background": "light"
          }
        },
        {
          "output_type": "stream",
          "name": "stdout",
          "text": [
            "CPU times: user 3min 55s, sys: 9.77 s, total: 4min 5s\n",
            "Wall time: 4min 15s\n"
          ]
        }
      ],
      "source": [
        "%%time\n",
        "\n",
        "loss_val = []\n",
        "\n",
        "for epoch in range(2):\n",
        "    \n",
        "    # Train\n",
        "    model.train()\n",
        "    train_loader.dataset.ng_sample()\n",
        "\n",
        "    for user, item, label in train_loader:\n",
        "        user = user.to(DEVICE)\n",
        "        item = item.to(DEVICE)\n",
        "        label = label.float().to(DEVICE)\n",
        "\n",
        "        model.zero_grad()\n",
        "        prediction = model(user, item)\n",
        "        loss = loss_function(prediction, label.long())\n",
        "        loss.backward()\n",
        "        optimizer.step()\n",
        "        \n",
        "        \n",
        "        # Plot learning curve\n",
        "        loss_val.append(loss.cpu().detach().numpy())\n",
        "        \n",
        "        if len(loss_val) % 100 != 0: continue\n",
        "        \n",
        "        clear_output(wait=True)\n",
        "        plt.figure(figsize=(10, 5))\n",
        "        plt.plot(loss_val)\n",
        "        plt.xlabel(\"Number of iterations\", size=14)\n",
        "        plt.ylabel(\"Loss\", size=14)\n",
        "        plt.title(\"Epoch number: \"+str(epoch+1), size=14)\n",
        "        plt.show()"
      ]
    },
    {
      "cell_type": "markdown",
      "source": [
        "Словарь id2target потребуется дальше"
      ],
      "metadata": {
        "id": "WXw9nVmL2kIf"
      }
    },
    {
      "cell_type": "code",
      "source": [
        "id2target = {11:torch.tensor([-1]), 0:torch.tensor([0]), 1: torch.tensor([1]), 2:torch.tensor([2]),\n",
        "             3:torch.tensor([3]), 4:torch.tensor([4]), 5:torch.tensor([5]), 6:torch.tensor([6]), 7:torch.tensor([7]),\n",
        "            8: torch.tensor([8]), 9:torch.tensor([9]), 10:torch.tensor([10])}"
      ],
      "metadata": {
        "id": "6ZvKbsi4LmA7"
      },
      "execution_count": null,
      "outputs": []
    },
    {
      "cell_type": "code",
      "source": [
        "def are_elements_equal(true, pred):\n",
        "    result = []\n",
        "    for i in range(len(true)):\n",
        "        if true[i] == pred[i]:\n",
        "            result.append(1)\n",
        "        else:\n",
        "            result.append(0)\n",
        "\n",
        "    return result"
      ],
      "metadata": {
        "id": "Q1h4W7gfpmi5"
      },
      "execution_count": null,
      "outputs": []
    },
    {
      "cell_type": "code",
      "source": [
        "def predict(model, test_loader, top_k):\n",
        "    top_10_list = []\n",
        "\n",
        "    # i=0\n",
        "    for user, item, label in test_loader:\n",
        "        \n",
        "        ### YOUR CODE HERE ####\n",
        "        user = user.to(DEVICE)\n",
        "        item = item.to(DEVICE)\n",
        "        # print(user, item)\n",
        "        # print(label)\n",
        "        predictions = torch.argmax(model(user, item), dim=1) # предсказанные метки классов \n",
        "        pred_ratings = torch.tensor([]) # предсказанные классы\n",
        "        for j in predictions:\n",
        "            pred_ratings = torch.cat((pred_ratings, id2target[j.item()]), dim=0)\n",
        "       \n",
        "        _, indices = torch.topk(pred_ratings, top_k) # индексы 10ти наибольших элементов\n",
        "        recommends = torch.take(item, indices).cpu().numpy().tolist() # аниме с наибольшими рейтингами\n",
        "        items = item.cpu().numpy().tolist()[:top_k] # 10 аниме, которые посмотрел и положительно оценил пользователь\n",
        "        \n",
        "        top_10_list.append(are_elements_equal(items, recommends))\n",
        "\n",
        "    return top_10_list"
      ],
      "metadata": {
        "id": "Y4kZovhOpHyD"
      },
      "execution_count": null,
      "outputs": []
    },
    {
      "cell_type": "code",
      "source": [
        "model.eval()\n",
        "top_10_list = predict(model, test_loader, top_k=10)\n",
        "# top_10_list"
      ],
      "metadata": {
        "id": "XJ5Ogx9F6lHA"
      },
      "execution_count": null,
      "outputs": []
    },
    {
      "cell_type": "code",
      "source": [
        "print('MAP', mean_average_precision(top_10_list)) # 10 true anime in test\n",
        "print('MRR', mean_reciprocal_rank(top_10_list))\n",
        "print('MEAN NDCG', np.mean([ndcg_at_k(i, 10) for i in top_10_list]))"
      ],
      "metadata": {
        "colab": {
          "base_uri": "https://localhost:8080/"
        },
        "id": "IBK39-tVXpb2",
        "outputId": "605259a2-b11f-4c6e-a912-8a78833ab599"
      },
      "execution_count": null,
      "outputs": [
        {
          "output_type": "stream",
          "name": "stdout",
          "text": [
            "MAP 0.02645394063059471\n",
            "MRR 0.026780860650504383\n",
            "MEAN NDCG 0.03632311840160367\n"
          ]
        }
      ]
    },
    {
      "cell_type": "code",
      "source": [
        "print('MAP', mean_average_precision(top_10_list)) # data leak\n",
        "print('MRR', mean_reciprocal_rank(top_10_list))\n",
        "print('MEAN NDCG', np.mean([ndcg_at_k(i, 10) for i in top_10_list]))"
      ],
      "metadata": {
        "colab": {
          "base_uri": "https://localhost:8080/"
        },
        "id": "1d1nQ9Ul3--a",
        "outputId": "f4903afa-5850-4986-cb8a-e815efa624c9"
      },
      "execution_count": null,
      "outputs": [
        {
          "output_type": "stream",
          "name": "stdout",
          "text": [
            "MAP 0.12942682067133018\n",
            "MRR 0.13244588275090957\n",
            "MEAN NDCG 0.1654874410107285\n"
          ]
        }
      ]
    },
    {
      "cell_type": "code",
      "source": [
        "print('MAP', mean_average_precision(top_10_list)) # 1 true anime in test\n",
        "print('MRR', mean_reciprocal_rank(top_10_list))\n",
        "print('MEAN NDCG', np.mean([ndcg_at_k(i, 10) for i in top_10_list]))"
      ],
      "metadata": {
        "colab": {
          "base_uri": "https://localhost:8080/"
        },
        "id": "3_60iOFvqjOa",
        "outputId": "399576b8-ead0-4ec1-a7dc-28a29f25c656"
      },
      "execution_count": null,
      "outputs": [
        {
          "output_type": "stream",
          "name": "stdout",
          "text": [
            "MAP 0.08180556523894737\n",
            "MRR 0.08326684070949567\n",
            "MEAN NDCG 0.11986329378645615\n"
          ]
        }
      ]
    },
    {
      "cell_type": "markdown",
      "source": [
        "Этот вариант показал значения метрик:\n",
        "* MAP 0.02645394063059471\n",
        "* MRR 0.026780860650504383\n",
        "* MEAN NDCG 0.03632311840160367<br>\n"
      ],
      "metadata": {
        "id": "WIJdg7j6X7W4"
      }
    },
    {
      "cell_type": "markdown",
      "source": [
        "В данном способе модель учится предсказывать не только рейтинг, который поставит пользователь, но и то, посмотрит ли он конкретное аниме вообще. В test_dataloader каждый батч относится к конкретному пользователю. 10 первых аниме в батче пользователь максимально положительно оценил, остальные 90 он не видел. Задачей модели в режиме eval() является правильно определить аниме, которые пользователь хорошо оценил и порекомендовать их. Аниме с высокой оценкой в train и test отличаются, таким образом модель не знает, какие аниме пользователь оценил в test."
      ],
      "metadata": {
        "id": "zuR02hFjaFWo"
      }
    },
    {
      "cell_type": "code",
      "source": [
        "%%shell\n",
        "jupyter nbconvert --to html /content/RS_Vakhrameev.ipynb"
      ],
      "metadata": {
        "id": "I7Lk6zDH4EN9",
        "colab": {
          "base_uri": "https://localhost:8080/"
        },
        "outputId": "7e4def2e-5adb-4db9-c139-b7bbb267ea8f"
      },
      "execution_count": null,
      "outputs": [
        {
          "output_type": "stream",
          "name": "stdout",
          "text": [
            "[NbConvertApp] Converting notebook /content/RS_Vakhrameev.ipynb to html\n",
            "[NbConvertApp] Writing 739685 bytes to /content/RS_Vakhrameev.html\n"
          ]
        },
        {
          "output_type": "execute_result",
          "data": {
            "text/plain": [
              ""
            ]
          },
          "metadata": {},
          "execution_count": 1
        }
      ]
    }
  ]
}